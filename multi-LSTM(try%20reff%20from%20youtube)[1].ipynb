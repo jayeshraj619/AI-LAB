{
 "cells": [
  {
   "cell_type": "markdown",
   "metadata": {
    "colab_type": "text",
    "id": "view-in-github"
   },
   "source": [
    "<a href=\"https://colab.research.google.com/github/jayeshraj619/AI-LAB/blob/master/youtube%20lstm.ipynb\" target=\"_parent\"><img src=\"https://colab.research.google.com/assets/colab-badge.svg\" alt=\"Open In Colab\"/></a>"
   ]
  },
  {
   "cell_type": "code",
   "execution_count": 228,
   "metadata": {
    "id": "qGk5tbpK-lrY"
   },
   "outputs": [],
   "source": [
    "import pandas as pd\n",
    "import numpy as np"
   ]
  },
  {
   "cell_type": "code",
   "execution_count": 229,
   "metadata": {
    "colab": {
     "base_uri": "https://localhost:8080/",
     "height": 424
    },
    "id": "3RZPjIx1AMc6",
    "outputId": "2e063133-bc1d-4caf-aa24-07c18b342971"
   },
   "outputs": [
    {
     "data": {
      "text/html": [
       "\n",
       "  <div id=\"df-e1f60afc-e327-4961-8114-a629a5c53537\">\n",
       "    <div class=\"colab-df-container\">\n",
       "      <div>\n",
       "<style scoped>\n",
       "    .dataframe tbody tr th:only-of-type {\n",
       "        vertical-align: middle;\n",
       "    }\n",
       "\n",
       "    .dataframe tbody tr th {\n",
       "        vertical-align: top;\n",
       "    }\n",
       "\n",
       "    .dataframe thead th {\n",
       "        text-align: right;\n",
       "    }\n",
       "</style>\n",
       "<table border=\"1\" class=\"dataframe\">\n",
       "  <thead>\n",
       "    <tr style=\"text-align: right;\">\n",
       "      <th></th>\n",
       "      <th>date</th>\n",
       "      <th>spi1</th>\n",
       "      <th>l1</th>\n",
       "      <th>min</th>\n",
       "      <th>avg R.HUM</th>\n",
       "    </tr>\n",
       "  </thead>\n",
       "  <tbody>\n",
       "    <tr>\n",
       "      <th>0</th>\n",
       "      <td>01-11-1979</td>\n",
       "      <td>2.145778</td>\n",
       "      <td>1.273802</td>\n",
       "      <td>18.778821</td>\n",
       "      <td>0.660878</td>\n",
       "    </tr>\n",
       "    <tr>\n",
       "      <th>1</th>\n",
       "      <td>01-12-1979</td>\n",
       "      <td>0.889794</td>\n",
       "      <td>2.145778</td>\n",
       "      <td>18.691581</td>\n",
       "      <td>0.672347</td>\n",
       "    </tr>\n",
       "    <tr>\n",
       "      <th>2</th>\n",
       "      <td>01-01-1980</td>\n",
       "      <td>-1.714817</td>\n",
       "      <td>0.889794</td>\n",
       "      <td>20.863300</td>\n",
       "      <td>0.632411</td>\n",
       "    </tr>\n",
       "    <tr>\n",
       "      <th>3</th>\n",
       "      <td>01-02-1980</td>\n",
       "      <td>-1.469306</td>\n",
       "      <td>-1.714817</td>\n",
       "      <td>21.647677</td>\n",
       "      <td>0.680302</td>\n",
       "    </tr>\n",
       "    <tr>\n",
       "      <th>4</th>\n",
       "      <td>01-03-1980</td>\n",
       "      <td>-1.469306</td>\n",
       "      <td>-1.469306</td>\n",
       "      <td>21.972833</td>\n",
       "      <td>0.749740</td>\n",
       "    </tr>\n",
       "    <tr>\n",
       "      <th>...</th>\n",
       "      <td>...</td>\n",
       "      <td>...</td>\n",
       "      <td>...</td>\n",
       "      <td>...</td>\n",
       "      <td>...</td>\n",
       "    </tr>\n",
       "    <tr>\n",
       "      <th>410</th>\n",
       "      <td>01-01-2014</td>\n",
       "      <td>0.317544</td>\n",
       "      <td>0.143235</td>\n",
       "      <td>21.317833</td>\n",
       "      <td>0.783198</td>\n",
       "    </tr>\n",
       "    <tr>\n",
       "      <th>411</th>\n",
       "      <td>01-02-2014</td>\n",
       "      <td>0.546507</td>\n",
       "      <td>0.317544</td>\n",
       "      <td>21.131000</td>\n",
       "      <td>0.946414</td>\n",
       "    </tr>\n",
       "    <tr>\n",
       "      <th>412</th>\n",
       "      <td>01-03-2014</td>\n",
       "      <td>0.629004</td>\n",
       "      <td>0.546507</td>\n",
       "      <td>19.451300</td>\n",
       "      <td>0.959161</td>\n",
       "    </tr>\n",
       "    <tr>\n",
       "      <th>413</th>\n",
       "      <td>01-04-2014</td>\n",
       "      <td>0.174373</td>\n",
       "      <td>0.629004</td>\n",
       "      <td>19.720710</td>\n",
       "      <td>0.892296</td>\n",
       "    </tr>\n",
       "    <tr>\n",
       "      <th>414</th>\n",
       "      <td>01-05-2014</td>\n",
       "      <td>1.144318</td>\n",
       "      <td>0.174373</td>\n",
       "      <td>20.275742</td>\n",
       "      <td>0.902577</td>\n",
       "    </tr>\n",
       "  </tbody>\n",
       "</table>\n",
       "<p>415 rows × 5 columns</p>\n",
       "</div>\n",
       "      <button class=\"colab-df-convert\" onclick=\"convertToInteractive('df-e1f60afc-e327-4961-8114-a629a5c53537')\"\n",
       "              title=\"Convert this dataframe to an interactive table.\"\n",
       "              style=\"display:none;\">\n",
       "        \n",
       "  <svg xmlns=\"http://www.w3.org/2000/svg\" height=\"24px\"viewBox=\"0 0 24 24\"\n",
       "       width=\"24px\">\n",
       "    <path d=\"M0 0h24v24H0V0z\" fill=\"none\"/>\n",
       "    <path d=\"M18.56 5.44l.94 2.06.94-2.06 2.06-.94-2.06-.94-.94-2.06-.94 2.06-2.06.94zm-11 1L8.5 8.5l.94-2.06 2.06-.94-2.06-.94L8.5 2.5l-.94 2.06-2.06.94zm10 10l.94 2.06.94-2.06 2.06-.94-2.06-.94-.94-2.06-.94 2.06-2.06.94z\"/><path d=\"M17.41 7.96l-1.37-1.37c-.4-.4-.92-.59-1.43-.59-.52 0-1.04.2-1.43.59L10.3 9.45l-7.72 7.72c-.78.78-.78 2.05 0 2.83L4 21.41c.39.39.9.59 1.41.59.51 0 1.02-.2 1.41-.59l7.78-7.78 2.81-2.81c.8-.78.8-2.07 0-2.86zM5.41 20L4 18.59l7.72-7.72 1.47 1.35L5.41 20z\"/>\n",
       "  </svg>\n",
       "      </button>\n",
       "      \n",
       "  <style>\n",
       "    .colab-df-container {\n",
       "      display:flex;\n",
       "      flex-wrap:wrap;\n",
       "      gap: 12px;\n",
       "    }\n",
       "\n",
       "    .colab-df-convert {\n",
       "      background-color: #E8F0FE;\n",
       "      border: none;\n",
       "      border-radius: 50%;\n",
       "      cursor: pointer;\n",
       "      display: none;\n",
       "      fill: #1967D2;\n",
       "      height: 32px;\n",
       "      padding: 0 0 0 0;\n",
       "      width: 32px;\n",
       "    }\n",
       "\n",
       "    .colab-df-convert:hover {\n",
       "      background-color: #E2EBFA;\n",
       "      box-shadow: 0px 1px 2px rgba(60, 64, 67, 0.3), 0px 1px 3px 1px rgba(60, 64, 67, 0.15);\n",
       "      fill: #174EA6;\n",
       "    }\n",
       "\n",
       "    [theme=dark] .colab-df-convert {\n",
       "      background-color: #3B4455;\n",
       "      fill: #D2E3FC;\n",
       "    }\n",
       "\n",
       "    [theme=dark] .colab-df-convert:hover {\n",
       "      background-color: #434B5C;\n",
       "      box-shadow: 0px 1px 3px 1px rgba(0, 0, 0, 0.15);\n",
       "      filter: drop-shadow(0px 1px 2px rgba(0, 0, 0, 0.3));\n",
       "      fill: #FFFFFF;\n",
       "    }\n",
       "  </style>\n",
       "\n",
       "      <script>\n",
       "        const buttonEl =\n",
       "          document.querySelector('#df-e1f60afc-e327-4961-8114-a629a5c53537 button.colab-df-convert');\n",
       "        buttonEl.style.display =\n",
       "          google.colab.kernel.accessAllowed ? 'block' : 'none';\n",
       "\n",
       "        async function convertToInteractive(key) {\n",
       "          const element = document.querySelector('#df-e1f60afc-e327-4961-8114-a629a5c53537');\n",
       "          const dataTable =\n",
       "            await google.colab.kernel.invokeFunction('convertToInteractive',\n",
       "                                                     [key], {});\n",
       "          if (!dataTable) return;\n",
       "\n",
       "          const docLinkHtml = 'Like what you see? Visit the ' +\n",
       "            '<a target=\"_blank\" href=https://colab.research.google.com/notebooks/data_table.ipynb>data table notebook</a>'\n",
       "            + ' to learn more about interactive tables.';\n",
       "          element.innerHTML = '';\n",
       "          dataTable['output_type'] = 'display_data';\n",
       "          await google.colab.output.renderOutput(dataTable, element);\n",
       "          const docLink = document.createElement('div');\n",
       "          docLink.innerHTML = docLinkHtml;\n",
       "          element.appendChild(docLink);\n",
       "        }\n",
       "      </script>\n",
       "    </div>\n",
       "  </div>\n",
       "  "
      ],
      "text/plain": [
       "           date      spi1        l1        min  avg R.HUM\n",
       "0    01-11-1979  2.145778  1.273802  18.778821   0.660878\n",
       "1    01-12-1979  0.889794  2.145778  18.691581   0.672347\n",
       "2    01-01-1980 -1.714817  0.889794  20.863300   0.632411\n",
       "3    01-02-1980 -1.469306 -1.714817  21.647677   0.680302\n",
       "4    01-03-1980 -1.469306 -1.469306  21.972833   0.749740\n",
       "..          ...       ...       ...        ...        ...\n",
       "410  01-01-2014  0.317544  0.143235  21.317833   0.783198\n",
       "411  01-02-2014  0.546507  0.317544  21.131000   0.946414\n",
       "412  01-03-2014  0.629004  0.546507  19.451300   0.959161\n",
       "413  01-04-2014  0.174373  0.629004  19.720710   0.892296\n",
       "414  01-05-2014  1.144318  0.174373  20.275742   0.902577\n",
       "\n",
       "[415 rows x 5 columns]"
      ]
     },
     "execution_count": 229,
     "metadata": {},
     "output_type": "execute_result"
    }
   ],
   "source": [
    "df=pd.read_csv('/content/newlstm.csv')\n",
    "df"
   ]
  },
  {
   "cell_type": "code",
   "execution_count": 230,
   "metadata": {
    "colab": {
     "base_uri": "https://localhost:8080/"
    },
    "id": "9rO4yrMGAOXb",
    "outputId": "8f9c3165-3727-49e1-f42c-2b140c3c0d1e"
   },
   "outputs": [
    {
     "name": "stdout",
     "output_type": "stream",
     "text": [
      "date          object\n",
      "spi1         float64\n",
      "l1           float64\n",
      "min          float64\n",
      "avg R.HUM    float64\n",
      "dtype: object\n"
     ]
    }
   ],
   "source": [
    "print(df.dtypes)"
   ]
  },
  {
   "cell_type": "code",
   "execution_count": null,
   "metadata": {
    "id": "LTRxYJAAAQrX"
   },
   "outputs": [],
   "source": [
    "df['Date Time'] = pd.to_datetime(df['date'], dayfirst=True)\n",
    "df['Day'] = df['Date Time'].dt.day\n",
    "df['Month'] = df['Date Time'].dt.month\n",
    "df['Year'] = df['Date Time'].dt.year\n",
    "\n",
    "df"
   ]
  },
  {
   "cell_type": "code",
   "execution_count": 232,
   "metadata": {
    "colab": {
     "base_uri": "https://localhost:8080/"
    },
    "id": "b9y0Z5IlASe5",
    "outputId": "5b865b0a-00bb-48bc-ec24-d1e8ce930ffe"
   },
   "outputs": [
    {
     "name": "stdout",
     "output_type": "stream",
     "text": [
      "date                 object\n",
      "spi1                float64\n",
      "l1                  float64\n",
      "min                 float64\n",
      "avg R.HUM           float64\n",
      "Date Time    datetime64[ns]\n",
      "Day                   int64\n",
      "Month                 int64\n",
      "Year                  int64\n",
      "dtype: object\n"
     ]
    }
   ],
   "source": [
    "print(df.dtypes)"
   ]
  },
  {
   "cell_type": "code",
   "execution_count": null,
   "metadata": {
    "id": "GugzSO2LA_9K"
   },
   "outputs": [],
   "source": [
    "df.drop(['date'], axis=1, inplace=True)\n",
    "df.drop(['Date Time'], axis=1, inplace=True)\n",
    "df"
   ]
  },
  {
   "cell_type": "code",
   "execution_count": 234,
   "metadata": {
    "id": "5KcujD-UBRkO"
   },
   "outputs": [],
   "source": [
    "X0=[]\n",
    "X1=[]\n",
    "X2=[]\n",
    "X3=[]\n",
    "X4=[]\n",
    "X5=[]\n",
    "X6=[]\n",
    "y=[]"
   ]
  },
  {
   "cell_type": "code",
   "execution_count": 235,
   "metadata": {
    "id": "ZP3snw4cCGt6"
   },
   "outputs": [],
   "source": [
    "for i in range (0, df.shape[0]-100):\n",
    "    X0.append(df.iloc[i:i + 100, 6])\n",
    "    X1.append(df.iloc[i:i + 100, 5])\n",
    "    X2.append(df.iloc[i:i + 100, 4])\n",
    "    X3.append(df.iloc[i:i + 100, 3])\n",
    "    X4.append(df.iloc[i:i + 100, 2])\n",
    "    X5.append(df.iloc[i:i + 100, 1])\n",
    "    X6.append(df.iloc[i:i + 100, 0])\n",
    "    y.append(df.iloc[i + 100, 0])"
   ]
  },
  {
   "cell_type": "code",
   "execution_count": null,
   "metadata": {
    "id": "HTq_qvY4CN6U"
   },
   "outputs": [],
   "source": [
    "y"
   ]
  },
  {
   "cell_type": "code",
   "execution_count": null,
   "metadata": {
    "id": "-FmREhjfCQlF"
   },
   "outputs": [],
   "source": [
    "X5"
   ]
  },
  {
   "cell_type": "code",
   "execution_count": 238,
   "metadata": {
    "colab": {
     "base_uri": "https://localhost:8080/",
     "height": 1000
    },
    "id": "nJcRRPaZCg4B",
    "outputId": "0dd2e07a-8fdd-4a4e-f3c3-6cf281905ff4"
   },
   "outputs": [
    {
     "data": {
      "text/html": [
       "\n",
       "  <div id=\"df-39d14d2b-f993-408a-8317-f8d6db0031ad\">\n",
       "    <div class=\"colab-df-container\">\n",
       "      <div>\n",
       "<style scoped>\n",
       "    .dataframe tbody tr th:only-of-type {\n",
       "        vertical-align: middle;\n",
       "    }\n",
       "\n",
       "    .dataframe tbody tr th {\n",
       "        vertical-align: top;\n",
       "    }\n",
       "\n",
       "    .dataframe thead th {\n",
       "        text-align: right;\n",
       "    }\n",
       "</style>\n",
       "<table border=\"1\" class=\"dataframe\">\n",
       "  <thead>\n",
       "    <tr style=\"text-align: right;\">\n",
       "      <th></th>\n",
       "      <th>spi1</th>\n",
       "      <th>l1</th>\n",
       "      <th>min</th>\n",
       "      <th>avg R.HUM</th>\n",
       "      <th>Day</th>\n",
       "      <th>Month</th>\n",
       "      <th>Year</th>\n",
       "    </tr>\n",
       "  </thead>\n",
       "  <tbody>\n",
       "    <tr>\n",
       "      <th>0</th>\n",
       "      <td>2.145778</td>\n",
       "      <td>1.273802</td>\n",
       "      <td>18.778821</td>\n",
       "      <td>0.660878</td>\n",
       "      <td>1</td>\n",
       "      <td>11</td>\n",
       "      <td>1979</td>\n",
       "    </tr>\n",
       "    <tr>\n",
       "      <th>1</th>\n",
       "      <td>0.889794</td>\n",
       "      <td>2.145778</td>\n",
       "      <td>18.691581</td>\n",
       "      <td>0.672347</td>\n",
       "      <td>1</td>\n",
       "      <td>12</td>\n",
       "      <td>1979</td>\n",
       "    </tr>\n",
       "    <tr>\n",
       "      <th>2</th>\n",
       "      <td>-1.714817</td>\n",
       "      <td>0.889794</td>\n",
       "      <td>20.863300</td>\n",
       "      <td>0.632411</td>\n",
       "      <td>1</td>\n",
       "      <td>1</td>\n",
       "      <td>1980</td>\n",
       "    </tr>\n",
       "    <tr>\n",
       "      <th>3</th>\n",
       "      <td>-1.469306</td>\n",
       "      <td>-1.714817</td>\n",
       "      <td>21.647677</td>\n",
       "      <td>0.680302</td>\n",
       "      <td>1</td>\n",
       "      <td>2</td>\n",
       "      <td>1980</td>\n",
       "    </tr>\n",
       "    <tr>\n",
       "      <th>4</th>\n",
       "      <td>-1.469306</td>\n",
       "      <td>-1.469306</td>\n",
       "      <td>21.972833</td>\n",
       "      <td>0.749740</td>\n",
       "      <td>1</td>\n",
       "      <td>3</td>\n",
       "      <td>1980</td>\n",
       "    </tr>\n",
       "    <tr>\n",
       "      <th>5</th>\n",
       "      <td>-1.469306</td>\n",
       "      <td>-1.469306</td>\n",
       "      <td>20.775290</td>\n",
       "      <td>0.856281</td>\n",
       "      <td>1</td>\n",
       "      <td>4</td>\n",
       "      <td>1980</td>\n",
       "    </tr>\n",
       "    <tr>\n",
       "      <th>6</th>\n",
       "      <td>-1.469306</td>\n",
       "      <td>-1.469306</td>\n",
       "      <td>19.893516</td>\n",
       "      <td>0.942733</td>\n",
       "      <td>1</td>\n",
       "      <td>5</td>\n",
       "      <td>1980</td>\n",
       "    </tr>\n",
       "    <tr>\n",
       "      <th>7</th>\n",
       "      <td>0.364798</td>\n",
       "      <td>-1.469306</td>\n",
       "      <td>20.174833</td>\n",
       "      <td>0.903878</td>\n",
       "      <td>1</td>\n",
       "      <td>6</td>\n",
       "      <td>1980</td>\n",
       "    </tr>\n",
       "    <tr>\n",
       "      <th>8</th>\n",
       "      <td>0.606144</td>\n",
       "      <td>0.364798</td>\n",
       "      <td>19.638161</td>\n",
       "      <td>0.882303</td>\n",
       "      <td>1</td>\n",
       "      <td>7</td>\n",
       "      <td>1980</td>\n",
       "    </tr>\n",
       "    <tr>\n",
       "      <th>9</th>\n",
       "      <td>0.606144</td>\n",
       "      <td>0.606144</td>\n",
       "      <td>19.940933</td>\n",
       "      <td>0.833859</td>\n",
       "      <td>1</td>\n",
       "      <td>8</td>\n",
       "      <td>1980</td>\n",
       "    </tr>\n",
       "    <tr>\n",
       "      <th>10</th>\n",
       "      <td>1.001410</td>\n",
       "      <td>0.606144</td>\n",
       "      <td>18.881000</td>\n",
       "      <td>0.894956</td>\n",
       "      <td>1</td>\n",
       "      <td>9</td>\n",
       "      <td>1980</td>\n",
       "    </tr>\n",
       "    <tr>\n",
       "      <th>11</th>\n",
       "      <td>2.145778</td>\n",
       "      <td>1.001410</td>\n",
       "      <td>16.916968</td>\n",
       "      <td>0.769579</td>\n",
       "      <td>1</td>\n",
       "      <td>10</td>\n",
       "      <td>1980</td>\n",
       "    </tr>\n",
       "    <tr>\n",
       "      <th>12</th>\n",
       "      <td>1.701558</td>\n",
       "      <td>2.145778</td>\n",
       "      <td>16.458103</td>\n",
       "      <td>0.536863</td>\n",
       "      <td>1</td>\n",
       "      <td>11</td>\n",
       "      <td>1980</td>\n",
       "    </tr>\n",
       "    <tr>\n",
       "      <th>13</th>\n",
       "      <td>0.694336</td>\n",
       "      <td>1.701558</td>\n",
       "      <td>17.393032</td>\n",
       "      <td>0.491419</td>\n",
       "      <td>1</td>\n",
       "      <td>12</td>\n",
       "      <td>1980</td>\n",
       "    </tr>\n",
       "    <tr>\n",
       "      <th>14</th>\n",
       "      <td>-0.391457</td>\n",
       "      <td>0.694336</td>\n",
       "      <td>22.097300</td>\n",
       "      <td>0.599661</td>\n",
       "      <td>1</td>\n",
       "      <td>1</td>\n",
       "      <td>1981</td>\n",
       "    </tr>\n",
       "    <tr>\n",
       "      <th>15</th>\n",
       "      <td>-2.156973</td>\n",
       "      <td>-0.391457</td>\n",
       "      <td>22.650742</td>\n",
       "      <td>0.688947</td>\n",
       "      <td>1</td>\n",
       "      <td>2</td>\n",
       "      <td>1981</td>\n",
       "    </tr>\n",
       "    <tr>\n",
       "      <th>16</th>\n",
       "      <td>-0.808844</td>\n",
       "      <td>-2.156973</td>\n",
       "      <td>21.768033</td>\n",
       "      <td>0.761765</td>\n",
       "      <td>1</td>\n",
       "      <td>3</td>\n",
       "      <td>1981</td>\n",
       "    </tr>\n",
       "    <tr>\n",
       "      <th>17</th>\n",
       "      <td>-1.289798</td>\n",
       "      <td>-0.808844</td>\n",
       "      <td>21.149935</td>\n",
       "      <td>0.934496</td>\n",
       "      <td>1</td>\n",
       "      <td>4</td>\n",
       "      <td>1981</td>\n",
       "    </tr>\n",
       "    <tr>\n",
       "      <th>18</th>\n",
       "      <td>-0.034706</td>\n",
       "      <td>-1.289798</td>\n",
       "      <td>20.575968</td>\n",
       "      <td>0.953171</td>\n",
       "      <td>1</td>\n",
       "      <td>5</td>\n",
       "      <td>1981</td>\n",
       "    </tr>\n",
       "    <tr>\n",
       "      <th>19</th>\n",
       "      <td>1.701558</td>\n",
       "      <td>-0.034706</td>\n",
       "      <td>19.903633</td>\n",
       "      <td>0.948693</td>\n",
       "      <td>1</td>\n",
       "      <td>6</td>\n",
       "      <td>1981</td>\n",
       "    </tr>\n",
       "    <tr>\n",
       "      <th>20</th>\n",
       "      <td>0.000000</td>\n",
       "      <td>1.701558</td>\n",
       "      <td>19.418871</td>\n",
       "      <td>0.863415</td>\n",
       "      <td>1</td>\n",
       "      <td>7</td>\n",
       "      <td>1981</td>\n",
       "    </tr>\n",
       "    <tr>\n",
       "      <th>21</th>\n",
       "      <td>0.694336</td>\n",
       "      <td>0.000000</td>\n",
       "      <td>18.605700</td>\n",
       "      <td>0.865765</td>\n",
       "      <td>1</td>\n",
       "      <td>8</td>\n",
       "      <td>1981</td>\n",
       "    </tr>\n",
       "    <tr>\n",
       "      <th>22</th>\n",
       "      <td>0.788295</td>\n",
       "      <td>0.694336</td>\n",
       "      <td>17.922677</td>\n",
       "      <td>0.818029</td>\n",
       "      <td>1</td>\n",
       "      <td>9</td>\n",
       "      <td>1981</td>\n",
       "    </tr>\n",
       "    <tr>\n",
       "      <th>23</th>\n",
       "      <td>1.127145</td>\n",
       "      <td>0.788295</td>\n",
       "      <td>16.480516</td>\n",
       "      <td>0.729012</td>\n",
       "      <td>1</td>\n",
       "      <td>10</td>\n",
       "      <td>1981</td>\n",
       "    </tr>\n",
       "    <tr>\n",
       "      <th>24</th>\n",
       "      <td>1.001410</td>\n",
       "      <td>1.127145</td>\n",
       "      <td>16.386036</td>\n",
       "      <td>0.603338</td>\n",
       "      <td>1</td>\n",
       "      <td>11</td>\n",
       "      <td>1981</td>\n",
       "    </tr>\n",
       "    <tr>\n",
       "      <th>25</th>\n",
       "      <td>0.442242</td>\n",
       "      <td>1.001410</td>\n",
       "      <td>19.515097</td>\n",
       "      <td>0.483658</td>\n",
       "      <td>1</td>\n",
       "      <td>12</td>\n",
       "      <td>1981</td>\n",
       "    </tr>\n",
       "    <tr>\n",
       "      <th>26</th>\n",
       "      <td>-2.156973</td>\n",
       "      <td>0.442242</td>\n",
       "      <td>21.452667</td>\n",
       "      <td>0.596584</td>\n",
       "      <td>1</td>\n",
       "      <td>1</td>\n",
       "      <td>1982</td>\n",
       "    </tr>\n",
       "    <tr>\n",
       "      <th>27</th>\n",
       "      <td>-1.714817</td>\n",
       "      <td>-2.156973</td>\n",
       "      <td>22.135226</td>\n",
       "      <td>0.681543</td>\n",
       "      <td>1</td>\n",
       "      <td>2</td>\n",
       "      <td>1982</td>\n",
       "    </tr>\n",
       "    <tr>\n",
       "      <th>28</th>\n",
       "      <td>-1.714817</td>\n",
       "      <td>-1.714817</td>\n",
       "      <td>21.308167</td>\n",
       "      <td>0.765239</td>\n",
       "      <td>1</td>\n",
       "      <td>3</td>\n",
       "      <td>1982</td>\n",
       "    </tr>\n",
       "    <tr>\n",
       "      <th>29</th>\n",
       "      <td>-1.714817</td>\n",
       "      <td>-1.714817</td>\n",
       "      <td>20.717161</td>\n",
       "      <td>0.944467</td>\n",
       "      <td>1</td>\n",
       "      <td>4</td>\n",
       "      <td>1982</td>\n",
       "    </tr>\n",
       "    <tr>\n",
       "      <th>30</th>\n",
       "      <td>-2.156973</td>\n",
       "      <td>-1.714817</td>\n",
       "      <td>20.256065</td>\n",
       "      <td>0.930168</td>\n",
       "      <td>1</td>\n",
       "      <td>5</td>\n",
       "      <td>1982</td>\n",
       "    </tr>\n",
       "    <tr>\n",
       "      <th>31</th>\n",
       "      <td>0.522436</td>\n",
       "      <td>-2.156973</td>\n",
       "      <td>20.131833</td>\n",
       "      <td>0.940452</td>\n",
       "      <td>1</td>\n",
       "      <td>6</td>\n",
       "      <td>1982</td>\n",
       "    </tr>\n",
       "    <tr>\n",
       "      <th>32</th>\n",
       "      <td>-0.289486</td>\n",
       "      <td>0.522436</td>\n",
       "      <td>19.238613</td>\n",
       "      <td>0.903608</td>\n",
       "      <td>1</td>\n",
       "      <td>7</td>\n",
       "      <td>1982</td>\n",
       "    </tr>\n",
       "    <tr>\n",
       "      <th>33</th>\n",
       "      <td>1.001410</td>\n",
       "      <td>-0.289486</td>\n",
       "      <td>18.163900</td>\n",
       "      <td>0.898229</td>\n",
       "      <td>1</td>\n",
       "      <td>8</td>\n",
       "      <td>1982</td>\n",
       "    </tr>\n",
       "    <tr>\n",
       "      <th>34</th>\n",
       "      <td>-0.889794</td>\n",
       "      <td>1.001410</td>\n",
       "      <td>18.105710</td>\n",
       "      <td>0.829675</td>\n",
       "      <td>1</td>\n",
       "      <td>9</td>\n",
       "      <td>1982</td>\n",
       "    </tr>\n",
       "    <tr>\n",
       "      <th>35</th>\n",
       "      <td>0.694336</td>\n",
       "      <td>-0.889794</td>\n",
       "      <td>17.398742</td>\n",
       "      <td>0.694493</td>\n",
       "      <td>1</td>\n",
       "      <td>10</td>\n",
       "      <td>1982</td>\n",
       "    </tr>\n",
       "    <tr>\n",
       "      <th>36</th>\n",
       "      <td>1.454579</td>\n",
       "      <td>0.694336</td>\n",
       "      <td>14.747643</td>\n",
       "      <td>0.554592</td>\n",
       "      <td>1</td>\n",
       "      <td>11</td>\n",
       "      <td>1982</td>\n",
       "    </tr>\n",
       "    <tr>\n",
       "      <th>37</th>\n",
       "      <td>-0.071434</td>\n",
       "      <td>1.454579</td>\n",
       "      <td>16.970516</td>\n",
       "      <td>0.521484</td>\n",
       "      <td>1</td>\n",
       "      <td>12</td>\n",
       "      <td>1982</td>\n",
       "    </tr>\n",
       "    <tr>\n",
       "      <th>38</th>\n",
       "      <td>-0.808844</td>\n",
       "      <td>-0.071434</td>\n",
       "      <td>21.026300</td>\n",
       "      <td>0.548119</td>\n",
       "      <td>1</td>\n",
       "      <td>1</td>\n",
       "      <td>1983</td>\n",
       "    </tr>\n",
       "    <tr>\n",
       "      <th>39</th>\n",
       "      <td>-1.289798</td>\n",
       "      <td>-0.808844</td>\n",
       "      <td>22.019935</td>\n",
       "      <td>0.656175</td>\n",
       "      <td>1</td>\n",
       "      <td>2</td>\n",
       "      <td>1983</td>\n",
       "    </tr>\n",
       "    <tr>\n",
       "      <th>40</th>\n",
       "      <td>-2.156973</td>\n",
       "      <td>-1.289798</td>\n",
       "      <td>21.631967</td>\n",
       "      <td>0.748062</td>\n",
       "      <td>1</td>\n",
       "      <td>3</td>\n",
       "      <td>1983</td>\n",
       "    </tr>\n",
       "    <tr>\n",
       "      <th>41</th>\n",
       "      <td>-2.156973</td>\n",
       "      <td>-2.156973</td>\n",
       "      <td>20.704774</td>\n",
       "      <td>0.897727</td>\n",
       "      <td>1</td>\n",
       "      <td>4</td>\n",
       "      <td>1983</td>\n",
       "    </tr>\n",
       "    <tr>\n",
       "      <th>42</th>\n",
       "      <td>-0.909221</td>\n",
       "      <td>-2.156973</td>\n",
       "      <td>20.557258</td>\n",
       "      <td>0.922801</td>\n",
       "      <td>1</td>\n",
       "      <td>5</td>\n",
       "      <td>1983</td>\n",
       "    </tr>\n",
       "    <tr>\n",
       "      <th>43</th>\n",
       "      <td>-0.606144</td>\n",
       "      <td>-0.909221</td>\n",
       "      <td>18.743300</td>\n",
       "      <td>0.940274</td>\n",
       "      <td>1</td>\n",
       "      <td>6</td>\n",
       "      <td>1983</td>\n",
       "    </tr>\n",
       "    <tr>\n",
       "      <th>44</th>\n",
       "      <td>0.071434</td>\n",
       "      <td>-0.606144</td>\n",
       "      <td>19.093839</td>\n",
       "      <td>0.832178</td>\n",
       "      <td>1</td>\n",
       "      <td>7</td>\n",
       "      <td>1983</td>\n",
       "    </tr>\n",
       "    <tr>\n",
       "      <th>45</th>\n",
       "      <td>2.145778</td>\n",
       "      <td>0.071434</td>\n",
       "      <td>19.198767</td>\n",
       "      <td>0.814281</td>\n",
       "      <td>1</td>\n",
       "      <td>8</td>\n",
       "      <td>1983</td>\n",
       "    </tr>\n",
       "    <tr>\n",
       "      <th>46</th>\n",
       "      <td>-0.289486</td>\n",
       "      <td>2.145778</td>\n",
       "      <td>18.623613</td>\n",
       "      <td>0.814954</td>\n",
       "      <td>1</td>\n",
       "      <td>9</td>\n",
       "      <td>1983</td>\n",
       "    </tr>\n",
       "    <tr>\n",
       "      <th>47</th>\n",
       "      <td>0.606144</td>\n",
       "      <td>-0.289486</td>\n",
       "      <td>16.526355</td>\n",
       "      <td>0.585976</td>\n",
       "      <td>1</td>\n",
       "      <td>10</td>\n",
       "      <td>1983</td>\n",
       "    </tr>\n",
       "    <tr>\n",
       "      <th>48</th>\n",
       "      <td>0.788295</td>\n",
       "      <td>0.606144</td>\n",
       "      <td>14.215536</td>\n",
       "      <td>0.483721</td>\n",
       "      <td>1</td>\n",
       "      <td>11</td>\n",
       "      <td>1983</td>\n",
       "    </tr>\n",
       "    <tr>\n",
       "      <th>49</th>\n",
       "      <td>1.701558</td>\n",
       "      <td>0.788295</td>\n",
       "      <td>16.331968</td>\n",
       "      <td>0.583446</td>\n",
       "      <td>1</td>\n",
       "      <td>12</td>\n",
       "      <td>1983</td>\n",
       "    </tr>\n",
       "  </tbody>\n",
       "</table>\n",
       "</div>\n",
       "      <button class=\"colab-df-convert\" onclick=\"convertToInteractive('df-39d14d2b-f993-408a-8317-f8d6db0031ad')\"\n",
       "              title=\"Convert this dataframe to an interactive table.\"\n",
       "              style=\"display:none;\">\n",
       "        \n",
       "  <svg xmlns=\"http://www.w3.org/2000/svg\" height=\"24px\"viewBox=\"0 0 24 24\"\n",
       "       width=\"24px\">\n",
       "    <path d=\"M0 0h24v24H0V0z\" fill=\"none\"/>\n",
       "    <path d=\"M18.56 5.44l.94 2.06.94-2.06 2.06-.94-2.06-.94-.94-2.06-.94 2.06-2.06.94zm-11 1L8.5 8.5l.94-2.06 2.06-.94-2.06-.94L8.5 2.5l-.94 2.06-2.06.94zm10 10l.94 2.06.94-2.06 2.06-.94-2.06-.94-.94-2.06-.94 2.06-2.06.94z\"/><path d=\"M17.41 7.96l-1.37-1.37c-.4-.4-.92-.59-1.43-.59-.52 0-1.04.2-1.43.59L10.3 9.45l-7.72 7.72c-.78.78-.78 2.05 0 2.83L4 21.41c.39.39.9.59 1.41.59.51 0 1.02-.2 1.41-.59l7.78-7.78 2.81-2.81c.8-.78.8-2.07 0-2.86zM5.41 20L4 18.59l7.72-7.72 1.47 1.35L5.41 20z\"/>\n",
       "  </svg>\n",
       "      </button>\n",
       "      \n",
       "  <style>\n",
       "    .colab-df-container {\n",
       "      display:flex;\n",
       "      flex-wrap:wrap;\n",
       "      gap: 12px;\n",
       "    }\n",
       "\n",
       "    .colab-df-convert {\n",
       "      background-color: #E8F0FE;\n",
       "      border: none;\n",
       "      border-radius: 50%;\n",
       "      cursor: pointer;\n",
       "      display: none;\n",
       "      fill: #1967D2;\n",
       "      height: 32px;\n",
       "      padding: 0 0 0 0;\n",
       "      width: 32px;\n",
       "    }\n",
       "\n",
       "    .colab-df-convert:hover {\n",
       "      background-color: #E2EBFA;\n",
       "      box-shadow: 0px 1px 2px rgba(60, 64, 67, 0.3), 0px 1px 3px 1px rgba(60, 64, 67, 0.15);\n",
       "      fill: #174EA6;\n",
       "    }\n",
       "\n",
       "    [theme=dark] .colab-df-convert {\n",
       "      background-color: #3B4455;\n",
       "      fill: #D2E3FC;\n",
       "    }\n",
       "\n",
       "    [theme=dark] .colab-df-convert:hover {\n",
       "      background-color: #434B5C;\n",
       "      box-shadow: 0px 1px 3px 1px rgba(0, 0, 0, 0.15);\n",
       "      filter: drop-shadow(0px 1px 2px rgba(0, 0, 0, 0.3));\n",
       "      fill: #FFFFFF;\n",
       "    }\n",
       "  </style>\n",
       "\n",
       "      <script>\n",
       "        const buttonEl =\n",
       "          document.querySelector('#df-39d14d2b-f993-408a-8317-f8d6db0031ad button.colab-df-convert');\n",
       "        buttonEl.style.display =\n",
       "          google.colab.kernel.accessAllowed ? 'block' : 'none';\n",
       "\n",
       "        async function convertToInteractive(key) {\n",
       "          const element = document.querySelector('#df-39d14d2b-f993-408a-8317-f8d6db0031ad');\n",
       "          const dataTable =\n",
       "            await google.colab.kernel.invokeFunction('convertToInteractive',\n",
       "                                                     [key], {});\n",
       "          if (!dataTable) return;\n",
       "\n",
       "          const docLinkHtml = 'Like what you see? Visit the ' +\n",
       "            '<a target=\"_blank\" href=https://colab.research.google.com/notebooks/data_table.ipynb>data table notebook</a>'\n",
       "            + ' to learn more about interactive tables.';\n",
       "          element.innerHTML = '';\n",
       "          dataTable['output_type'] = 'display_data';\n",
       "          await google.colab.output.renderOutput(dataTable, element);\n",
       "          const docLink = document.createElement('div');\n",
       "          docLink.innerHTML = docLinkHtml;\n",
       "          element.appendChild(docLink);\n",
       "        }\n",
       "      </script>\n",
       "    </div>\n",
       "  </div>\n",
       "  "
      ],
      "text/plain": [
       "        spi1        l1        min  avg R.HUM  Day  Month  Year\n",
       "0   2.145778  1.273802  18.778821   0.660878    1     11  1979\n",
       "1   0.889794  2.145778  18.691581   0.672347    1     12  1979\n",
       "2  -1.714817  0.889794  20.863300   0.632411    1      1  1980\n",
       "3  -1.469306 -1.714817  21.647677   0.680302    1      2  1980\n",
       "4  -1.469306 -1.469306  21.972833   0.749740    1      3  1980\n",
       "5  -1.469306 -1.469306  20.775290   0.856281    1      4  1980\n",
       "6  -1.469306 -1.469306  19.893516   0.942733    1      5  1980\n",
       "7   0.364798 -1.469306  20.174833   0.903878    1      6  1980\n",
       "8   0.606144  0.364798  19.638161   0.882303    1      7  1980\n",
       "9   0.606144  0.606144  19.940933   0.833859    1      8  1980\n",
       "10  1.001410  0.606144  18.881000   0.894956    1      9  1980\n",
       "11  2.145778  1.001410  16.916968   0.769579    1     10  1980\n",
       "12  1.701558  2.145778  16.458103   0.536863    1     11  1980\n",
       "13  0.694336  1.701558  17.393032   0.491419    1     12  1980\n",
       "14 -0.391457  0.694336  22.097300   0.599661    1      1  1981\n",
       "15 -2.156973 -0.391457  22.650742   0.688947    1      2  1981\n",
       "16 -0.808844 -2.156973  21.768033   0.761765    1      3  1981\n",
       "17 -1.289798 -0.808844  21.149935   0.934496    1      4  1981\n",
       "18 -0.034706 -1.289798  20.575968   0.953171    1      5  1981\n",
       "19  1.701558 -0.034706  19.903633   0.948693    1      6  1981\n",
       "20  0.000000  1.701558  19.418871   0.863415    1      7  1981\n",
       "21  0.694336  0.000000  18.605700   0.865765    1      8  1981\n",
       "22  0.788295  0.694336  17.922677   0.818029    1      9  1981\n",
       "23  1.127145  0.788295  16.480516   0.729012    1     10  1981\n",
       "24  1.001410  1.127145  16.386036   0.603338    1     11  1981\n",
       "25  0.442242  1.001410  19.515097   0.483658    1     12  1981\n",
       "26 -2.156973  0.442242  21.452667   0.596584    1      1  1982\n",
       "27 -1.714817 -2.156973  22.135226   0.681543    1      2  1982\n",
       "28 -1.714817 -1.714817  21.308167   0.765239    1      3  1982\n",
       "29 -1.714817 -1.714817  20.717161   0.944467    1      4  1982\n",
       "30 -2.156973 -1.714817  20.256065   0.930168    1      5  1982\n",
       "31  0.522436 -2.156973  20.131833   0.940452    1      6  1982\n",
       "32 -0.289486  0.522436  19.238613   0.903608    1      7  1982\n",
       "33  1.001410 -0.289486  18.163900   0.898229    1      8  1982\n",
       "34 -0.889794  1.001410  18.105710   0.829675    1      9  1982\n",
       "35  0.694336 -0.889794  17.398742   0.694493    1     10  1982\n",
       "36  1.454579  0.694336  14.747643   0.554592    1     11  1982\n",
       "37 -0.071434  1.454579  16.970516   0.521484    1     12  1982\n",
       "38 -0.808844 -0.071434  21.026300   0.548119    1      1  1983\n",
       "39 -1.289798 -0.808844  22.019935   0.656175    1      2  1983\n",
       "40 -2.156973 -1.289798  21.631967   0.748062    1      3  1983\n",
       "41 -2.156973 -2.156973  20.704774   0.897727    1      4  1983\n",
       "42 -0.909221 -2.156973  20.557258   0.922801    1      5  1983\n",
       "43 -0.606144 -0.909221  18.743300   0.940274    1      6  1983\n",
       "44  0.071434 -0.606144  19.093839   0.832178    1      7  1983\n",
       "45  2.145778  0.071434  19.198767   0.814281    1      8  1983\n",
       "46 -0.289486  2.145778  18.623613   0.814954    1      9  1983\n",
       "47  0.606144 -0.289486  16.526355   0.585976    1     10  1983\n",
       "48  0.788295  0.606144  14.215536   0.483721    1     11  1983\n",
       "49  1.701558  0.788295  16.331968   0.583446    1     12  1983"
      ]
     },
     "execution_count": 238,
     "metadata": {},
     "output_type": "execute_result"
    }
   ],
   "source": [
    "df.head(50)"
   ]
  },
  {
   "cell_type": "code",
   "execution_count": 239,
   "metadata": {
    "id": "mOHNkefwCmki"
   },
   "outputs": [],
   "source": [
    "X0, X1, X2, X3, X4, X5, X6, y = np.array(X0), np.array(X1), np.array(X2), np.array(X3), np.array(X4), np.array(X5), np.array(X6),np.array(y)"
   ]
  },
  {
   "cell_type": "code",
   "execution_count": 240,
   "metadata": {
    "colab": {
     "base_uri": "https://localhost:8080/"
    },
    "id": "WDQtHNMhCo4w",
    "outputId": "86142c7f-be48-46d5-c937-e2335e45a618"
   },
   "outputs": [
    {
     "data": {
      "text/plain": [
       "(315,)"
      ]
     },
     "execution_count": 240,
     "metadata": {},
     "output_type": "execute_result"
    }
   ],
   "source": [
    "y.shape"
   ]
  },
  {
   "cell_type": "code",
   "execution_count": 241,
   "metadata": {
    "colab": {
     "base_uri": "https://localhost:8080/"
    },
    "id": "uVP4DTGCCsRb",
    "outputId": "13417e5b-679c-47ab-e056-fe5e9ac3f30b"
   },
   "outputs": [
    {
     "data": {
      "text/plain": [
       "(315, 1)"
      ]
     },
     "execution_count": 241,
     "metadata": {},
     "output_type": "execute_result"
    }
   ],
   "source": [
    "y=np.reshape(y, (len(y),1))\n",
    "y.shape"
   ]
  },
  {
   "cell_type": "code",
   "execution_count": null,
   "metadata": {
    "id": "Ux95s9a6CuSW"
   },
   "outputs": [],
   "source": [
    "y"
   ]
  },
  {
   "cell_type": "code",
   "execution_count": 244,
   "metadata": {
    "id": "Y-8PJuFfC79B"
   },
   "outputs": [],
   "source": [
    "from sklearn.preprocessing import MinMaxScaler\n",
    "\n",
    "scaler = MinMaxScaler(feature_range=(0,1))\n",
    "X0 = scaler.fit_transform(X0)\n",
    "X1 = scaler.fit_transform(X1)\n",
    "X2 = scaler.fit_transform(X2)\n",
    "X3 = scaler.fit_transform(X3)\n",
    "X4 = scaler.fit_transform(X4)\n",
    "X5 = scaler.fit_transform(X5)\n",
    "X6 = scaler.fit_transform(X6)\n",
    "y = scaler.fit_transform(y)"
   ]
  },
  {
   "cell_type": "code",
   "execution_count": null,
   "metadata": {
    "id": "4lbVNBXHC-IF"
   },
   "outputs": [],
   "source": [
    "X5\n"
   ]
  },
  {
   "cell_type": "code",
   "execution_count": 246,
   "metadata": {
    "colab": {
     "base_uri": "https://localhost:8080/"
    },
    "id": "g-5zdYyNDOHA",
    "outputId": "928d6926-b26e-4077-c987-2f7c1ddd6aec"
   },
   "outputs": [
    {
     "data": {
      "text/plain": [
       "(315, 100)"
      ]
     },
     "execution_count": 246,
     "metadata": {},
     "output_type": "execute_result"
    }
   ],
   "source": [
    "X5.shape\n"
   ]
  },
  {
   "cell_type": "code",
   "execution_count": 247,
   "metadata": {
    "id": "e8h9vd3CDSGS"
   },
   "outputs": [],
   "source": [
    "X = np.stack([X0, X1, X2, X3, X4, X5, X6], axis=2)"
   ]
  },
  {
   "cell_type": "code",
   "execution_count": 248,
   "metadata": {
    "colab": {
     "base_uri": "https://localhost:8080/"
    },
    "id": "U6gtqRwEDVSM",
    "outputId": "673dee32-5797-4f65-ee10-b120574b4ec9"
   },
   "outputs": [
    {
     "data": {
      "text/plain": [
       "(315, 100, 7)"
      ]
     },
     "execution_count": 248,
     "metadata": {},
     "output_type": "execute_result"
    }
   ],
   "source": [
    "X.shape"
   ]
  },
  {
   "cell_type": "code",
   "execution_count": 249,
   "metadata": {
    "id": "9OZMu9ueDZOU"
   },
   "outputs": [],
   "source": [
    "X_train, X_test = X[:-300], X[-115:]\n",
    "y_train, y_test = y[:-300], y[-115:]"
   ]
  },
  {
   "cell_type": "code",
   "execution_count": null,
   "metadata": {
    "id": "EVyPMzBvJ9TC"
   },
   "outputs": [],
   "source": [
    " X[:-250]"
   ]
  },
  {
   "cell_type": "code",
   "execution_count": 251,
   "metadata": {
    "colab": {
     "base_uri": "https://localhost:8080/"
    },
    "id": "Pl0iPHXqDmL2",
    "outputId": "3708ea23-6a34-4573-cefb-f748c27c4a49"
   },
   "outputs": [
    {
     "data": {
      "text/plain": [
       "(100, 7)"
      ]
     },
     "execution_count": 251,
     "metadata": {},
     "output_type": "execute_result"
    }
   ],
   "source": [
    "X_train.shape[1], X_train.shape[2]"
   ]
  },
  {
   "cell_type": "code",
   "execution_count": 252,
   "metadata": {
    "id": "xDd5OhE-Do_G"
   },
   "outputs": [],
   "source": [
    "from tensorflow.keras.models import Sequential\n",
    "from tensorflow.keras.layers import Dense, LSTM\n",
    "from tensorflow.keras import optimizers"
   ]
  },
  {
   "cell_type": "code",
   "execution_count": 253,
   "metadata": {
    "id": "oiDKqxp0Drs1"
   },
   "outputs": [],
   "source": [
    "model = Sequential()\n",
    "# set return requesnce = true, if we are going to have another LSTM layer\n",
    "model.add(LSTM(50, return_sequences=True, input_shape=(X_train.shape[1], X_train.shape[2])))\n",
    "model.add(LSTM(50, return_sequences=False))\n",
    "model.add(Dense(50, activation='relu'))\n",
    "model.add(Dense(1))"
   ]
  },
  {
   "cell_type": "code",
   "execution_count": null,
   "metadata": {
    "id": "p9fK5E7wDt5I"
   },
   "outputs": [],
   "source": [
    "model.summary()"
   ]
  },
  {
   "cell_type": "code",
   "execution_count": 255,
   "metadata": {
    "id": "UXhHYHnwDyOT"
   },
   "outputs": [],
   "source": [
    "from tensorflow.keras.callbacks import ModelCheckpoint, EarlyStopping\n",
    "\n",
    "filepath = 'models/{epoch:02d}-{loss:.4f}-{val_loss:.4f}-{mae:.4f}-{val_mae:.4f}.hdf5'\n",
    "\n",
    "callbacks = [EarlyStopping(monitor='val_loss', patience=20),\n",
    "             ModelCheckpoint(filepath, monitor='loss', save_best_only=True, mode='min')]"
   ]
  },
  {
   "cell_type": "code",
   "execution_count": 256,
   "metadata": {
    "id": "yEJfZXJQD1Ux"
   },
   "outputs": [],
   "source": [
    "optimizers.SGD(momentum=0.9)\n",
    "model.compile(optimizer='SGD', loss='mse', metrics=['mae'])"
   ]
  },
  {
   "cell_type": "code",
   "execution_count": 257,
   "metadata": {
    "colab": {
     "base_uri": "https://localhost:8080/"
    },
    "id": "qlOXQa4gD3mt",
    "outputId": "9c18f757-9e40-4101-baa5-5101e69c6c4d"
   },
   "outputs": [
    {
     "name": "stdout",
     "output_type": "stream",
     "text": [
      "Epoch 1/50\n",
      "1/1 [==============================] - 5s 5s/step - loss: 0.2953 - mae: 0.5167 - val_loss: 0.2111 - val_mae: 0.4438\n",
      "Epoch 2/50\n",
      "1/1 [==============================] - 0s 132ms/step - loss: 0.2419 - mae: 0.4619 - val_loss: 0.1596 - val_mae: 0.3809\n",
      "Epoch 3/50\n",
      "1/1 [==============================] - 0s 129ms/step - loss: 0.1872 - mae: 0.3982 - val_loss: 0.1198 - val_mae: 0.3242\n",
      "Epoch 4/50\n",
      "1/1 [==============================] - 0s 118ms/step - loss: 0.1455 - mae: 0.3451 - val_loss: 0.0913 - val_mae: 0.2766\n",
      "Epoch 5/50\n",
      "1/1 [==============================] - 0s 115ms/step - loss: 0.1153 - mae: 0.3054 - val_loss: 0.0705 - val_mae: 0.2360\n",
      "Epoch 6/50\n",
      "1/1 [==============================] - 0s 117ms/step - loss: 0.0936 - mae: 0.2785 - val_loss: 0.0551 - val_mae: 0.2007\n",
      "Epoch 7/50\n",
      "1/1 [==============================] - 0s 130ms/step - loss: 0.0772 - mae: 0.2555 - val_loss: 0.0436 - val_mae: 0.1711\n",
      "Epoch 8/50\n",
      "1/1 [==============================] - 0s 123ms/step - loss: 0.0649 - mae: 0.2353 - val_loss: 0.0350 - val_mae: 0.1620\n",
      "Epoch 9/50\n",
      "1/1 [==============================] - 0s 125ms/step - loss: 0.0556 - mae: 0.2176 - val_loss: 0.0288 - val_mae: 0.1540\n",
      "Epoch 10/50\n",
      "1/1 [==============================] - 0s 121ms/step - loss: 0.0488 - mae: 0.2023 - val_loss: 0.0244 - val_mae: 0.1471\n",
      "Epoch 11/50\n",
      "1/1 [==============================] - 0s 120ms/step - loss: 0.0437 - mae: 0.1891 - val_loss: 0.0212 - val_mae: 0.1411\n",
      "Epoch 12/50\n",
      "1/1 [==============================] - 0s 136ms/step - loss: 0.0399 - mae: 0.1777 - val_loss: 0.0190 - val_mae: 0.1360\n",
      "Epoch 13/50\n",
      "1/1 [==============================] - 0s 130ms/step - loss: 0.0372 - mae: 0.1703 - val_loss: 0.0174 - val_mae: 0.1316\n",
      "Epoch 14/50\n",
      "1/1 [==============================] - 0s 123ms/step - loss: 0.0352 - mae: 0.1641 - val_loss: 0.0163 - val_mae: 0.1278\n",
      "Epoch 15/50\n",
      "1/1 [==============================] - 0s 116ms/step - loss: 0.0337 - mae: 0.1587 - val_loss: 0.0156 - val_mae: 0.1246\n",
      "Epoch 16/50\n",
      "1/1 [==============================] - 0s 117ms/step - loss: 0.0326 - mae: 0.1541 - val_loss: 0.0152 - val_mae: 0.1219\n",
      "Epoch 17/50\n",
      "1/1 [==============================] - 0s 132ms/step - loss: 0.0318 - mae: 0.1502 - val_loss: 0.0149 - val_mae: 0.1195\n",
      "Epoch 18/50\n",
      "1/1 [==============================] - 0s 115ms/step - loss: 0.0313 - mae: 0.1469 - val_loss: 0.0147 - val_mae: 0.1175\n",
      "Epoch 19/50\n",
      "1/1 [==============================] - 0s 124ms/step - loss: 0.0309 - mae: 0.1450 - val_loss: 0.0146 - val_mae: 0.1158\n",
      "Epoch 20/50\n",
      "1/1 [==============================] - 0s 123ms/step - loss: 0.0306 - mae: 0.1434 - val_loss: 0.0146 - val_mae: 0.1143\n",
      "Epoch 21/50\n",
      "1/1 [==============================] - 0s 117ms/step - loss: 0.0303 - mae: 0.1420 - val_loss: 0.0145 - val_mae: 0.1130\n",
      "Epoch 22/50\n",
      "1/1 [==============================] - 0s 114ms/step - loss: 0.0302 - mae: 0.1408 - val_loss: 0.0145 - val_mae: 0.1120\n",
      "Epoch 23/50\n",
      "1/1 [==============================] - 0s 121ms/step - loss: 0.0301 - mae: 0.1398 - val_loss: 0.0146 - val_mae: 0.1111\n",
      "Epoch 24/50\n",
      "1/1 [==============================] - 0s 122ms/step - loss: 0.0300 - mae: 0.1390 - val_loss: 0.0146 - val_mae: 0.1103\n",
      "Epoch 25/50\n",
      "1/1 [==============================] - 0s 130ms/step - loss: 0.0299 - mae: 0.1383 - val_loss: 0.0146 - val_mae: 0.1097\n",
      "Epoch 26/50\n",
      "1/1 [==============================] - 0s 123ms/step - loss: 0.0299 - mae: 0.1377 - val_loss: 0.0147 - val_mae: 0.1091\n",
      "Epoch 27/50\n",
      "1/1 [==============================] - 0s 120ms/step - loss: 0.0298 - mae: 0.1372 - val_loss: 0.0147 - val_mae: 0.1087\n",
      "Epoch 28/50\n",
      "1/1 [==============================] - 0s 115ms/step - loss: 0.0298 - mae: 0.1370 - val_loss: 0.0147 - val_mae: 0.1083\n",
      "Epoch 29/50\n",
      "1/1 [==============================] - 0s 122ms/step - loss: 0.0298 - mae: 0.1368 - val_loss: 0.0148 - val_mae: 0.1080\n",
      "Epoch 30/50\n",
      "1/1 [==============================] - 0s 117ms/step - loss: 0.0297 - mae: 0.1366 - val_loss: 0.0148 - val_mae: 0.1077\n",
      "Epoch 31/50\n",
      "1/1 [==============================] - 0s 121ms/step - loss: 0.0297 - mae: 0.1365 - val_loss: 0.0148 - val_mae: 0.1075\n",
      "Epoch 32/50\n",
      "1/1 [==============================] - 0s 121ms/step - loss: 0.0297 - mae: 0.1363 - val_loss: 0.0148 - val_mae: 0.1073\n",
      "Epoch 33/50\n",
      "1/1 [==============================] - 0s 137ms/step - loss: 0.0297 - mae: 0.1362 - val_loss: 0.0149 - val_mae: 0.1071\n",
      "Epoch 34/50\n",
      "1/1 [==============================] - 0s 126ms/step - loss: 0.0297 - mae: 0.1361 - val_loss: 0.0149 - val_mae: 0.1070\n",
      "Epoch 35/50\n",
      "1/1 [==============================] - 0s 117ms/step - loss: 0.0297 - mae: 0.1360 - val_loss: 0.0149 - val_mae: 0.1068\n",
      "Epoch 36/50\n",
      "1/1 [==============================] - 0s 126ms/step - loss: 0.0297 - mae: 0.1359 - val_loss: 0.0149 - val_mae: 0.1067\n",
      "Epoch 37/50\n",
      "1/1 [==============================] - 0s 133ms/step - loss: 0.0297 - mae: 0.1359 - val_loss: 0.0149 - val_mae: 0.1066\n",
      "Epoch 38/50\n",
      "1/1 [==============================] - 0s 123ms/step - loss: 0.0297 - mae: 0.1358 - val_loss: 0.0149 - val_mae: 0.1066\n",
      "Epoch 39/50\n",
      "1/1 [==============================] - 0s 123ms/step - loss: 0.0296 - mae: 0.1358 - val_loss: 0.0149 - val_mae: 0.1065\n",
      "Epoch 40/50\n",
      "1/1 [==============================] - 0s 125ms/step - loss: 0.0296 - mae: 0.1357 - val_loss: 0.0149 - val_mae: 0.1065\n",
      "Epoch 41/50\n",
      "1/1 [==============================] - 0s 133ms/step - loss: 0.0296 - mae: 0.1357 - val_loss: 0.0149 - val_mae: 0.1064\n"
     ]
    },
    {
     "data": {
      "text/plain": [
       "<keras.callbacks.History at 0x7fe941f71410>"
      ]
     },
     "execution_count": 257,
     "metadata": {},
     "output_type": "execute_result"
    }
   ],
   "source": [
    "model.fit(X_train, y_train, validation_split=0.2, epochs=50, callbacks=callbacks, batch_size=16)"
   ]
  },
  {
   "cell_type": "code",
   "execution_count": 258,
   "metadata": {
    "colab": {
     "base_uri": "https://localhost:8080/"
    },
    "id": "FnEu6hRxD_E9",
    "outputId": "0b68bcd9-e0a4-4066-d91a-a51667e43ca7"
   },
   "outputs": [
    {
     "name": "stdout",
     "output_type": "stream",
     "text": [
      "4/4 [==============================] - 0s 22ms/step - loss: 0.0493 - mae: 0.1746\n",
      "0.049292128533124924 0.17455872893333435\n"
     ]
    }
   ],
   "source": [
    "MSE, MAE = model.evaluate(X_test, y_test)\n",
    "print(MSE, MAE)"
   ]
  },
  {
   "cell_type": "code",
   "execution_count": null,
   "metadata": {
    "id": "8Rgc8tINEBd7"
   },
   "outputs": [],
   "source": [
    "predictions = model.predict(X_test)\n",
    "predictions = scaler.inverse_transform(predictions)\n",
    "predictions"
   ]
  },
  {
   "cell_type": "code",
   "execution_count": null,
   "metadata": {
    "id": "67vmcvPJEFdO"
   },
   "outputs": [],
   "source": [
    "import matplotlib.pyplot as plt\n",
    "plt.style.use('fivethirtyeight')\n",
    "plt.figure(figsize=(24,12))\n",
    "plt.title('30 Minutes ahead Electricity Price Forecasting')\n",
    "plt.xlabel('Step (30 Minutes)', fontsize=14)\n",
    "plt.ylabel('Electricity Price (AUD)', fontsize=18)\n",
    "plt.plot(predictions)\n",
    "plt.plot(scaler.inverse_transform(y_test))\n",
    "plt.legend(['Forecast', 'Actual'])\n",
    "plt.show()"
   ]
  },
  {
   "cell_type": "code",
   "execution_count": 263,
   "metadata": {
    "colab": {
     "base_uri": "https://localhost:8080/",
     "height": 649
    },
    "id": "42mk-7SXELZX",
    "outputId": "ee97476f-2232-432c-f0c3-1f519544b37b"
   },
   "outputs": [
    {
     "data": {
      "image/png": "[encoded data removed]",
      "text/plain": [
       "<Figure size 1728x864 with 1 Axes>"
      ]
     },
     "metadata": {},
     "output_type": "display_data"
    }
   ],
   "source": [
    "plt.style.use('fivethirtyeight')\n",
    "plt.figure(figsize=(24,12))\n",
    "plt.title('30 Minutes ahead Electricity Price Forecasting')\n",
    "plt.xlabel('Step (30 Minutes)', fontsize=14)\n",
    "plt.ylabel('Electricity Price (AUD)', fontsize=18)\n",
    "plt.plot(predictions[315:415])\n",
    "plt.plot(scaler.inverse_transform(y_test)[100:200])\n",
    "plt.legend(['Forecast', 'Actual'])\n",
    "plt.show()"
   ]
  },
  {
   "cell_type": "code",
   "execution_count": 262,
   "metadata": {
    "colab": {
     "base_uri": "https://localhost:8080/",
     "height": 649
    },
    "id": "MU8KFa3MESXE",
    "outputId": "c2363261-3fe3-4327-ea57-6be151a22357"
   },
   "outputs": [
    {
     "data": {
      "image/png": "[encoded data removed]",
      "text/plain": [
       "<Figure size 1728x864 with 1 Axes>"
      ]
     },
     "metadata": {},
     "output_type": "display_data"
    }
   ],
   "source": [
    "plt.style.use('fivethirtyeight')\n",
    "plt.figure(figsize=(24,12))\n",
    "plt.title('30 Minutes ahead Electricity Price Forecasting')\n",
    "plt.xlabel('Step (30 Minutes)', fontsize=14)\n",
    "plt.ylabel('Electricity Price (AUD)', fontsize=18)\n",
    "plt.plot(predictions[100:200])\n",
    "plt.plot(scaler.inverse_transform(y_test)[100:200])\n",
    "plt.legend(['Forecast', 'Actual'])\n",
    "plt.show()\n"
   ]
  }
 ],
 "metadata": {
  "colab": {
   "authorship_tag": "ABX9TyM1FuW0LC1uiKXWPN1RjDhs",
   "include_colab_link": true,
   "name": "Untitled30.ipynb",
   "provenance": []
  },
  "kernelspec": {
   "display_name": "Python 3 (ipykernel)",
   "language": "python",
   "name": "python3"
  },
  "language_info": {
   "codemirror_mode": {
    "name": "ipython",
    "version": 3
   },
   "file_extension": ".py",
   "mimetype": "text/x-python",
   "name": "python",
   "nbconvert_exporter": "python",
   "pygments_lexer": "ipython3",
   "version": "3.9.7"
  }
 },
 "nbformat": 4,
 "nbformat_minor": 1
}
