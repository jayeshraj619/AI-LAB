{
  "nbformat": 4,
  "nbformat_minor": 0,
  "metadata": {
    "colab": {
      "name": "Untitled17.ipynb",
      "provenance": [],
      "authorship_tag": "ABX9TyOW+PPSCYm+K8U0M9/atoi5",
      "include_colab_link": true
    },
    "kernelspec": {
      "name": "python3",
      "display_name": "Python 3"
    },
    "language_info": {
      "name": "python"
    }
  },
  "cells": [
    {
      "cell_type": "markdown",
      "metadata": {
        "id": "view-in-github",
        "colab_type": "text"
      },
      "source": [
        "<a href=\"https://colab.research.google.com/github/jayeshraj619/AI-LAB/blob/master/g1LSTM.ipynb\" target=\"_parent\"><img src=\"https://colab.research.google.com/assets/colab-badge.svg\" alt=\"Open In Colab\"/></a>"
      ]
    },
    {
      "cell_type": "code",
      "execution_count": 29,
      "metadata": {
        "colab": {
          "base_uri": "https://localhost:8080/",
          "height": 224
        },
        "id": "4uEtG3QV6jEY",
        "outputId": "01685091-7d0b-4c85-d7a9-00f47e12e6f9"
      },
      "outputs": [
        {
          "output_type": "stream",
          "name": "stdout",
          "text": [
            "Number of rows and columns: (449, 4)\n"
          ]
        },
        {
          "output_type": "execute_result",
          "data": {
            "text/html": [
              "\n",
              "  <div id=\"df-acae386f-dc29-4ff3-b8d4-71a1397613e3\">\n",
              "    <div class=\"colab-df-container\">\n",
              "      <div>\n",
              "<style scoped>\n",
              "    .dataframe tbody tr th:only-of-type {\n",
              "        vertical-align: middle;\n",
              "    }\n",
              "\n",
              "    .dataframe tbody tr th {\n",
              "        vertical-align: top;\n",
              "    }\n",
              "\n",
              "    .dataframe thead th {\n",
              "        text-align: right;\n",
              "    }\n",
              "</style>\n",
              "<table border=\"1\" class=\"dataframe\">\n",
              "  <thead>\n",
              "    <tr style=\"text-align: right;\">\n",
              "      <th></th>\n",
              "      <th>Date</th>\n",
              "      <th>Mean_gauge</th>\n",
              "      <th>D</th>\n",
              "      <th>MG</th>\n",
              "    </tr>\n",
              "  </thead>\n",
              "  <tbody>\n",
              "    <tr>\n",
              "      <th>0</th>\n",
              "      <td>01-02-1979</td>\n",
              "      <td>1.1474</td>\n",
              "      <td>8.1484</td>\n",
              "      <td>1.2036</td>\n",
              "    </tr>\n",
              "    <tr>\n",
              "      <th>1</th>\n",
              "      <td>01-03-1979</td>\n",
              "      <td>0.9602</td>\n",
              "      <td>6.8071</td>\n",
              "      <td>1.1474</td>\n",
              "    </tr>\n",
              "    <tr>\n",
              "      <th>2</th>\n",
              "      <td>01-04-1979</td>\n",
              "      <td>0.9348</td>\n",
              "      <td>2.5581</td>\n",
              "      <td>0.9602</td>\n",
              "    </tr>\n",
              "    <tr>\n",
              "      <th>3</th>\n",
              "      <td>01-05-1979</td>\n",
              "      <td>1.2443</td>\n",
              "      <td>2.7967</td>\n",
              "      <td>0.9348</td>\n",
              "    </tr>\n",
              "    <tr>\n",
              "      <th>4</th>\n",
              "      <td>01-06-1979</td>\n",
              "      <td>1.9105</td>\n",
              "      <td>13.4774</td>\n",
              "      <td>1.2443</td>\n",
              "    </tr>\n",
              "  </tbody>\n",
              "</table>\n",
              "</div>\n",
              "      <button class=\"colab-df-convert\" onclick=\"convertToInteractive('df-acae386f-dc29-4ff3-b8d4-71a1397613e3')\"\n",
              "              title=\"Convert this dataframe to an interactive table.\"\n",
              "              style=\"display:none;\">\n",
              "        \n",
              "  <svg xmlns=\"http://www.w3.org/2000/svg\" height=\"24px\"viewBox=\"0 0 24 24\"\n",
              "       width=\"24px\">\n",
              "    <path d=\"M0 0h24v24H0V0z\" fill=\"none\"/>\n",
              "    <path d=\"M18.56 5.44l.94 2.06.94-2.06 2.06-.94-2.06-.94-.94-2.06-.94 2.06-2.06.94zm-11 1L8.5 8.5l.94-2.06 2.06-.94-2.06-.94L8.5 2.5l-.94 2.06-2.06.94zm10 10l.94 2.06.94-2.06 2.06-.94-2.06-.94-.94-2.06-.94 2.06-2.06.94z\"/><path d=\"M17.41 7.96l-1.37-1.37c-.4-.4-.92-.59-1.43-.59-.52 0-1.04.2-1.43.59L10.3 9.45l-7.72 7.72c-.78.78-.78 2.05 0 2.83L4 21.41c.39.39.9.59 1.41.59.51 0 1.02-.2 1.41-.59l7.78-7.78 2.81-2.81c.8-.78.8-2.07 0-2.86zM5.41 20L4 18.59l7.72-7.72 1.47 1.35L5.41 20z\"/>\n",
              "  </svg>\n",
              "      </button>\n",
              "      \n",
              "  <style>\n",
              "    .colab-df-container {\n",
              "      display:flex;\n",
              "      flex-wrap:wrap;\n",
              "      gap: 12px;\n",
              "    }\n",
              "\n",
              "    .colab-df-convert {\n",
              "      background-color: #E8F0FE;\n",
              "      border: none;\n",
              "      border-radius: 50%;\n",
              "      cursor: pointer;\n",
              "      display: none;\n",
              "      fill: #1967D2;\n",
              "      height: 32px;\n",
              "      padding: 0 0 0 0;\n",
              "      width: 32px;\n",
              "    }\n",
              "\n",
              "    .colab-df-convert:hover {\n",
              "      background-color: #E2EBFA;\n",
              "      box-shadow: 0px 1px 2px rgba(60, 64, 67, 0.3), 0px 1px 3px 1px rgba(60, 64, 67, 0.15);\n",
              "      fill: #174EA6;\n",
              "    }\n",
              "\n",
              "    [theme=dark] .colab-df-convert {\n",
              "      background-color: #3B4455;\n",
              "      fill: #D2E3FC;\n",
              "    }\n",
              "\n",
              "    [theme=dark] .colab-df-convert:hover {\n",
              "      background-color: #434B5C;\n",
              "      box-shadow: 0px 1px 3px 1px rgba(0, 0, 0, 0.15);\n",
              "      filter: drop-shadow(0px 1px 2px rgba(0, 0, 0, 0.3));\n",
              "      fill: #FFFFFF;\n",
              "    }\n",
              "  </style>\n",
              "\n",
              "      <script>\n",
              "        const buttonEl =\n",
              "          document.querySelector('#df-acae386f-dc29-4ff3-b8d4-71a1397613e3 button.colab-df-convert');\n",
              "        buttonEl.style.display =\n",
              "          google.colab.kernel.accessAllowed ? 'block' : 'none';\n",
              "\n",
              "        async function convertToInteractive(key) {\n",
              "          const element = document.querySelector('#df-acae386f-dc29-4ff3-b8d4-71a1397613e3');\n",
              "          const dataTable =\n",
              "            await google.colab.kernel.invokeFunction('convertToInteractive',\n",
              "                                                     [key], {});\n",
              "          if (!dataTable) return;\n",
              "\n",
              "          const docLinkHtml = 'Like what you see? Visit the ' +\n",
              "            '<a target=\"_blank\" href=https://colab.research.google.com/notebooks/data_table.ipynb>data table notebook</a>'\n",
              "            + ' to learn more about interactive tables.';\n",
              "          element.innerHTML = '';\n",
              "          dataTable['output_type'] = 'display_data';\n",
              "          await google.colab.output.renderOutput(dataTable, element);\n",
              "          const docLink = document.createElement('div');\n",
              "          docLink.innerHTML = docLinkHtml;\n",
              "          element.appendChild(docLink);\n",
              "        }\n",
              "      </script>\n",
              "    </div>\n",
              "  </div>\n",
              "  "
            ],
            "text/plain": [
              "         Date  Mean_gauge       D     MG\n",
              "0  01-02-1979      1.1474  8.1484 1.2036\n",
              "1  01-03-1979      0.9602  6.8071 1.1474\n",
              "2  01-04-1979      0.9348  2.5581 0.9602\n",
              "3  01-05-1979      1.2443  2.7967 0.9348\n",
              "4  01-06-1979      1.9105 13.4774 1.2443"
            ]
          },
          "metadata": {},
          "execution_count": 29
        }
      ],
      "source": [
        "import numpy as np\n",
        "import matplotlib.pyplot as plt\n",
        "from sklearn.metrics import r2_score\n",
        "import pandas as pd\n",
        "pd.set_option('display.float_format', lambda x: '%.4f' % x)\n",
        "import seaborn as sns\n",
        "sns.set_context(\"paper\", font_scale=1.3)\n",
        "sns.set_style('white')\n",
        "import warnings\n",
        "import math\n",
        "warnings.filterwarnings('ignore')\n",
        "from time import time\n",
        "import matplotlib.ticker as tkr\n",
        "from scipy import stats\n",
        "from statsmodels.tsa.stattools import adfuller\n",
        "from sklearn import preprocessing\n",
        "from statsmodels.tsa.stattools import pacf\n",
        "%matplotlib inline\n",
        "import math\n",
        "import keras\n",
        "from keras.models import Sequential\n",
        "from keras.layers import Dense\n",
        "from keras.layers import LSTM\n",
        "from keras.layers import Dropout\n",
        "from keras.layers import *\n",
        "from sklearn.preprocessing import MinMaxScaler\n",
        "from sklearn.metrics import mean_squared_error as mse\n",
        "from sklearn.metrics import mean_absolute_error as mae\n",
        "from keras.callbacks import EarlyStopping\n",
        "df=pd.read_csv('/content/G1.csv',)\n",
        "print('Number of rows and columns:', df.shape)\n",
        "df.head(5)"
      ]
    },
    {
      "cell_type": "code",
      "source": [
        "df['date_time'] = pd.to_datetime(df['Date'], infer_datetime_format=True)"
      ],
      "metadata": {
        "id": "9vgzJPeO6lxk"
      },
      "execution_count": 30,
      "outputs": []
    },
    {
      "cell_type": "code",
      "source": [
        "df.info()"
      ],
      "metadata": {
        "colab": {
          "base_uri": "https://localhost:8080/"
        },
        "id": "ve96kEzq6nw0",
        "outputId": "9e96e4da-b13c-44a3-f24a-010ae2c93a42"
      },
      "execution_count": 31,
      "outputs": [
        {
          "output_type": "stream",
          "name": "stdout",
          "text": [
            "<class 'pandas.core.frame.DataFrame'>\n",
            "RangeIndex: 449 entries, 0 to 448\n",
            "Data columns (total 5 columns):\n",
            " #   Column      Non-Null Count  Dtype         \n",
            "---  ------      --------------  -----         \n",
            " 0   Date        449 non-null    object        \n",
            " 1   Mean_gauge  449 non-null    float64       \n",
            " 2   D           449 non-null    float64       \n",
            " 3   MG          449 non-null    float64       \n",
            " 4   date_time   449 non-null    datetime64[ns]\n",
            "dtypes: datetime64[ns](1), float64(3), object(1)\n",
            "memory usage: 17.7+ KB\n"
          ]
        }
      ]
    },
    {
      "cell_type": "code",
      "source": [
        "df['date_time']=pd.to_datetime(df['date_time']) \n",
        "df['year'] = df['date_time'].apply(lambda x: x.year)\n",
        "df['quarter'] = df['date_time'].apply(lambda x: x.quarter)\n",
        "df['month'] = df['date_time'].apply(lambda x: x.month)\n",
        "df['day'] = df['date_time'].apply(lambda x: x.day)"
      ],
      "metadata": {
        "id": "83nJ5D4o6p2v"
      },
      "execution_count": 32,
      "outputs": []
    },
    {
      "cell_type": "code",
      "source": [
        "df1=df.loc[:,['date_time','Mean_gauge']]\n",
        "df1.set_index('date_time',inplace=True)\n",
        "df1.plot(figsize=(12,5))\n",
        "plt.ylabel('MEAN GA')\n",
        "plt.legend().set_visible(False)\n",
        "plt.tight_layout()\n",
        "plt.title('MG')\n",
        "sns.despine(top=True)\n",
        "plt.show();"
      ],
      "metadata": {
        "colab": {
          "base_uri": "https://localhost:8080/",
          "height": 351
        },
        "id": "aM_vFnKG6rw6",
        "outputId": "c5227654-7b13-44e8-db1b-164459ac9886"
      },
      "execution_count": 34,
      "outputs": [
        {
          "output_type": "display_data",
          "data": {
            "image/png": "[encoded data removed]",
            "text/plain": [
              "<Figure size 864x360 with 1 Axes>"
            ]
          },
          "metadata": {
            "needs_background": "light"
          }
        }
      ]
    },
    {
      "cell_type": "code",
      "source": [
        "dataset = df.Mean_gauge.values #numpy.ndarray\n",
        "dataset = dataset.astype('float32')\n",
        "dataset = np.reshape(dataset, (-1, 1))\n",
        "scaler = MinMaxScaler(feature_range=(0, 1))\n",
        "dataset = scaler.fit_transform(dataset)\n",
        "train_size = int(len(dataset) * 0.50)\n",
        "test_size = len(dataset) - train_size\n",
        "train, test = dataset[0:train_size,:], dataset[train_size:len(dataset),:]\n",
        "\n",
        "def create_dataset(dataset, look_back=1):\n",
        "    X, Y = [], []\n",
        "    for i in range(len(dataset)-look_back-1):\n",
        "        a = dataset[i:(i+look_back), 0]\n",
        "        X.append(a)\n",
        "        Y.append(dataset[i + look_back, 0])\n",
        "    return np.array(X), np.array(Y)\n",
        "    \n",
        "look_back = 1\n",
        "X_train, Y_train = create_dataset(train, look_back)\n",
        "X_test, Y_test = create_dataset(test, look_back)\n",
        "\n",
        "# reshape input to be [samples, time steps, features]\n",
        "X_train = np.reshape(X_train, (X_train.shape[0], 1, X_train.shape[1]))\n",
        "X_test = np.reshape(X_test, (X_test.shape[0], 1, X_test.shape[1]))\n"
      ],
      "metadata": {
        "id": "-z2Lq2_i6vJ8"
      },
      "execution_count": 47,
      "outputs": []
    },
    {
      "cell_type": "code",
      "source": [
        "model = Sequential()\n",
        "model.add(LSTM(100, input_shape=(X_train.shape[1], X_train.shape[2])))\n",
        "model.add(Dense(1))\n",
        "model.compile(loss='mean_squared_error', optimizer='adam')\n",
        "\n",
        "history = model.fit(X_train, Y_train, epochs=100, batch_size=10, validation_data=(X_test, Y_test),verbose=2) \n",
        "model.summary()\n",
        "model.save(\"boy\")"
      ],
      "metadata": {
        "colab": {
          "base_uri": "https://localhost:8080/"
        },
        "id": "h5mFfHiJ6xUf",
        "outputId": "edf9ef5a-572c-4914-a9d5-40a5e1a2a49a"
      },
      "execution_count": 48,
      "outputs": [
        {
          "output_type": "stream",
          "name": "stdout",
          "text": [
            "Epoch 1/100\n",
            "23/23 - 2s - loss: 0.1056 - val_loss: 0.2183 - 2s/epoch - 108ms/step\n",
            "Epoch 2/100\n",
            "23/23 - 0s - loss: 0.0391 - val_loss: 0.1078 - 97ms/epoch - 4ms/step\n",
            "Epoch 3/100\n",
            "23/23 - 0s - loss: 0.0114 - val_loss: 0.0631 - 129ms/epoch - 6ms/step\n",
            "Epoch 4/100\n",
            "23/23 - 0s - loss: 0.0087 - val_loss: 0.0584 - 98ms/epoch - 4ms/step\n",
            "Epoch 5/100\n",
            "23/23 - 0s - loss: 0.0085 - val_loss: 0.0602 - 127ms/epoch - 6ms/step\n",
            "Epoch 6/100\n",
            "23/23 - 0s - loss: 0.0084 - val_loss: 0.0573 - 143ms/epoch - 6ms/step\n",
            "Epoch 7/100\n",
            "23/23 - 0s - loss: 0.0082 - val_loss: 0.0530 - 99ms/epoch - 4ms/step\n",
            "Epoch 8/100\n",
            "23/23 - 0s - loss: 0.0082 - val_loss: 0.0515 - 100ms/epoch - 4ms/step\n",
            "Epoch 9/100\n",
            "23/23 - 0s - loss: 0.0079 - val_loss: 0.0500 - 144ms/epoch - 6ms/step\n",
            "Epoch 10/100\n",
            "23/23 - 0s - loss: 0.0078 - val_loss: 0.0485 - 110ms/epoch - 5ms/step\n",
            "Epoch 11/100\n",
            "23/23 - 0s - loss: 0.0077 - val_loss: 0.0441 - 137ms/epoch - 6ms/step\n",
            "Epoch 12/100\n",
            "23/23 - 0s - loss: 0.0075 - val_loss: 0.0425 - 140ms/epoch - 6ms/step\n",
            "Epoch 13/100\n",
            "23/23 - 0s - loss: 0.0074 - val_loss: 0.0408 - 105ms/epoch - 5ms/step\n",
            "Epoch 14/100\n",
            "23/23 - 0s - loss: 0.0073 - val_loss: 0.0380 - 124ms/epoch - 5ms/step\n",
            "Epoch 15/100\n",
            "23/23 - 0s - loss: 0.0072 - val_loss: 0.0373 - 131ms/epoch - 6ms/step\n",
            "Epoch 16/100\n",
            "23/23 - 0s - loss: 0.0072 - val_loss: 0.0354 - 100ms/epoch - 4ms/step\n",
            "Epoch 17/100\n",
            "23/23 - 0s - loss: 0.0071 - val_loss: 0.0319 - 99ms/epoch - 4ms/step\n",
            "Epoch 18/100\n",
            "23/23 - 0s - loss: 0.0069 - val_loss: 0.0318 - 145ms/epoch - 6ms/step\n",
            "Epoch 19/100\n",
            "23/23 - 0s - loss: 0.0068 - val_loss: 0.0295 - 134ms/epoch - 6ms/step\n",
            "Epoch 20/100\n",
            "23/23 - 0s - loss: 0.0068 - val_loss: 0.0279 - 133ms/epoch - 6ms/step\n",
            "Epoch 21/100\n",
            "23/23 - 0s - loss: 0.0067 - val_loss: 0.0255 - 96ms/epoch - 4ms/step\n",
            "Epoch 22/100\n",
            "23/23 - 0s - loss: 0.0066 - val_loss: 0.0262 - 91ms/epoch - 4ms/step\n",
            "Epoch 23/100\n",
            "23/23 - 0s - loss: 0.0066 - val_loss: 0.0248 - 101ms/epoch - 4ms/step\n",
            "Epoch 24/100\n",
            "23/23 - 0s - loss: 0.0065 - val_loss: 0.0226 - 127ms/epoch - 6ms/step\n",
            "Epoch 25/100\n",
            "23/23 - 0s - loss: 0.0065 - val_loss: 0.0225 - 97ms/epoch - 4ms/step\n",
            "Epoch 26/100\n",
            "23/23 - 0s - loss: 0.0064 - val_loss: 0.0211 - 132ms/epoch - 6ms/step\n",
            "Epoch 27/100\n",
            "23/23 - 0s - loss: 0.0065 - val_loss: 0.0193 - 95ms/epoch - 4ms/step\n",
            "Epoch 28/100\n",
            "23/23 - 0s - loss: 0.0064 - val_loss: 0.0185 - 130ms/epoch - 6ms/step\n",
            "Epoch 29/100\n",
            "23/23 - 0s - loss: 0.0063 - val_loss: 0.0195 - 135ms/epoch - 6ms/step\n",
            "Epoch 30/100\n",
            "23/23 - 0s - loss: 0.0063 - val_loss: 0.0176 - 100ms/epoch - 4ms/step\n",
            "Epoch 31/100\n",
            "23/23 - 0s - loss: 0.0064 - val_loss: 0.0172 - 98ms/epoch - 4ms/step\n",
            "Epoch 32/100\n",
            "23/23 - 0s - loss: 0.0065 - val_loss: 0.0187 - 128ms/epoch - 6ms/step\n",
            "Epoch 33/100\n",
            "23/23 - 0s - loss: 0.0064 - val_loss: 0.0161 - 109ms/epoch - 5ms/step\n",
            "Epoch 34/100\n",
            "23/23 - 0s - loss: 0.0063 - val_loss: 0.0162 - 134ms/epoch - 6ms/step\n",
            "Epoch 35/100\n",
            "23/23 - 0s - loss: 0.0064 - val_loss: 0.0145 - 136ms/epoch - 6ms/step\n",
            "Epoch 36/100\n",
            "23/23 - 0s - loss: 0.0063 - val_loss: 0.0165 - 95ms/epoch - 4ms/step\n",
            "Epoch 37/100\n",
            "23/23 - 0s - loss: 0.0064 - val_loss: 0.0147 - 95ms/epoch - 4ms/step\n",
            "Epoch 38/100\n",
            "23/23 - 0s - loss: 0.0063 - val_loss: 0.0149 - 130ms/epoch - 6ms/step\n",
            "Epoch 39/100\n",
            "23/23 - 0s - loss: 0.0063 - val_loss: 0.0143 - 130ms/epoch - 6ms/step\n",
            "Epoch 40/100\n",
            "23/23 - 0s - loss: 0.0063 - val_loss: 0.0141 - 97ms/epoch - 4ms/step\n",
            "Epoch 41/100\n",
            "23/23 - 0s - loss: 0.0063 - val_loss: 0.0135 - 96ms/epoch - 4ms/step\n",
            "Epoch 42/100\n",
            "23/23 - 0s - loss: 0.0063 - val_loss: 0.0150 - 90ms/epoch - 4ms/step\n",
            "Epoch 43/100\n",
            "23/23 - 0s - loss: 0.0063 - val_loss: 0.0128 - 92ms/epoch - 4ms/step\n",
            "Epoch 44/100\n",
            "23/23 - 0s - loss: 0.0062 - val_loss: 0.0156 - 146ms/epoch - 6ms/step\n",
            "Epoch 45/100\n",
            "23/23 - 0s - loss: 0.0063 - val_loss: 0.0127 - 133ms/epoch - 6ms/step\n",
            "Epoch 46/100\n",
            "23/23 - 0s - loss: 0.0063 - val_loss: 0.0132 - 95ms/epoch - 4ms/step\n",
            "Epoch 47/100\n",
            "23/23 - 0s - loss: 0.0063 - val_loss: 0.0146 - 139ms/epoch - 6ms/step\n",
            "Epoch 48/100\n",
            "23/23 - 0s - loss: 0.0065 - val_loss: 0.0132 - 98ms/epoch - 4ms/step\n",
            "Epoch 49/100\n",
            "23/23 - 0s - loss: 0.0063 - val_loss: 0.0135 - 102ms/epoch - 4ms/step\n",
            "Epoch 50/100\n",
            "23/23 - 0s - loss: 0.0063 - val_loss: 0.0145 - 100ms/epoch - 4ms/step\n",
            "Epoch 51/100\n",
            "23/23 - 0s - loss: 0.0062 - val_loss: 0.0133 - 136ms/epoch - 6ms/step\n",
            "Epoch 52/100\n",
            "23/23 - 0s - loss: 0.0063 - val_loss: 0.0135 - 140ms/epoch - 6ms/step\n",
            "Epoch 53/100\n",
            "23/23 - 0s - loss: 0.0063 - val_loss: 0.0144 - 100ms/epoch - 4ms/step\n",
            "Epoch 54/100\n",
            "23/23 - 0s - loss: 0.0063 - val_loss: 0.0133 - 132ms/epoch - 6ms/step\n",
            "Epoch 55/100\n",
            "23/23 - 0s - loss: 0.0063 - val_loss: 0.0141 - 96ms/epoch - 4ms/step\n",
            "Epoch 56/100\n",
            "23/23 - 0s - loss: 0.0063 - val_loss: 0.0146 - 131ms/epoch - 6ms/step\n",
            "Epoch 57/100\n",
            "23/23 - 0s - loss: 0.0063 - val_loss: 0.0127 - 130ms/epoch - 6ms/step\n",
            "Epoch 58/100\n",
            "23/23 - 0s - loss: 0.0063 - val_loss: 0.0135 - 128ms/epoch - 6ms/step\n",
            "Epoch 59/100\n",
            "23/23 - 0s - loss: 0.0064 - val_loss: 0.0140 - 95ms/epoch - 4ms/step\n",
            "Epoch 60/100\n",
            "23/23 - 0s - loss: 0.0063 - val_loss: 0.0138 - 111ms/epoch - 5ms/step\n",
            "Epoch 61/100\n",
            "23/23 - 0s - loss: 0.0063 - val_loss: 0.0137 - 131ms/epoch - 6ms/step\n",
            "Epoch 62/100\n",
            "23/23 - 0s - loss: 0.0063 - val_loss: 0.0152 - 91ms/epoch - 4ms/step\n",
            "Epoch 63/100\n",
            "23/23 - 0s - loss: 0.0063 - val_loss: 0.0122 - 95ms/epoch - 4ms/step\n",
            "Epoch 64/100\n",
            "23/23 - 0s - loss: 0.0063 - val_loss: 0.0144 - 136ms/epoch - 6ms/step\n",
            "Epoch 65/100\n",
            "23/23 - 0s - loss: 0.0063 - val_loss: 0.0134 - 132ms/epoch - 6ms/step\n",
            "Epoch 66/100\n",
            "23/23 - 0s - loss: 0.0062 - val_loss: 0.0134 - 106ms/epoch - 5ms/step\n",
            "Epoch 67/100\n",
            "23/23 - 0s - loss: 0.0062 - val_loss: 0.0138 - 95ms/epoch - 4ms/step\n",
            "Epoch 68/100\n",
            "23/23 - 0s - loss: 0.0062 - val_loss: 0.0136 - 91ms/epoch - 4ms/step\n",
            "Epoch 69/100\n",
            "23/23 - 0s - loss: 0.0062 - val_loss: 0.0132 - 132ms/epoch - 6ms/step\n",
            "Epoch 70/100\n",
            "23/23 - 0s - loss: 0.0063 - val_loss: 0.0124 - 101ms/epoch - 4ms/step\n",
            "Epoch 71/100\n",
            "23/23 - 0s - loss: 0.0066 - val_loss: 0.0148 - 96ms/epoch - 4ms/step\n",
            "Epoch 72/100\n",
            "23/23 - 0s - loss: 0.0063 - val_loss: 0.0127 - 132ms/epoch - 6ms/step\n",
            "Epoch 73/100\n",
            "23/23 - 0s - loss: 0.0063 - val_loss: 0.0122 - 137ms/epoch - 6ms/step\n",
            "Epoch 74/100\n",
            "23/23 - 0s - loss: 0.0062 - val_loss: 0.0131 - 129ms/epoch - 6ms/step\n",
            "Epoch 75/100\n",
            "23/23 - 0s - loss: 0.0063 - val_loss: 0.0119 - 96ms/epoch - 4ms/step\n",
            "Epoch 76/100\n",
            "23/23 - 0s - loss: 0.0063 - val_loss: 0.0148 - 98ms/epoch - 4ms/step\n",
            "Epoch 77/100\n",
            "23/23 - 0s - loss: 0.0065 - val_loss: 0.0127 - 131ms/epoch - 6ms/step\n",
            "Epoch 78/100\n",
            "23/23 - 0s - loss: 0.0063 - val_loss: 0.0137 - 100ms/epoch - 4ms/step\n",
            "Epoch 79/100\n",
            "23/23 - 0s - loss: 0.0062 - val_loss: 0.0126 - 98ms/epoch - 4ms/step\n",
            "Epoch 80/100\n",
            "23/23 - 0s - loss: 0.0062 - val_loss: 0.0124 - 98ms/epoch - 4ms/step\n",
            "Epoch 81/100\n",
            "23/23 - 0s - loss: 0.0063 - val_loss: 0.0137 - 93ms/epoch - 4ms/step\n",
            "Epoch 82/100\n",
            "23/23 - 0s - loss: 0.0062 - val_loss: 0.0131 - 99ms/epoch - 4ms/step\n",
            "Epoch 83/100\n",
            "23/23 - 0s - loss: 0.0063 - val_loss: 0.0139 - 101ms/epoch - 4ms/step\n",
            "Epoch 84/100\n",
            "23/23 - 0s - loss: 0.0064 - val_loss: 0.0141 - 128ms/epoch - 6ms/step\n",
            "Epoch 85/100\n",
            "23/23 - 0s - loss: 0.0062 - val_loss: 0.0118 - 92ms/epoch - 4ms/step\n",
            "Epoch 86/100\n",
            "23/23 - 0s - loss: 0.0063 - val_loss: 0.0130 - 93ms/epoch - 4ms/step\n",
            "Epoch 87/100\n",
            "23/23 - 0s - loss: 0.0062 - val_loss: 0.0136 - 128ms/epoch - 6ms/step\n",
            "Epoch 88/100\n",
            "23/23 - 0s - loss: 0.0062 - val_loss: 0.0129 - 130ms/epoch - 6ms/step\n",
            "Epoch 89/100\n",
            "23/23 - 0s - loss: 0.0063 - val_loss: 0.0133 - 132ms/epoch - 6ms/step\n",
            "Epoch 90/100\n",
            "23/23 - 0s - loss: 0.0063 - val_loss: 0.0129 - 107ms/epoch - 5ms/step\n",
            "Epoch 91/100\n",
            "23/23 - 0s - loss: 0.0067 - val_loss: 0.0127 - 128ms/epoch - 6ms/step\n",
            "Epoch 92/100\n",
            "23/23 - 0s - loss: 0.0062 - val_loss: 0.0138 - 99ms/epoch - 4ms/step\n",
            "Epoch 93/100\n",
            "23/23 - 0s - loss: 0.0063 - val_loss: 0.0140 - 102ms/epoch - 4ms/step\n",
            "Epoch 94/100\n",
            "23/23 - 0s - loss: 0.0062 - val_loss: 0.0138 - 100ms/epoch - 4ms/step\n",
            "Epoch 95/100\n",
            "23/23 - 0s - loss: 0.0064 - val_loss: 0.0141 - 133ms/epoch - 6ms/step\n",
            "Epoch 96/100\n",
            "23/23 - 0s - loss: 0.0063 - val_loss: 0.0141 - 107ms/epoch - 5ms/step\n",
            "Epoch 97/100\n",
            "23/23 - 0s - loss: 0.0062 - val_loss: 0.0123 - 138ms/epoch - 6ms/step\n",
            "Epoch 98/100\n",
            "23/23 - 0s - loss: 0.0063 - val_loss: 0.0146 - 92ms/epoch - 4ms/step\n",
            "Epoch 99/100\n",
            "23/23 - 0s - loss: 0.0063 - val_loss: 0.0120 - 133ms/epoch - 6ms/step\n",
            "Epoch 100/100\n",
            "23/23 - 0s - loss: 0.0064 - val_loss: 0.0131 - 133ms/epoch - 6ms/step\n",
            "Model: \"sequential_2\"\n",
            "_________________________________________________________________\n",
            " Layer (type)                Output Shape              Param #   \n",
            "=================================================================\n",
            " lstm_2 (LSTM)               (None, 100)               40800     \n",
            "                                                                 \n",
            " dense_2 (Dense)             (None, 1)                 101       \n",
            "                                                                 \n",
            "=================================================================\n",
            "Total params: 40,901\n",
            "Trainable params: 40,901\n",
            "Non-trainable params: 0\n",
            "_________________________________________________________________\n"
          ]
        },
        {
          "output_type": "stream",
          "name": "stderr",
          "text": [
            "WARNING:absl:Found untraced functions such as lstm_cell_2_layer_call_fn, lstm_cell_2_layer_call_and_return_conditional_losses while saving (showing 2 of 2). These functions will not be directly callable after loading.\n"
          ]
        },
        {
          "output_type": "stream",
          "name": "stdout",
          "text": [
            "INFO:tensorflow:Assets written to: boy/assets\n"
          ]
        },
        {
          "output_type": "stream",
          "name": "stderr",
          "text": [
            "INFO:tensorflow:Assets written to: boy/assets\n",
            "WARNING:absl:<keras.layers.recurrent.LSTMCell object at 0x7fa608ecf310> has the same name 'LSTMCell' as a built-in Keras object. Consider renaming <class 'keras.layers.recurrent.LSTMCell'> to avoid naming conflicts when loading with `tf.keras.models.load_model`. If renaming is not possible, pass the object in the `custom_objects` parameter of the load function.\n"
          ]
        }
      ]
    },
    {
      "cell_type": "code",
      "source": [
        "train_predict = model.predict(X_train)\n",
        "test_predict = model.predict(X_test)\n",
        "# invert predictions\n",
        "train_predict = scaler.inverse_transform(train_predict)\n",
        "Y_train = scaler.inverse_transform([Y_train])\n",
        "test_predict = scaler.inverse_transform(test_predict)\n",
        "Y_test = scaler.inverse_transform([Y_test])\n",
        "#r2 = r2_score( train_predict[:,0], (Y_train[0])\n",
        "#print('r2 score for a model which predicts mean value always is', r2)\n",
        "print('Train Mean Absolute Error:', mae(Y_train[0], train_predict[:,0]))\n",
        "print('Train Root Mean Squared Error:',np.sqrt(mse(Y_train[0], train_predict[:,0])))\n",
        "print('Test Mean Absolute Error:', mae(Y_test[0], test_predict[:,0]))\n",
        "print('Test Root Mean Squared Error:',np.sqrt(mse(Y_test[0], test_predict[:,0])))"
      ],
      "metadata": {
        "colab": {
          "base_uri": "https://localhost:8080/"
        },
        "id": "_i0VQwM76zic",
        "outputId": "5c4a0b5c-ac71-41ed-d6f9-7f19efc11a52"
      },
      "execution_count": 49,
      "outputs": [
        {
          "output_type": "stream",
          "name": "stdout",
          "text": [
            "Train Mean Absolute Error: 0.4307725729617973\n",
            "Train Root Mean Squared Error: 0.5882622850458649\n",
            "Test Mean Absolute Error: 0.7263345233241442\n",
            "Test Root Mean Squared Error: 0.8570774285691152\n"
          ]
        }
      ]
    },
    {
      "cell_type": "code",
      "source": [
        "plt.figure(figsize=(8,4))\n",
        "plt.plot(history.history['loss'], label='Train Loss')\n",
        "plt.plot(history.history['val_loss'], label='Test Loss')\n",
        "plt.title('model loss')\n",
        "plt.ylabel('loss')\n",
        "plt.xlabel('epochs')\n",
        "plt.legend(loc='upper right')\n",
        "plt.show();"
      ],
      "metadata": {
        "colab": {
          "base_uri": "https://localhost:8080/",
          "height": 300
        },
        "id": "iege08c461YV",
        "outputId": "4e86fa9c-e06d-4338-f50c-86a4c830c7f4"
      },
      "execution_count": 50,
      "outputs": [
        {
          "output_type": "display_data",
          "data": {
            "image/png": "[encoded data removed]",
            "text/plain": [
              "<Figure size 576x288 with 1 Axes>"
            ]
          },
          "metadata": {
            "needs_background": "light"
          }
        }
      ]
    },
    {
      "cell_type": "code",
      "source": [
        "import math \n",
        "aa=[x for x in range(200)]\n",
        "plt.figure(figsize=(8,4))\n",
        "plt.plot(aa, Y_test[0][:200], marker='.', label=\"actual\")\n",
        "plt.plot(aa, test_predict[:,0][:200], 'r', label=\"prediction\")\n",
        "mae1=mae(Y_test[0][:200],test_predict[:,0][:200])\n",
        "mse1=mse(Y_test[0][:200],test_predict[:,0][:200])\n",
        "rmse1=np.sqrt(mse1)\n",
        "r2 = r2_score( Y_test[0][:200], test_predict[:,0][:200])\n",
        "print('Mean square error =', mse1)\n",
        "print('Mean absolute error =', mae1)\n",
        "print('Root mean square error=', rmse1)\n",
        "print('r2 score =', r2)\n",
        "# plt.tick_params(left=False, labelleft=True) #remove ticks\n",
        "plt.tight_layout()\n",
        "sns.despine(top=True)\n",
        "plt.subplots_adjust(left=0.07)\n",
        "plt.ylabel('spi1', size=15)\n",
        "plt.xlabel('Time step', size=15)\n",
        "plt.legend(fontsize=15)\n",
        "plt.show();"
      ],
      "metadata": {
        "colab": {
          "base_uri": "https://localhost:8080/",
          "height": 389
        },
        "id": "tHELwV-k64Iv",
        "outputId": "67c262e0-be95-4e73-df95-7d45db1de9c0"
      },
      "execution_count": 52,
      "outputs": [
        {
          "output_type": "stream",
          "name": "stdout",
          "text": [
            "Mean square error = 0.7379430311783307\n",
            "Mean absolute error = 0.7228582169890123\n",
            "Root mean square error= 0.859036105864201\n",
            "r2 score = 0.87159363349988\n"
          ]
        },
        {
          "output_type": "display_data",
          "data": {
            "image/png": "[encoded data removed]",
            "text/plain": [
              "<Figure size 576x288 with 1 Axes>"
            ]
          },
          "metadata": {
            "needs_background": "light"
          }
        }
      ]
    }
  ]
}