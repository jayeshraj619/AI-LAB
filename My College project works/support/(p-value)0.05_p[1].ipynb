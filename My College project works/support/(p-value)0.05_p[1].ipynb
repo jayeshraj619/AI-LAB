{
 "cells": [
  {
   "cell_type": "markdown",
   "metadata": {
    "colab_type": "text",
    "id": "view-in-github"
   },
   "source": [
    "<a href=\"https://colab.research.google.com/github/jayeshraj619/AI-LAB/blob/master/0.05%3Cp.ipynb\" target=\"_parent\"><img src=\"https://colab.research.google.com/assets/colab-badge.svg\" alt=\"Open In Colab\"/></a>"
   ]
  },
  {
   "cell_type": "code",
   "execution_count": 83,
   "metadata": {
    "colab": {
     "base_uri": "https://localhost:8080/"
    },
    "id": "Js52RakHqFQX",
    "outputId": "7939da74-a240-42ae-838e-5f03f419b8d1"
   },
   "outputs": [
    {
     "data": {
      "text/plain": [
       "pandas.core.frame.DataFrame"
      ]
     },
     "execution_count": 83,
     "metadata": {},
     "output_type": "execute_result"
    }
   ],
   "source": [
    "import pandas as pd\n",
    "from sklearn.model_selection import train_test_split\n",
    "dataset = pd.read_csv(\"/content/full.csv\")\n",
    "type(dataset)"
   ]
  },
  {
   "cell_type": "code",
   "execution_count": 84,
   "metadata": {
    "id": "HfzWWCy3rKgY"
   },
   "outputs": [],
   "source": [
    "y=dataset[\"spi1\"]\n",
    "x=dataset.drop(['spi1', 'spi3','spi6','month'], axis = 1)\n",
    "\n"
   ]
  },
  {
   "cell_type": "code",
   "execution_count": 85,
   "metadata": {
    "colab": {
     "base_uri": "https://localhost:8080/"
    },
    "id": "D7M9dnn7tCDu",
    "outputId": "e70d18eb-126f-4824-f636-c6141ca8e088"
   },
   "outputs": [
    {
     "data": {
      "text/plain": [
       "0     -0.889794\n",
       "1      0.889794\n",
       "2     -0.364798\n",
       "3      0.143235\n",
       "4      1.273802\n",
       "         ...   \n",
       "415    0.317544\n",
       "416    0.546507\n",
       "417    0.629004\n",
       "418    0.174373\n",
       "419    1.144318\n",
       "Name: spi1, Length: 420, dtype: float64"
      ]
     },
     "execution_count": 85,
     "metadata": {},
     "output_type": "execute_result"
    }
   ],
   "source": [
    "y"
   ]
  },
  {
   "cell_type": "code",
   "execution_count": 86,
   "metadata": {
    "id": "K1rrHgsxt2of"
   },
   "outputs": [],
   "source": [
    "from sklearn.utils import shuffle\n",
    "x_train,x_test,y_train,y_test=train_test_split(x,y,test_size=0.2,shuffle=False)"
   ]
  },
  {
   "cell_type": "code",
   "execution_count": 87,
   "metadata": {
    "id": "mG0Eou1iuOHp"
   },
   "outputs": [],
   "source": [
    "import statsmodels.api as sm"
   ]
  },
  {
   "cell_type": "code",
   "execution_count": 88,
   "metadata": {
    "colab": {
     "base_uri": "https://localhost:8080/"
    },
    "id": "5dTKZA0ouZhM",
    "outputId": "7055367a-0a10-4c5e-e6ba-25b47ecaa9f5"
   },
   "outputs": [
    {
     "name": "stderr",
     "output_type": "stream",
     "text": [
      "/usr/local/lib/python3.7/dist-packages/statsmodels/tsa/tsatools.py:117: FutureWarning: In a future version of pandas all arguments of concat except for the argument 'objs' will be keyword-only\n",
      "  x = pd.concat(x[::order], 1)\n"
     ]
    }
   ],
   "source": [
    "x_train_sm = sm.add_constant(x_train)"
   ]
  },
  {
   "cell_type": "code",
   "execution_count": 89,
   "metadata": {
    "colab": {
     "base_uri": "https://localhost:8080/",
     "height": 424
    },
    "id": "j3uxXjf9uwHI",
    "outputId": "d2e94c63-68d5-4207-f96f-05f0b9f418b9"
   },
   "outputs": [
    {
     "data": {
      "text/html": [
       "\n",
       "  <div id=\"df-66babb62-b9ba-4725-b1da-7c242281bf11\">\n",
       "    <div class=\"colab-df-container\">\n",
       "      <div>\n",
       "<style scoped>\n",
       "    .dataframe tbody tr th:only-of-type {\n",
       "        vertical-align: middle;\n",
       "    }\n",
       "\n",
       "    .dataframe tbody tr th {\n",
       "        vertical-align: top;\n",
       "    }\n",
       "\n",
       "    .dataframe thead th {\n",
       "        text-align: right;\n",
       "    }\n",
       "</style>\n",
       "<table border=\"1\" class=\"dataframe\">\n",
       "  <thead>\n",
       "    <tr style=\"text-align: right;\">\n",
       "      <th></th>\n",
       "      <th>const</th>\n",
       "      <th>precp</th>\n",
       "      <th>avg R.HUM</th>\n",
       "      <th>avg temp</th>\n",
       "      <th>avg wind</th>\n",
       "      <th>avg solar</th>\n",
       "    </tr>\n",
       "  </thead>\n",
       "  <tbody>\n",
       "    <tr>\n",
       "      <th>0</th>\n",
       "      <td>1.0</td>\n",
       "      <td>6.459619</td>\n",
       "      <td>0.856281</td>\n",
       "      <td>25.425283</td>\n",
       "      <td>2.189559</td>\n",
       "      <td>19.364782</td>\n",
       "    </tr>\n",
       "    <tr>\n",
       "      <th>1</th>\n",
       "      <td>1.0</td>\n",
       "      <td>11.276491</td>\n",
       "      <td>0.942733</td>\n",
       "      <td>22.978145</td>\n",
       "      <td>1.954671</td>\n",
       "      <td>14.713567</td>\n",
       "    </tr>\n",
       "    <tr>\n",
       "      <th>2</th>\n",
       "      <td>1.0</td>\n",
       "      <td>5.696694</td>\n",
       "      <td>0.903878</td>\n",
       "      <td>23.261097</td>\n",
       "      <td>1.825505</td>\n",
       "      <td>18.302932</td>\n",
       "    </tr>\n",
       "    <tr>\n",
       "      <th>3</th>\n",
       "      <td>1.0</td>\n",
       "      <td>5.293895</td>\n",
       "      <td>0.882303</td>\n",
       "      <td>24.600967</td>\n",
       "      <td>1.422751</td>\n",
       "      <td>21.047197</td>\n",
       "    </tr>\n",
       "    <tr>\n",
       "      <th>4</th>\n",
       "      <td>1.0</td>\n",
       "      <td>8.756116</td>\n",
       "      <td>0.833859</td>\n",
       "      <td>24.909726</td>\n",
       "      <td>1.340778</td>\n",
       "      <td>20.217253</td>\n",
       "    </tr>\n",
       "    <tr>\n",
       "      <th>...</th>\n",
       "      <td>...</td>\n",
       "      <td>...</td>\n",
       "      <td>...</td>\n",
       "      <td>...</td>\n",
       "      <td>...</td>\n",
       "      <td>...</td>\n",
       "    </tr>\n",
       "    <tr>\n",
       "      <th>331</th>\n",
       "      <td>1.0</td>\n",
       "      <td>0.204028</td>\n",
       "      <td>0.554504</td>\n",
       "      <td>30.312935</td>\n",
       "      <td>1.191007</td>\n",
       "      <td>24.941956</td>\n",
       "    </tr>\n",
       "    <tr>\n",
       "      <th>332</th>\n",
       "      <td>1.0</td>\n",
       "      <td>4.445247</td>\n",
       "      <td>0.729437</td>\n",
       "      <td>29.081482</td>\n",
       "      <td>1.337188</td>\n",
       "      <td>22.401536</td>\n",
       "    </tr>\n",
       "    <tr>\n",
       "      <th>333</th>\n",
       "      <td>1.0</td>\n",
       "      <td>4.108798</td>\n",
       "      <td>0.725149</td>\n",
       "      <td>27.937694</td>\n",
       "      <td>1.963193</td>\n",
       "      <td>23.300881</td>\n",
       "    </tr>\n",
       "    <tr>\n",
       "      <th>334</th>\n",
       "      <td>1.0</td>\n",
       "      <td>16.767827</td>\n",
       "      <td>0.922163</td>\n",
       "      <td>24.202117</td>\n",
       "      <td>2.192548</td>\n",
       "      <td>12.938130</td>\n",
       "    </tr>\n",
       "    <tr>\n",
       "      <th>335</th>\n",
       "      <td>1.0</td>\n",
       "      <td>16.905490</td>\n",
       "      <td>0.949208</td>\n",
       "      <td>23.476565</td>\n",
       "      <td>1.895041</td>\n",
       "      <td>13.024670</td>\n",
       "    </tr>\n",
       "  </tbody>\n",
       "</table>\n",
       "<p>336 rows × 6 columns</p>\n",
       "</div>\n",
       "      <button class=\"colab-df-convert\" onclick=\"convertToInteractive('df-66babb62-b9ba-4725-b1da-7c242281bf11')\"\n",
       "              title=\"Convert this dataframe to an interactive table.\"\n",
       "              style=\"display:none;\">\n",
       "        \n",
       "  <svg xmlns=\"http://www.w3.org/2000/svg\" height=\"24px\"viewBox=\"0 0 24 24\"\n",
       "       width=\"24px\">\n",
       "    <path d=\"M0 0h24v24H0V0z\" fill=\"none\"/>\n",
       "    <path d=\"M18.56 5.44l.94 2.06.94-2.06 2.06-.94-2.06-.94-.94-2.06-.94 2.06-2.06.94zm-11 1L8.5 8.5l.94-2.06 2.06-.94-2.06-.94L8.5 2.5l-.94 2.06-2.06.94zm10 10l.94 2.06.94-2.06 2.06-.94-2.06-.94-.94-2.06-.94 2.06-2.06.94z\"/><path d=\"M17.41 7.96l-1.37-1.37c-.4-.4-.92-.59-1.43-.59-.52 0-1.04.2-1.43.59L10.3 9.45l-7.72 7.72c-.78.78-.78 2.05 0 2.83L4 21.41c.39.39.9.59 1.41.59.51 0 1.02-.2 1.41-.59l7.78-7.78 2.81-2.81c.8-.78.8-2.07 0-2.86zM5.41 20L4 18.59l7.72-7.72 1.47 1.35L5.41 20z\"/>\n",
       "  </svg>\n",
       "      </button>\n",
       "      \n",
       "  <style>\n",
       "    .colab-df-container {\n",
       "      display:flex;\n",
       "      flex-wrap:wrap;\n",
       "      gap: 12px;\n",
       "    }\n",
       "\n",
       "    .colab-df-convert {\n",
       "      background-color: #E8F0FE;\n",
       "      border: none;\n",
       "      border-radius: 50%;\n",
       "      cursor: pointer;\n",
       "      display: none;\n",
       "      fill: #1967D2;\n",
       "      height: 32px;\n",
       "      padding: 0 0 0 0;\n",
       "      width: 32px;\n",
       "    }\n",
       "\n",
       "    .colab-df-convert:hover {\n",
       "      background-color: #E2EBFA;\n",
       "      box-shadow: 0px 1px 2px rgba(60, 64, 67, 0.3), 0px 1px 3px 1px rgba(60, 64, 67, 0.15);\n",
       "      fill: #174EA6;\n",
       "    }\n",
       "\n",
       "    [theme=dark] .colab-df-convert {\n",
       "      background-color: #3B4455;\n",
       "      fill: #D2E3FC;\n",
       "    }\n",
       "\n",
       "    [theme=dark] .colab-df-convert:hover {\n",
       "      background-color: #434B5C;\n",
       "      box-shadow: 0px 1px 3px 1px rgba(0, 0, 0, 0.15);\n",
       "      filter: drop-shadow(0px 1px 2px rgba(0, 0, 0, 0.3));\n",
       "      fill: #FFFFFF;\n",
       "    }\n",
       "  </style>\n",
       "\n",
       "      <script>\n",
       "        const buttonEl =\n",
       "          document.querySelector('#df-66babb62-b9ba-4725-b1da-7c242281bf11 button.colab-df-convert');\n",
       "        buttonEl.style.display =\n",
       "          google.colab.kernel.accessAllowed ? 'block' : 'none';\n",
       "\n",
       "        async function convertToInteractive(key) {\n",
       "          const element = document.querySelector('#df-66babb62-b9ba-4725-b1da-7c242281bf11');\n",
       "          const dataTable =\n",
       "            await google.colab.kernel.invokeFunction('convertToInteractive',\n",
       "                                                     [key], {});\n",
       "          if (!dataTable) return;\n",
       "\n",
       "          const docLinkHtml = 'Like what you see? Visit the ' +\n",
       "            '<a target=\"_blank\" href=https://colab.research.google.com/notebooks/data_table.ipynb>data table notebook</a>'\n",
       "            + ' to learn more about interactive tables.';\n",
       "          element.innerHTML = '';\n",
       "          dataTable['output_type'] = 'display_data';\n",
       "          await google.colab.output.renderOutput(dataTable, element);\n",
       "          const docLink = document.createElement('div');\n",
       "          docLink.innerHTML = docLinkHtml;\n",
       "          element.appendChild(docLink);\n",
       "        }\n",
       "      </script>\n",
       "    </div>\n",
       "  </div>\n",
       "  "
      ],
      "text/plain": [
       "     const      precp  avg R.HUM   avg temp  avg wind  avg solar\n",
       "0      1.0   6.459619   0.856281  25.425283  2.189559  19.364782\n",
       "1      1.0  11.276491   0.942733  22.978145  1.954671  14.713567\n",
       "2      1.0   5.696694   0.903878  23.261097  1.825505  18.302932\n",
       "3      1.0   5.293895   0.882303  24.600967  1.422751  21.047197\n",
       "4      1.0   8.756116   0.833859  24.909726  1.340778  20.217253\n",
       "..     ...        ...        ...        ...       ...        ...\n",
       "331    1.0   0.204028   0.554504  30.312935  1.191007  24.941956\n",
       "332    1.0   4.445247   0.729437  29.081482  1.337188  22.401536\n",
       "333    1.0   4.108798   0.725149  27.937694  1.963193  23.300881\n",
       "334    1.0  16.767827   0.922163  24.202117  2.192548  12.938130\n",
       "335    1.0  16.905490   0.949208  23.476565  1.895041  13.024670\n",
       "\n",
       "[336 rows x 6 columns]"
      ]
     },
     "execution_count": 89,
     "metadata": {},
     "output_type": "execute_result"
    }
   ],
   "source": [
    "x_train_sm"
   ]
  },
  {
   "cell_type": "code",
   "execution_count": 91,
   "metadata": {
    "colab": {
     "base_uri": "https://localhost:8080/"
    },
    "id": "SLx4fwEXu0LZ",
    "outputId": "8069d3d3-3965-47ee-de17-c6e43017f8b1"
   },
   "outputs": [
    {
     "name": "stdout",
     "output_type": "stream",
     "text": [
      "                            OLS Regression Results                            \n",
      "==============================================================================\n",
      "Dep. Variable:                   spi1   R-squared:                       0.481\n",
      "Model:                            OLS   Adj. R-squared:                  0.473\n",
      "Method:                 Least Squares   F-statistic:                     61.10\n",
      "Date:                Thu, 23 Jun 2022   Prob (F-statistic):           5.94e-45\n",
      "Time:                        13:55:24   Log-Likelihood:                -353.41\n",
      "No. Observations:                 336   AIC:                             718.8\n",
      "Df Residuals:                     330   BIC:                             741.7\n",
      "Df Model:                           5                                         \n",
      "Covariance Type:            nonrobust                                         \n",
      "==============================================================================\n",
      "                 coef    std err          t      P>|t|      [0.025      0.975]\n",
      "------------------------------------------------------------------------------\n",
      "const          2.4787      1.021      2.428      0.016       0.471       4.487\n",
      "precp          0.1224      0.013      9.109      0.000       0.096       0.149\n",
      "avg R.HUM     -2.3300      0.521     -4.474      0.000      -3.354      -1.306\n",
      "avg temp       0.0983      0.032      3.106      0.002       0.036       0.161\n",
      "avg wind      -0.6344      0.120     -5.298      0.000      -0.870      -0.399\n",
      "avg solar     -0.1422      0.025     -5.693      0.000      -0.191      -0.093\n",
      "==============================================================================\n",
      "Omnibus:                        5.428   Durbin-Watson:                   1.153\n",
      "Prob(Omnibus):                  0.066   Jarque-Bera (JB):                5.333\n",
      "Skew:                           0.243   Prob(JB):                       0.0695\n",
      "Kurtosis:                       3.380   Cond. No.                         929.\n",
      "==============================================================================\n",
      "\n",
      "Warnings:\n",
      "[1] Standard Errors assume that the covariance matrix of the errors is correctly specified.\n"
     ]
    }
   ],
   "source": [
    "ir=sm.OLS(y_train,x_train_sm).fit()\n",
    "print(ir.summary())"
   ]
  }
 ],
 "metadata": {
  "colab": {
   "authorship_tag": "ABX9TyPi8WvE/7RRtUzt7lXVXNQq",
   "include_colab_link": true,
   "name": "Untitled45.ipynb",
   "provenance": []
  },
  "kernelspec": {
   "display_name": "Python 3",
   "name": "python3"
  },
  "language_info": {
   "name": "python"
  }
 },
 "nbformat": 4,
 "nbformat_minor": 0
}
