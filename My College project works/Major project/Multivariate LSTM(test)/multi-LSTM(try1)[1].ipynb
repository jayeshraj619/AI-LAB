{
 "cells": [
  {
   "cell_type": "markdown",
   "metadata": {
    "colab_type": "text",
    "id": "view-in-github"
   },
   "source": [
    "<a href=\"https://colab.research.google.com/github/jayeshraj619/AI-LAB/blob/master/LSTM2.ipynb\" target=\"_parent\"><img src=\"https://colab.research.google.com/assets/colab-badge.svg\" alt=\"Open In Colab\"/></a>"
   ]
  },
  {
   "cell_type": "code",
   "execution_count": 1,
   "metadata": {
    "id": "umH2RrQ0Iijp"
   },
   "outputs": [],
   "source": [
    "import pandas as pd\n",
    "import matplotlib as mpl\n",
    "import matplotlib.pyplot as plt\n",
    "from sklearn.model_selection import train_test_split\n",
    "from keras.preprocessing.sequence import TimeseriesGenerator\n",
    "from sklearn.preprocessing import MinMaxScaler, StandardScaler\n",
    "import tensorflow as tf\n",
    "\n",
    "mpl.rcParams['figure.figsize'] = (10, 8)\n",
    "mpl.rcParams['axes.grid'] = False"
   ]
  },
  {
   "cell_type": "code",
   "execution_count": 6,
   "metadata": {
    "id": "ZdNByBttIyRi"
   },
   "outputs": [],
   "source": [
    "df = pd.read_csv('/content/LSPI11.csv')"
   ]
  },
  {
   "cell_type": "code",
   "execution_count": 7,
   "metadata": {
    "colab": {
     "base_uri": "https://localhost:8080/",
     "height": 423
    },
    "id": "uIr0ZcvhI5AT",
    "outputId": "8dbacbec-7834-4dfa-c7f8-082e64bb3019"
   },
   "outputs": [
    {
     "data": {
      "text/html": [
       "\n",
       "  <div id=\"df-91946b44-b18f-4585-8523-db2d7012b763\">\n",
       "    <div class=\"colab-df-container\">\n",
       "      <div>\n",
       "<style scoped>\n",
       "    .dataframe tbody tr th:only-of-type {\n",
       "        vertical-align: middle;\n",
       "    }\n",
       "\n",
       "    .dataframe tbody tr th {\n",
       "        vertical-align: top;\n",
       "    }\n",
       "\n",
       "    .dataframe thead th {\n",
       "        text-align: right;\n",
       "    }\n",
       "</style>\n",
       "<table border=\"1\" class=\"dataframe\">\n",
       "  <thead>\n",
       "    <tr style=\"text-align: right;\">\n",
       "      <th></th>\n",
       "      <th>Date</th>\n",
       "      <th>spi1</th>\n",
       "      <th>avgw vs spi1</th>\n",
       "      <th>avgh vs spi1</th>\n",
       "      <th>Lspi1</th>\n",
       "    </tr>\n",
       "  </thead>\n",
       "  <tbody>\n",
       "    <tr>\n",
       "      <th>0</th>\n",
       "      <td>01-05-1979</td>\n",
       "      <td>-1.714817</td>\n",
       "      <td>1.982121</td>\n",
       "      <td>0.680302</td>\n",
       "      <td>-1.714817</td>\n",
       "    </tr>\n",
       "    <tr>\n",
       "      <th>1</th>\n",
       "      <td>01-06-1979</td>\n",
       "      <td>-0.889794</td>\n",
       "      <td>1.233030</td>\n",
       "      <td>0.749740</td>\n",
       "      <td>-0.889794</td>\n",
       "    </tr>\n",
       "    <tr>\n",
       "      <th>2</th>\n",
       "      <td>01-07-1979</td>\n",
       "      <td>0.889794</td>\n",
       "      <td>1.248285</td>\n",
       "      <td>0.856281</td>\n",
       "      <td>0.889794</td>\n",
       "    </tr>\n",
       "    <tr>\n",
       "      <th>3</th>\n",
       "      <td>01-08-1979</td>\n",
       "      <td>-0.364798</td>\n",
       "      <td>1.316450</td>\n",
       "      <td>0.942733</td>\n",
       "      <td>-0.364798</td>\n",
       "    </tr>\n",
       "    <tr>\n",
       "      <th>4</th>\n",
       "      <td>01-09-1979</td>\n",
       "      <td>0.143235</td>\n",
       "      <td>1.741138</td>\n",
       "      <td>0.903878</td>\n",
       "      <td>0.143235</td>\n",
       "    </tr>\n",
       "    <tr>\n",
       "      <th>...</th>\n",
       "      <td>...</td>\n",
       "      <td>...</td>\n",
       "      <td>...</td>\n",
       "      <td>...</td>\n",
       "      <td>...</td>\n",
       "    </tr>\n",
       "    <tr>\n",
       "      <th>412</th>\n",
       "      <td>01-09-2013</td>\n",
       "      <td>-0.606144</td>\n",
       "      <td>1.246757</td>\n",
       "      <td>0.859645</td>\n",
       "      <td>-0.606144</td>\n",
       "    </tr>\n",
       "    <tr>\n",
       "      <th>413</th>\n",
       "      <td>01-10-2013</td>\n",
       "      <td>-2.145778</td>\n",
       "      <td>1.015529</td>\n",
       "      <td>0.772777</td>\n",
       "      <td>-2.145778</td>\n",
       "    </tr>\n",
       "    <tr>\n",
       "      <th>414</th>\n",
       "      <td>01-11-2013</td>\n",
       "      <td>-2.145778</td>\n",
       "      <td>0.991740</td>\n",
       "      <td>0.609961</td>\n",
       "      <td>-2.145778</td>\n",
       "    </tr>\n",
       "    <tr>\n",
       "      <th>415</th>\n",
       "      <td>01-12-2013</td>\n",
       "      <td>0.143235</td>\n",
       "      <td>1.094705</td>\n",
       "      <td>0.526293</td>\n",
       "      <td>0.143235</td>\n",
       "    </tr>\n",
       "    <tr>\n",
       "      <th>416</th>\n",
       "      <td>01-01-2014</td>\n",
       "      <td>0.317544</td>\n",
       "      <td>1.135905</td>\n",
       "      <td>0.604532</td>\n",
       "      <td>0.317544</td>\n",
       "    </tr>\n",
       "  </tbody>\n",
       "</table>\n",
       "<p>417 rows × 5 columns</p>\n",
       "</div>\n",
       "      <button class=\"colab-df-convert\" onclick=\"convertToInteractive('df-91946b44-b18f-4585-8523-db2d7012b763')\"\n",
       "              title=\"Convert this dataframe to an interactive table.\"\n",
       "              style=\"display:none;\">\n",
       "        \n",
       "  <svg xmlns=\"http://www.w3.org/2000/svg\" height=\"24px\"viewBox=\"0 0 24 24\"\n",
       "       width=\"24px\">\n",
       "    <path d=\"M0 0h24v24H0V0z\" fill=\"none\"/>\n",
       "    <path d=\"M18.56 5.44l.94 2.06.94-2.06 2.06-.94-2.06-.94-.94-2.06-.94 2.06-2.06.94zm-11 1L8.5 8.5l.94-2.06 2.06-.94-2.06-.94L8.5 2.5l-.94 2.06-2.06.94zm10 10l.94 2.06.94-2.06 2.06-.94-2.06-.94-.94-2.06-.94 2.06-2.06.94z\"/><path d=\"M17.41 7.96l-1.37-1.37c-.4-.4-.92-.59-1.43-.59-.52 0-1.04.2-1.43.59L10.3 9.45l-7.72 7.72c-.78.78-.78 2.05 0 2.83L4 21.41c.39.39.9.59 1.41.59.51 0 1.02-.2 1.41-.59l7.78-7.78 2.81-2.81c.8-.78.8-2.07 0-2.86zM5.41 20L4 18.59l7.72-7.72 1.47 1.35L5.41 20z\"/>\n",
       "  </svg>\n",
       "      </button>\n",
       "      \n",
       "  <style>\n",
       "    .colab-df-container {\n",
       "      display:flex;\n",
       "      flex-wrap:wrap;\n",
       "      gap: 12px;\n",
       "    }\n",
       "\n",
       "    .colab-df-convert {\n",
       "      background-color: #E8F0FE;\n",
       "      border: none;\n",
       "      border-radius: 50%;\n",
       "      cursor: pointer;\n",
       "      display: none;\n",
       "      fill: #1967D2;\n",
       "      height: 32px;\n",
       "      padding: 0 0 0 0;\n",
       "      width: 32px;\n",
       "    }\n",
       "\n",
       "    .colab-df-convert:hover {\n",
       "      background-color: #E2EBFA;\n",
       "      box-shadow: 0px 1px 2px rgba(60, 64, 67, 0.3), 0px 1px 3px 1px rgba(60, 64, 67, 0.15);\n",
       "      fill: #174EA6;\n",
       "    }\n",
       "\n",
       "    [theme=dark] .colab-df-convert {\n",
       "      background-color: #3B4455;\n",
       "      fill: #D2E3FC;\n",
       "    }\n",
       "\n",
       "    [theme=dark] .colab-df-convert:hover {\n",
       "      background-color: #434B5C;\n",
       "      box-shadow: 0px 1px 3px 1px rgba(0, 0, 0, 0.15);\n",
       "      filter: drop-shadow(0px 1px 2px rgba(0, 0, 0, 0.3));\n",
       "      fill: #FFFFFF;\n",
       "    }\n",
       "  </style>\n",
       "\n",
       "      <script>\n",
       "        const buttonEl =\n",
       "          document.querySelector('#df-91946b44-b18f-4585-8523-db2d7012b763 button.colab-df-convert');\n",
       "        buttonEl.style.display =\n",
       "          google.colab.kernel.accessAllowed ? 'block' : 'none';\n",
       "\n",
       "        async function convertToInteractive(key) {\n",
       "          const element = document.querySelector('#df-91946b44-b18f-4585-8523-db2d7012b763');\n",
       "          const dataTable =\n",
       "            await google.colab.kernel.invokeFunction('convertToInteractive',\n",
       "                                                     [key], {});\n",
       "          if (!dataTable) return;\n",
       "\n",
       "          const docLinkHtml = 'Like what you see? Visit the ' +\n",
       "            '<a target=\"_blank\" href=https://colab.research.google.com/notebooks/data_table.ipynb>data table notebook</a>'\n",
       "            + ' to learn more about interactive tables.';\n",
       "          element.innerHTML = '';\n",
       "          dataTable['output_type'] = 'display_data';\n",
       "          await google.colab.output.renderOutput(dataTable, element);\n",
       "          const docLink = document.createElement('div');\n",
       "          docLink.innerHTML = docLinkHtml;\n",
       "          element.appendChild(docLink);\n",
       "        }\n",
       "      </script>\n",
       "    </div>\n",
       "  </div>\n",
       "  "
      ],
      "text/plain": [
       "           Date      spi1  avgw vs spi1  avgh vs spi1     Lspi1\n",
       "0    01-05-1979 -1.714817      1.982121      0.680302 -1.714817\n",
       "1    01-06-1979 -0.889794      1.233030      0.749740 -0.889794\n",
       "2    01-07-1979  0.889794      1.248285      0.856281  0.889794\n",
       "3    01-08-1979 -0.364798      1.316450      0.942733 -0.364798\n",
       "4    01-09-1979  0.143235      1.741138      0.903878  0.143235\n",
       "..          ...       ...           ...           ...       ...\n",
       "412  01-09-2013 -0.606144      1.246757      0.859645 -0.606144\n",
       "413  01-10-2013 -2.145778      1.015529      0.772777 -2.145778\n",
       "414  01-11-2013 -2.145778      0.991740      0.609961 -2.145778\n",
       "415  01-12-2013  0.143235      1.094705      0.526293  0.143235\n",
       "416  01-01-2014  0.317544      1.135905      0.604532  0.317544\n",
       "\n",
       "[417 rows x 5 columns]"
      ]
     },
     "execution_count": 7,
     "metadata": {},
     "output_type": "execute_result"
    }
   ],
   "source": [
    "df"
   ]
  },
  {
   "cell_type": "code",
   "execution_count": 13,
   "metadata": {
    "colab": {
     "base_uri": "https://localhost:8080/"
    },
    "id": "NWLuGTHHNSNY",
    "outputId": "95732320-4ab6-4ad6-b56e-4198bb15771e"
   },
   "outputs": [
    {
     "name": "stdout",
     "output_type": "stream",
     "text": [
      "<class 'pandas.core.frame.DataFrame'>\n",
      "RangeIndex: 417 entries, 0 to 416\n",
      "Data columns (total 5 columns):\n",
      " #   Column        Non-Null Count  Dtype         \n",
      "---  ------        --------------  -----         \n",
      " 0   Date          417 non-null    datetime64[ns]\n",
      " 1   spi1          417 non-null    float64       \n",
      " 2   avgw vs spi1  417 non-null    float64       \n",
      " 3   avgh vs spi1  417 non-null    float64       \n",
      " 4   Lspi1         417 non-null    float64       \n",
      "dtypes: datetime64[ns](1), float64(4)\n",
      "memory usage: 16.4 KB\n"
     ]
    }
   ],
   "source": [
    "df.info()"
   ]
  },
  {
   "cell_type": "code",
   "execution_count": 9,
   "metadata": {
    "id": "F9XcdskHNbIQ"
   },
   "outputs": [],
   "source": [
    "df['Date'] = pd.to_datetime(df['Date'], infer_datetime_format=True)"
   ]
  },
  {
   "cell_type": "code",
   "execution_count": 168,
   "metadata": {
    "colab": {
     "base_uri": "https://localhost:8080/",
     "height": 342
    },
    "id": "hHVYiG2QNsAI",
    "outputId": "ddfd17da-1a43-47fe-bac5-73009b543099"
   },
   "outputs": [
    {
     "data": {
      "text/plain": [
       "array([<matplotlib.axes._subplots.AxesSubplot object at 0x7fbd356ab350>,\n",
       "       <matplotlib.axes._subplots.AxesSubplot object at 0x7fbd35673510>,\n",
       "       <matplotlib.axes._subplots.AxesSubplot object at 0x7fbd356ab090>],\n",
       "      dtype=object)"
      ]
     },
     "execution_count": 168,
     "metadata": {},
     "output_type": "execute_result"
    },
    {
     "data": {
      "image/png": "[encoded data removed]",
      "text/plain": [
       "<Figure size 432x288 with 3 Axes>"
      ]
     },
     "metadata": {
      "needs_background": "light"
     },
     "output_type": "display_data"
    }
   ],
   "source": [
    "df.set_index('Date')[['spi1', 'avgw vs spi1','avgh vs spi1',  ]].plot(subplots=True)"
   ]
  },
  {
   "cell_type": "code",
   "execution_count": 331,
   "metadata": {
    "id": "xzkatHxjQ_Yp"
   },
   "outputs": [],
   "source": [
    "df_input=df[['spi1','avgh vs spi1']]"
   ]
  },
  {
   "cell_type": "code",
   "execution_count": 332,
   "metadata": {
    "colab": {
     "base_uri": "https://localhost:8080/",
     "height": 300
    },
    "id": "L1fmyS_PRKB6",
    "outputId": "5a90036e-641a-4e23-8bbe-2cc144174f73"
   },
   "outputs": [
    {
     "data": {
      "text/html": [
       "\n",
       "  <div id=\"df-fd74a100-2dc8-425b-9e7c-fc0f215ee904\">\n",
       "    <div class=\"colab-df-container\">\n",
       "      <div>\n",
       "<style scoped>\n",
       "    .dataframe tbody tr th:only-of-type {\n",
       "        vertical-align: middle;\n",
       "    }\n",
       "\n",
       "    .dataframe tbody tr th {\n",
       "        vertical-align: top;\n",
       "    }\n",
       "\n",
       "    .dataframe thead th {\n",
       "        text-align: right;\n",
       "    }\n",
       "</style>\n",
       "<table border=\"1\" class=\"dataframe\">\n",
       "  <thead>\n",
       "    <tr style=\"text-align: right;\">\n",
       "      <th></th>\n",
       "      <th>spi1</th>\n",
       "      <th>avgh vs spi1</th>\n",
       "    </tr>\n",
       "  </thead>\n",
       "  <tbody>\n",
       "    <tr>\n",
       "      <th>count</th>\n",
       "      <td>417.000000</td>\n",
       "      <td>417.000000</td>\n",
       "    </tr>\n",
       "    <tr>\n",
       "      <th>mean</th>\n",
       "      <td>0.000863</td>\n",
       "      <td>0.761723</td>\n",
       "    </tr>\n",
       "    <tr>\n",
       "      <th>std</th>\n",
       "      <td>0.972946</td>\n",
       "      <td>0.141210</td>\n",
       "    </tr>\n",
       "    <tr>\n",
       "      <th>min</th>\n",
       "      <td>-2.156973</td>\n",
       "      <td>0.420376</td>\n",
       "    </tr>\n",
       "    <tr>\n",
       "      <th>25%</th>\n",
       "      <td>-0.694336</td>\n",
       "      <td>0.632047</td>\n",
       "    </tr>\n",
       "    <tr>\n",
       "      <th>50%</th>\n",
       "      <td>0.000000</td>\n",
       "      <td>0.776512</td>\n",
       "    </tr>\n",
       "    <tr>\n",
       "      <th>75%</th>\n",
       "      <td>0.694336</td>\n",
       "      <td>0.892296</td>\n",
       "    </tr>\n",
       "    <tr>\n",
       "      <th>max</th>\n",
       "      <td>2.156973</td>\n",
       "      <td>0.964165</td>\n",
       "    </tr>\n",
       "  </tbody>\n",
       "</table>\n",
       "</div>\n",
       "      <button class=\"colab-df-convert\" onclick=\"convertToInteractive('df-fd74a100-2dc8-425b-9e7c-fc0f215ee904')\"\n",
       "              title=\"Convert this dataframe to an interactive table.\"\n",
       "              style=\"display:none;\">\n",
       "        \n",
       "  <svg xmlns=\"http://www.w3.org/2000/svg\" height=\"24px\"viewBox=\"0 0 24 24\"\n",
       "       width=\"24px\">\n",
       "    <path d=\"M0 0h24v24H0V0z\" fill=\"none\"/>\n",
       "    <path d=\"M18.56 5.44l.94 2.06.94-2.06 2.06-.94-2.06-.94-.94-2.06-.94 2.06-2.06.94zm-11 1L8.5 8.5l.94-2.06 2.06-.94-2.06-.94L8.5 2.5l-.94 2.06-2.06.94zm10 10l.94 2.06.94-2.06 2.06-.94-2.06-.94-.94-2.06-.94 2.06-2.06.94z\"/><path d=\"M17.41 7.96l-1.37-1.37c-.4-.4-.92-.59-1.43-.59-.52 0-1.04.2-1.43.59L10.3 9.45l-7.72 7.72c-.78.78-.78 2.05 0 2.83L4 21.41c.39.39.9.59 1.41.59.51 0 1.02-.2 1.41-.59l7.78-7.78 2.81-2.81c.8-.78.8-2.07 0-2.86zM5.41 20L4 18.59l7.72-7.72 1.47 1.35L5.41 20z\"/>\n",
       "  </svg>\n",
       "      </button>\n",
       "      \n",
       "  <style>\n",
       "    .colab-df-container {\n",
       "      display:flex;\n",
       "      flex-wrap:wrap;\n",
       "      gap: 12px;\n",
       "    }\n",
       "\n",
       "    .colab-df-convert {\n",
       "      background-color: #E8F0FE;\n",
       "      border: none;\n",
       "      border-radius: 50%;\n",
       "      cursor: pointer;\n",
       "      display: none;\n",
       "      fill: #1967D2;\n",
       "      height: 32px;\n",
       "      padding: 0 0 0 0;\n",
       "      width: 32px;\n",
       "    }\n",
       "\n",
       "    .colab-df-convert:hover {\n",
       "      background-color: #E2EBFA;\n",
       "      box-shadow: 0px 1px 2px rgba(60, 64, 67, 0.3), 0px 1px 3px 1px rgba(60, 64, 67, 0.15);\n",
       "      fill: #174EA6;\n",
       "    }\n",
       "\n",
       "    [theme=dark] .colab-df-convert {\n",
       "      background-color: #3B4455;\n",
       "      fill: #D2E3FC;\n",
       "    }\n",
       "\n",
       "    [theme=dark] .colab-df-convert:hover {\n",
       "      background-color: #434B5C;\n",
       "      box-shadow: 0px 1px 3px 1px rgba(0, 0, 0, 0.15);\n",
       "      filter: drop-shadow(0px 1px 2px rgba(0, 0, 0, 0.3));\n",
       "      fill: #FFFFFF;\n",
       "    }\n",
       "  </style>\n",
       "\n",
       "      <script>\n",
       "        const buttonEl =\n",
       "          document.querySelector('#df-fd74a100-2dc8-425b-9e7c-fc0f215ee904 button.colab-df-convert');\n",
       "        buttonEl.style.display =\n",
       "          google.colab.kernel.accessAllowed ? 'block' : 'none';\n",
       "\n",
       "        async function convertToInteractive(key) {\n",
       "          const element = document.querySelector('#df-fd74a100-2dc8-425b-9e7c-fc0f215ee904');\n",
       "          const dataTable =\n",
       "            await google.colab.kernel.invokeFunction('convertToInteractive',\n",
       "                                                     [key], {});\n",
       "          if (!dataTable) return;\n",
       "\n",
       "          const docLinkHtml = 'Like what you see? Visit the ' +\n",
       "            '<a target=\"_blank\" href=https://colab.research.google.com/notebooks/data_table.ipynb>data table notebook</a>'\n",
       "            + ' to learn more about interactive tables.';\n",
       "          element.innerHTML = '';\n",
       "          dataTable['output_type'] = 'display_data';\n",
       "          await google.colab.output.renderOutput(dataTable, element);\n",
       "          const docLink = document.createElement('div');\n",
       "          docLink.innerHTML = docLinkHtml;\n",
       "          element.appendChild(docLink);\n",
       "        }\n",
       "      </script>\n",
       "    </div>\n",
       "  </div>\n",
       "  "
      ],
      "text/plain": [
       "             spi1  avgh vs spi1\n",
       "count  417.000000    417.000000\n",
       "mean     0.000863      0.761723\n",
       "std      0.972946      0.141210\n",
       "min     -2.156973      0.420376\n",
       "25%     -0.694336      0.632047\n",
       "50%      0.000000      0.776512\n",
       "75%      0.694336      0.892296\n",
       "max      2.156973      0.964165"
      ]
     },
     "execution_count": 332,
     "metadata": {},
     "output_type": "execute_result"
    }
   ],
   "source": [
    "df_input.describe()"
   ]
  },
  {
   "cell_type": "code",
   "execution_count": 333,
   "metadata": {
    "id": "fY1R1eqoReHi"
   },
   "outputs": [],
   "source": [
    "scaler = MinMaxScaler()\n",
    "data_scaled = scaler.fit_transform(df_input)"
   ]
  },
  {
   "cell_type": "code",
   "execution_count": 334,
   "metadata": {
    "colab": {
     "base_uri": "https://localhost:8080/"
    },
    "id": "egk2Qw7oRhQg",
    "outputId": "f7c83ff3-59cf-47f3-ef8d-75fece2bf9bd"
   },
   "outputs": [
    {
     "data": {
      "text/plain": [
       "array([[0.10249454, 0.47799001],\n",
       "       [0.29374005, 0.60568386],\n",
       "       [0.70625995, 0.80160707],\n",
       "       [0.41543745, 0.96058834],\n",
       "       [0.53320272, 0.88913552],\n",
       "       [0.79527541, 0.84946076],\n",
       "       [0.99740498, 0.76037431],\n",
       "       [0.70625995, 0.87272794],\n",
       "       [0.10249454, 0.64216613],\n",
       "       [0.15940552, 0.21421304],\n",
       "       [0.15940552, 0.13064376],\n",
       "       [0.15940552, 0.32969615],\n",
       "       [0.15940552, 0.49388925],\n",
       "       [0.58456255, 0.62779711],\n",
       "       [0.640508  , 0.94544155],\n",
       "       [0.640508  , 0.97978259],\n",
       "       [0.73213312, 0.9715481 ],\n",
       "       [0.99740498, 0.81472704],\n",
       "       [0.89443187, 0.81904767],\n",
       "       [0.66095146, 0.73126309],\n",
       "       [0.40925783, 0.56756525],\n",
       "       [0.        , 0.33645862],\n",
       "       [0.31250476, 0.11637226],\n",
       "       [0.20101662, 0.32403811],\n",
       "       [0.49195503, 0.48027273],\n",
       "       [0.89443187, 0.63418596],\n",
       "       [0.5       , 0.96377704],\n",
       "       [0.66095146, 0.93748102],\n",
       "       [0.68273186, 0.95639427],\n",
       "       [0.76127937, 0.88863839],\n",
       "       [0.73213312, 0.8787481 ],\n",
       "       [0.6025144 , 0.75268039],\n",
       "       [0.        , 0.50408814],\n",
       "       [0.10249454, 0.24681576],\n",
       "       [0.10249454, 0.18593154],\n",
       "       [0.10249454, 0.23491231],\n",
       "       [0.        , 0.4336231 ],\n",
       "       [0.62110398, 0.60259873],\n",
       "       [0.43289534, 0.87782357],\n",
       "       [0.73213312, 0.92393435],\n",
       "       [0.29374005, 0.95606555],\n",
       "       [0.66095146, 0.7572832 ],\n",
       "       [0.83718057, 0.72437187],\n",
       "       [0.48344116, 0.72560882],\n",
       "       [0.31250476, 0.30452968],\n",
       "       [0.20101662, 0.11648777],\n",
       "       [0.        , 0.29987694],\n",
       "       [0.        , 0.27655027],\n",
       "       [0.28923692, 0.34306018],\n",
       "       [0.359492  , 0.56688816],\n",
       "       [0.51655884, 0.78647851],\n",
       "       [0.99740498, 0.89010844],\n",
       "       [0.43289534, 0.98668816],\n",
       "       [0.640508  , 0.77979199],\n",
       "       [0.68273186, 0.66309158],\n",
       "       [0.89443187, 0.60794232],\n",
       "       [0.89750546, 0.48363622],\n",
       "       [0.66597922, 0.47837046],\n",
       "       [0.35419297, 0.37539077],\n",
       "       [0.23473982, 0.5555049 ],\n",
       "       [0.42639121, 0.54847578],\n",
       "       [0.33904854, 0.90278246],\n",
       "       [0.16281943, 0.9402435 ],\n",
       "       [0.37889602, 0.8836205 ],\n",
       "       [0.51655884, 0.81211996],\n",
       "       [0.55001978, 0.80240947],\n",
       "       [0.359492  , 0.66109865],\n",
       "       [0.79527541, 0.36297667],\n",
       "       [0.33402078, 0.40730943],\n",
       "       [0.44313115, 0.30958834],\n",
       "       [0.40925783, 0.37418563],\n",
       "       [0.33402078, 0.53807459],\n",
       "       [0.71076308, 0.53052015],\n",
       "       [0.46679728, 0.96481994],\n",
       "       [0.3974856 , 0.94994311],\n",
       "       [0.29374005, 0.92624029],\n",
       "       [0.5       , 0.80365508],\n",
       "       [0.51655884, 0.80877898],\n",
       "       [0.6025144 , 0.65491656],\n",
       "       [0.640508  , 0.49623354],\n",
       "       [0.44313115, 0.34814894],\n",
       "       [0.39161318, 0.31268696],\n",
       "       [0.26362316, 0.32584616],\n",
       "       [0.35419297, 0.46780757],\n",
       "       [0.50804497, 0.54140535],\n",
       "       [0.31726814, 0.82205058],\n",
       "       [0.37889602, 0.87046307],\n",
       "       [0.31726814, 0.8345033 ],\n",
       "       [0.62110398, 0.76849318],\n",
       "       [0.6025144 , 0.80409879],\n",
       "       [0.58456255, 0.70162041],\n",
       "       [0.29374005, 0.46413925],\n",
       "       [0.15940552, 0.19445279],\n",
       "       [0.23473982, 0.19603248],\n",
       "       [0.28923692, 0.26442633],\n",
       "       [0.26362316, 0.38925292],\n",
       "       [0.20101662, 0.59732376],\n",
       "       [0.00259502, 0.79788522],\n",
       "       [0.58456255, 0.76560998],\n",
       "       [0.44998022, 0.87405612],\n",
       "       [0.56710466, 0.79733253],\n",
       "       [0.83718057, 0.82705258],\n",
       "       [0.79527541, 0.77872136],\n",
       "       [0.20472459, 0.63566594],\n",
       "       [0.55686885, 0.21890682],\n",
       "       [0.28923692, 0.40731567],\n",
       "       [0.73637684, 0.34047375],\n",
       "       [0.68749524, 0.66289667],\n",
       "       [0.5404207 , 0.61361358],\n",
       "       [0.6025144 , 0.92194387],\n",
       "       [0.66095146, 0.96933488],\n",
       "       [0.6025144 , 0.94785166],\n",
       "       [0.48344116, 0.92866902],\n",
       "       [0.58456255, 0.76611348],\n",
       "       [0.51655884, 0.64516378],\n",
       "       [0.16281943, 0.36981042],\n",
       "       [0.23473982, 0.0895411 ],\n",
       "       [0.42639121, 0.06222763],\n",
       "       [0.33402078, 0.37596734],\n",
       "       [0.59074217, 0.50832357],\n",
       "       [0.59074217, 0.60809967],\n",
       "       [0.99740498, 0.95600457],\n",
       "       [0.44998022, 0.96201014],\n",
       "       [0.5       , 0.93084439],\n",
       "       [0.83718057, 0.8759809 ],\n",
       "       [0.53320272, 0.90924316],\n",
       "       [0.3974856 , 0.5819049 ],\n",
       "       [0.33904854, 0.42838582],\n",
       "       [0.52417382, 0.        ],\n",
       "       [0.50804497, 0.3460031 ],\n",
       "       [0.52417382, 0.41482661],\n",
       "       [1.        , 0.52978994],\n",
       "       [0.57360879, 0.85140192],\n",
       "       [0.53320272, 0.97351132],\n",
       "       [0.56710466, 0.95451308],\n",
       "       [0.26786688, 0.92938814],\n",
       "       [0.640508  , 0.74175014],\n",
       "       [0.56710466, 0.75515469],\n",
       "       [0.55001978, 0.66366129],\n",
       "       [0.51655884, 0.44009594],\n",
       "       [0.64580703, 0.27585977],\n",
       "       [0.4595793 , 0.19433573],\n",
       "       [0.76526018, 0.4043628 ],\n",
       "       [0.57360879, 0.55383352],\n",
       "       [1.        , 0.62110263],\n",
       "       [0.68273186, 0.98667166],\n",
       "       [0.359492  , 0.98904365],\n",
       "       [0.83718057, 0.89848535],\n",
       "       [0.76127937, 0.8243426 ],\n",
       "       [0.73213312, 0.81520537],\n",
       "       [0.62110398, 0.65058469],\n",
       "       [0.3974856 , 0.47540154],\n",
       "       [0.37331627, 0.20212914],\n",
       "       [0.26362316, 0.31271743],\n",
       "       [1.        , 0.21727278],\n",
       "       [0.42639121, 0.58326167],\n",
       "       [0.60838682, 0.68470374],\n",
       "       [0.70625995, 0.91730927],\n",
       "       [0.99740498, 0.97920103],\n",
       "       [0.89443187, 0.97509556],\n",
       "       [0.70625995, 0.91481092],\n",
       "       [0.70625995, 0.87242638],\n",
       "       [0.31726814, 0.77376704],\n",
       "       [0.10556813, 0.38434549],\n",
       "       [0.42639121, 0.08685358],\n",
       "       [0.33402078, 0.31873227],\n",
       "       [0.37331627, 0.42942541],\n",
       "       [0.66597922, 0.50109784],\n",
       "       [0.66597922, 0.66507198],\n",
       "       [0.66095146, 0.95467677],\n",
       "       [0.89443187, 0.98655961],\n",
       "       [0.56710466, 0.95240168],\n",
       "       [0.89443187, 0.86320552],\n",
       "       [0.68273186, 0.85599646],\n",
       "       [0.76127937, 0.78297332],\n",
       "       [0.99740498, 0.56125167],\n",
       "       [0.84059448, 0.4424846 ],\n",
       "       [0.57360879, 0.34715226],\n",
       "       [0.84059448, 0.40916042],\n",
       "       [0.76526018, 0.68674239],\n",
       "       [0.55686885, 0.76675786],\n",
       "       [0.73213312, 0.97023772],\n",
       "       [0.73213312, 1.        ],\n",
       "       [0.359492  , 0.93932765],\n",
       "       [0.99740498, 0.81350762],\n",
       "       [0.48344116, 0.88400698],\n",
       "       [0.20472459, 0.64114763],\n",
       "       [0.58456255, 0.39239501],\n",
       "       [0.35419297, 0.37654697],\n",
       "       [0.84059448, 0.29630175],\n",
       "       [0.66597922, 0.36554162],\n",
       "       [0.39161318, 0.56144474],\n",
       "       [0.84059448, 0.6897548 ],\n",
       "       [0.56710466, 0.94110805],\n",
       "       [0.79527541, 0.95767237],\n",
       "       [0.46679728, 0.93222334],\n",
       "       [0.79527541, 0.8477983 ],\n",
       "       [0.46679728, 0.80241665],\n",
       "       [0.29374005, 0.59715533],\n",
       "       [0.41543745, 0.24997817],\n",
       "       [0.60838682, 0.13646874],\n",
       "       [0.31250476, 0.19072628],\n",
       "       [0.62668373, 0.31901406],\n",
       "       [0.31250476, 0.59826061],\n",
       "       [0.47582618, 0.54151851],\n",
       "       [0.83718057, 0.83354307],\n",
       "       [0.53320272, 0.97645748],\n",
       "       [0.51655884, 0.92792707],\n",
       "       [0.6025144 , 0.87096005],\n",
       "       [0.62110398, 0.81637507],\n",
       "       [0.66095146, 0.66444557],\n",
       "       [0.359492  , 0.63260798],\n",
       "       [0.20101662, 0.39238388],\n",
       "       [0.59074217, 0.21471819],\n",
       "       [0.42639121, 0.46823987],\n",
       "       [0.40925783, 0.49534456],\n",
       "       [0.35419297, 0.52515162],\n",
       "       [0.640508  , 0.83745478],\n",
       "       [0.6025144 , 0.96939992],\n",
       "       [0.20472459, 0.92797822],\n",
       "       [0.58456255, 0.83617741],\n",
       "       [0.89443187, 0.80812621],\n",
       "       [0.640508  , 0.82286612],\n",
       "       [0.68273186, 0.66037035],\n",
       "       [0.28923692, 0.36267281],\n",
       "       [0.37331627, 0.33846243],\n",
       "       [0.47582618, 0.29263553],\n",
       "       [0.37331627, 0.53727219],\n",
       "       [0.68749524, 0.62834421],\n",
       "       [0.48344116, 0.92001572],\n",
       "       [0.55001978, 0.94483144],\n",
       "       [0.55001978, 0.91250048],\n",
       "       [0.66095146, 0.9256965 ],\n",
       "       [0.5       , 0.84685169],\n",
       "       [0.70625995, 0.65081947],\n",
       "       [0.56710466, 0.55730132],\n",
       "       [0.50804497, 0.11514174],\n",
       "       [0.73637684, 0.37014482],\n",
       "       [0.55686885, 0.55793683],\n",
       "       [0.49195503, 0.76079336],\n",
       "       [0.64580703, 0.86827087],\n",
       "       [0.20472459, 0.97078665],\n",
       "       [0.00259502, 0.84929735],\n",
       "       [0.62110398, 0.67195419],\n",
       "       [0.31726814, 0.87360259],\n",
       "       [0.16281943, 0.54359288],\n",
       "       [0.56710466, 0.41130491],\n",
       "       [0.55001978, 0.26480289],\n",
       "       [0.62668373, 0.36654711],\n",
       "       [0.55686885, 0.35625464],\n",
       "       [0.71076308, 0.49236586],\n",
       "       [0.52417382, 0.67568151],\n",
       "       [0.26362316, 0.91895343],\n",
       "       [0.5       , 0.84426966],\n",
       "       [0.76127937, 0.92824098],\n",
       "       [0.00259502, 0.85723069],\n",
       "       [0.3974856 , 0.73123204],\n",
       "       [0.33904854, 0.48041374],\n",
       "       [0.44998022, 0.2681707 ],\n",
       "       [0.26786688, 0.23868456],\n",
       "       [0.47582618, 0.23417514],\n",
       "       [0.76526018, 0.35911118],\n",
       "       [0.50804497, 0.5941976 ],\n",
       "       [0.79898338, 0.65215978],\n",
       "       [0.40925783, 0.96024552],\n",
       "       [0.51655884, 0.94243403],\n",
       "       [0.26786688, 0.89489314],\n",
       "       [0.70625995, 0.77972187],\n",
       "       [0.23872063, 0.79786722],\n",
       "       [0.359492  , 0.61758505],\n",
       "       [0.5       , 0.36071006],\n",
       "       [0.5       , 0.37061489],\n",
       "       [0.5404207 , 0.06502708],\n",
       "       [0.40925783, 0.3158529 ],\n",
       "       [0.59074217, 0.4375479 ],\n",
       "       [0.55686885, 0.72979289],\n",
       "       [0.23473982, 0.88531748],\n",
       "       [0.3974856 , 0.86688493],\n",
       "       [0.20472459, 0.883993  ],\n",
       "       [0.48344116, 0.72409698],\n",
       "       [0.26786688, 0.85098346],\n",
       "       [0.10556813, 0.63014056],\n",
       "       [0.41543745, 0.23683035],\n",
       "       [0.44998022, 0.20345305],\n",
       "       [0.76526018, 0.23668142],\n",
       "       [0.60838682, 0.39921487],\n",
       "       [0.23473982, 0.52100939],\n",
       "       [0.71076308, 0.49048564],\n",
       "       [0.52417382, 0.92011083],\n",
       "       [0.37889602, 0.95557124],\n",
       "       [0.33904854, 0.91158436],\n",
       "       [0.23872063, 0.74506322],\n",
       "       [0.33904854, 0.77589732],\n",
       "       [0.20472459, 0.52397619],\n",
       "       [0.43289534, 0.31564186],\n",
       "       [0.37889602, 0.29606876],\n",
       "       [0.79898338, 0.11670222],\n",
       "       [0.71076308, 0.43817667],\n",
       "       [0.79898338, 0.56190124],\n",
       "       [0.62668373, 0.8556685 ],\n",
       "       [0.37331627, 0.911124  ],\n",
       "       [0.10556813, 0.90564834],\n",
       "       [0.62110398, 0.79664217],\n",
       "       [0.53320272, 0.81864413],\n",
       "       [0.16281943, 0.79634825],\n",
       "       [0.23872063, 0.57795257],\n",
       "       [0.48344116, 0.31536629],\n",
       "       [0.46679728, 0.37847079],\n",
       "       [0.73637684, 0.14810034],\n",
       "       [0.64580703, 0.4382971 ],\n",
       "       [0.4595793 , 0.51432547],\n",
       "       [0.73637684, 0.58410941],\n",
       "       [0.62668373, 0.90829913],\n",
       "       [0.41543745, 0.94788754],\n",
       "       [0.31726814, 0.8653674 ],\n",
       "       [0.58456255, 0.81928195],\n",
       "       [0.41543745, 0.83877784],\n",
       "       [0.37889602, 0.7480179 ],\n",
       "       [0.37889602, 0.52613548],\n",
       "       [0.83718057, 0.25214791],\n",
       "       [0.68749524, 0.14607892],\n",
       "       [0.47582618, 0.36989531],\n",
       "       [0.68749524, 0.46553682],\n",
       "       [0.50804497, 0.70997646],\n",
       "       [0.33402078, 0.85087728],\n",
       "       [0.43289534, 0.916382  ],\n",
       "       [0.83718057, 0.84858405],\n",
       "       [0.76127937, 0.91820053],\n",
       "       [0.44998022, 0.8633795 ],\n",
       "       [0.29374005, 0.71582036],\n",
       "       [0.10556813, 0.37069765],\n",
       "       [0.43289534, 0.14308355],\n",
       "       [0.49195503, 0.26867409],\n",
       "       [0.89750546, 0.24665372],\n",
       "       [0.60838682, 0.56834843],\n",
       "       [0.89750546, 0.56046148],\n",
       "       [0.73637684, 0.92276183],\n",
       "       [0.55001978, 0.97249563],\n",
       "       [0.48344116, 0.91071074],\n",
       "       [0.68273186, 0.90639032],\n",
       "       [0.20472459, 0.86785734],\n",
       "       [0.44998022, 0.53672675],\n",
       "       [0.46679728, 0.34758304],\n",
       "       [0.76127937, 0.31142742],\n",
       "       [1.        , 0.25123345],\n",
       "       [0.35419297, 0.61551648],\n",
       "       [0.44313115, 0.41055453],\n",
       "       [0.47582618, 0.6286761 ],\n",
       "       [0.44313115, 0.85064111],\n",
       "       [0.44998022, 0.87988752],\n",
       "       [0.10556813, 0.86632261],\n",
       "       [0.3974856 , 0.77111808],\n",
       "       [0.37889602, 0.69881243],\n",
       "       [0.43289534, 0.6194282 ],\n",
       "       [0.23872063, 0.31236274],\n",
       "       [0.10556813, 0.15099631],\n",
       "       [0.71076308, 0.16600419],\n",
       "       [0.52417382, 0.36404396],\n",
       "       [0.5404207 , 0.51057997],\n",
       "       [0.44313115, 0.66307416],\n",
       "       [0.4595793 , 0.89172164],\n",
       "       [0.26786688, 0.95469201],\n",
       "       [0.41543745, 0.91017731],\n",
       "       [0.16281943, 0.8797236 ],\n",
       "       [0.55001978, 0.69607105],\n",
       "       [0.41543745, 0.77001486],\n",
       "       [0.53320272, 0.5153909 ],\n",
       "       [0.31726814, 0.31766459],\n",
       "       [0.39161318, 0.28983308],\n",
       "       [0.49195503, 0.28367399],\n",
       "       [0.39161318, 0.50998019],\n",
       "       [0.4595793 , 0.61779639],\n",
       "       [0.31250476, 0.88767568],\n",
       "       [0.23872063, 0.90844376],\n",
       "       [0.46679728, 0.88349759],\n",
       "       [0.10556813, 0.85337907],\n",
       "       [0.46679728, 0.84258164],\n",
       "       [0.3974856 , 0.76816809],\n",
       "       [0.26786688, 0.54983852],\n",
       "       [0.73213312, 0.20872263],\n",
       "       [0.66597922, 0.27717838],\n",
       "       [0.79898338, 0.38014737],\n",
       "       [0.89750546, 0.64611512],\n",
       "       [0.60838682, 0.74600927],\n",
       "       [0.79898338, 0.92364121],\n",
       "       [0.79527541, 0.969236  ],\n",
       "       [0.29374005, 0.97960577],\n",
       "       [0.43289534, 0.83953566],\n",
       "       [0.00259502, 0.80213403],\n",
       "       [0.26786688, 0.49096315],\n",
       "       [0.16281943, 0.30244896],\n",
       "       [0.23872063, 0.2383721 ],\n",
       "       [0.59074217, 0.19590646],\n",
       "       [1.        , 0.38104193],\n",
       "       [0.57360879, 0.59375772],\n",
       "       [0.64580703, 0.67110217],\n",
       "       [0.39161318, 0.88499998],\n",
       "       [0.76127937, 0.91223071],\n",
       "       [0.23872063, 0.94402103],\n",
       "       [0.79527541, 0.81473797],\n",
       "       [0.10556813, 0.79393015],\n",
       "       [0.31726814, 0.57032774],\n",
       "       [0.33904854, 0.33413516],\n",
       "       [0.62110398, 0.22259017],\n",
       "       [0.4595793 , 0.27421483],\n",
       "       [0.5404207 , 0.43101927],\n",
       "       [0.49195503, 0.48192993],\n",
       "       [0.84059448, 0.66721217],\n",
       "       [0.89750546, 0.9673569 ],\n",
       "       [0.16281943, 0.99079874],\n",
       "       [0.68273186, 0.86783676],\n",
       "       [0.33904854, 0.88674336],\n",
       "       [0.359492  , 0.80779313],\n",
       "       [0.00259502, 0.64804714],\n",
       "       [0.00259502, 0.34863686],\n",
       "       [0.53320272, 0.1947767 ],\n",
       "       [0.57360879, 0.33865325]])"
      ]
     },
     "execution_count": 334,
     "metadata": {},
     "output_type": "execute_result"
    }
   ],
   "source": [
    "data_scaled"
   ]
  },
  {
   "cell_type": "code",
   "execution_count": 335,
   "metadata": {
    "id": "iZtWPSePRoYl"
   },
   "outputs": [],
   "source": [
    "features=data_scaled\n",
    "target=data_scaled[:,0]"
   ]
  },
  {
   "cell_type": "code",
   "execution_count": 336,
   "metadata": {
    "colab": {
     "base_uri": "https://localhost:8080/"
    },
    "id": "nK1FrNT9RrsC",
    "outputId": "6e137ba9-5974-4cda-8eb4-2bdcc6ebf8c7"
   },
   "outputs": [
    {
     "data": {
      "text/plain": [
       "(array([[[0.10249454, 0.47799001],\n",
       "         [0.29374005, 0.60568386]]]), array([0.70625995]))"
      ]
     },
     "execution_count": 336,
     "metadata": {},
     "output_type": "execute_result"
    }
   ],
   "source": [
    "TimeseriesGenerator(features, target, length=2, sampling_rate=1, batch_size=1)[0]"
   ]
  },
  {
   "cell_type": "code",
   "execution_count": 337,
   "metadata": {
    "id": "C8GN4cHaTQCA"
   },
   "outputs": [],
   "source": [
    "x_train, x_test, y_train, y_test = train_test_split(features, target, test_size=0.01, random_state=123, shuffle = False)"
   ]
  },
  {
   "cell_type": "code",
   "execution_count": 340,
   "metadata": {
    "colab": {
     "base_uri": "https://localhost:8080/"
    },
    "id": "_3fOGHr-TS4X",
    "outputId": "946b71c5-4895-4534-cc75-7d1526415495"
   },
   "outputs": [
    {
     "data": {
      "text/plain": [
       "(412, 2)"
      ]
     },
     "execution_count": 340,
     "metadata": {},
     "output_type": "execute_result"
    }
   ],
   "source": [
    "x_train.shape"
   ]
  },
  {
   "cell_type": "code",
   "execution_count": 339,
   "metadata": {
    "colab": {
     "base_uri": "https://localhost:8080/"
    },
    "id": "hVA6G2NYTVMz",
    "outputId": "d76eb64e-6f8b-48e8-ac75-23cb3b6dd80b"
   },
   "outputs": [
    {
     "data": {
      "text/plain": [
       "(5, 2)"
      ]
     },
     "execution_count": 339,
     "metadata": {},
     "output_type": "execute_result"
    }
   ],
   "source": [
    "x_test.shape"
   ]
  },
  {
   "cell_type": "code",
   "execution_count": 341,
   "metadata": {
    "id": "3EucjIlATs5O"
   },
   "outputs": [],
   "source": [
    "win_length=3\n",
    "batch_size=10\n",
    "num_features=2\n",
    "train_generator = TimeseriesGenerator(x_train, y_train, length=win_length, sampling_rate=1, batch_size=batch_size)\n",
    "test_generator = TimeseriesGenerator(x_test, y_test, length=win_length, sampling_rate=1, batch_size=batch_size)"
   ]
  },
  {
   "cell_type": "code",
   "execution_count": 342,
   "metadata": {
    "colab": {
     "base_uri": "https://localhost:8080/"
    },
    "id": "HzGbScVTU0Qa",
    "outputId": "36aa8e26-f5fa-461b-d32a-6bfecdc8d6f5"
   },
   "outputs": [
    {
     "data": {
      "text/plain": [
       "(array([[[0.10249454, 0.47799001],\n",
       "         [0.29374005, 0.60568386],\n",
       "         [0.70625995, 0.80160707]],\n",
       " \n",
       "        [[0.29374005, 0.60568386],\n",
       "         [0.70625995, 0.80160707],\n",
       "         [0.41543745, 0.96058834]],\n",
       " \n",
       "        [[0.70625995, 0.80160707],\n",
       "         [0.41543745, 0.96058834],\n",
       "         [0.53320272, 0.88913552]],\n",
       " \n",
       "        [[0.41543745, 0.96058834],\n",
       "         [0.53320272, 0.88913552],\n",
       "         [0.79527541, 0.84946076]],\n",
       " \n",
       "        [[0.53320272, 0.88913552],\n",
       "         [0.79527541, 0.84946076],\n",
       "         [0.99740498, 0.76037431]],\n",
       " \n",
       "        [[0.79527541, 0.84946076],\n",
       "         [0.99740498, 0.76037431],\n",
       "         [0.70625995, 0.87272794]],\n",
       " \n",
       "        [[0.99740498, 0.76037431],\n",
       "         [0.70625995, 0.87272794],\n",
       "         [0.10249454, 0.64216613]],\n",
       " \n",
       "        [[0.70625995, 0.87272794],\n",
       "         [0.10249454, 0.64216613],\n",
       "         [0.15940552, 0.21421304]],\n",
       " \n",
       "        [[0.10249454, 0.64216613],\n",
       "         [0.15940552, 0.21421304],\n",
       "         [0.15940552, 0.13064376]],\n",
       " \n",
       "        [[0.15940552, 0.21421304],\n",
       "         [0.15940552, 0.13064376],\n",
       "         [0.15940552, 0.32969615]]]),\n",
       " array([0.41543745, 0.53320272, 0.79527541, 0.99740498, 0.70625995,\n",
       "        0.10249454, 0.15940552, 0.15940552, 0.15940552, 0.15940552]))"
      ]
     },
     "execution_count": 342,
     "metadata": {},
     "output_type": "execute_result"
    }
   ],
   "source": [
    "train_generator[0]"
   ]
  },
  {
   "cell_type": "code",
   "execution_count": 343,
   "metadata": {
    "id": "6Cd4uj_XV8OQ"
   },
   "outputs": [],
   "source": [
    "model = tf.keras.Sequential()\n",
    "model.add(tf.keras.layers.LSTM(64, input_shape= (win_length, num_features), return_sequences=True))\n",
    "model.add(tf.keras.layers.LSTM(32, return_sequences=False))\n",
    "model.add(tf.keras.layers.Dropout(0.3)) \n",
    "model.add(tf.keras.layers.Dense(1))"
   ]
  },
  {
   "cell_type": "code",
   "execution_count": 344,
   "metadata": {
    "colab": {
     "base_uri": "https://localhost:8080/"
    },
    "id": "1-dj5sGjV_Xl",
    "outputId": "d45cd30e-1c95-4e63-d60a-5f0d9064b4cb"
   },
   "outputs": [
    {
     "name": "stdout",
     "output_type": "stream",
     "text": [
      "Model: \"sequential_15\"\n",
      "_________________________________________________________________\n",
      " Layer (type)                Output Shape              Param #   \n",
      "=================================================================\n",
      " lstm_33 (LSTM)              (None, 3, 64)             17152     \n",
      "                                                                 \n",
      " lstm_34 (LSTM)              (None, 32)                12416     \n",
      "                                                                 \n",
      " dropout_18 (Dropout)        (None, 32)                0         \n",
      "                                                                 \n",
      " dense_15 (Dense)            (None, 1)                 33        \n",
      "                                                                 \n",
      "=================================================================\n",
      "Total params: 29,601\n",
      "Trainable params: 29,601\n",
      "Non-trainable params: 0\n",
      "_________________________________________________________________\n"
     ]
    }
   ],
   "source": [
    "model.summary()"
   ]
  },
  {
   "cell_type": "code",
   "execution_count": 345,
   "metadata": {
    "colab": {
     "base_uri": "https://localhost:8080/"
    },
    "id": "ojaz1WR6XXVo",
    "outputId": "5e775504-5a73-4c62-bccf-d3210389c6be"
   },
   "outputs": [
    {
     "name": "stdout",
     "output_type": "stream",
     "text": [
      "Epoch 1/30\n"
     ]
    },
    {
     "name": "stderr",
     "output_type": "stream",
     "text": [
      "/usr/local/lib/python3.7/dist-packages/ipykernel_launcher.py:12: UserWarning: `Model.fit_generator` is deprecated and will be removed in a future version. Please use `Model.fit`, which supports generators.\n",
      "  if sys.path[0] == '':\n"
     ]
    },
    {
     "name": "stdout",
     "output_type": "stream",
     "text": [
      "41/41 [==============================] - 5s 31ms/step - loss: 0.1140 - mean_absolute_error: 0.2702 - val_loss: 0.0572 - val_mean_absolute_error: 0.2335\n",
      "Epoch 2/30\n",
      "41/41 [==============================] - 0s 8ms/step - loss: 0.0596 - mean_absolute_error: 0.1941 - val_loss: 0.0512 - val_mean_absolute_error: 0.2215\n",
      "Epoch 3/30\n",
      "41/41 [==============================] - 0s 8ms/step - loss: 0.0563 - mean_absolute_error: 0.1885 - val_loss: 0.0548 - val_mean_absolute_error: 0.2307\n",
      "Epoch 4/30\n",
      "41/41 [==============================] - 0s 8ms/step - loss: 0.0531 - mean_absolute_error: 0.1828 - val_loss: 0.0560 - val_mean_absolute_error: 0.2342\n"
     ]
    }
   ],
   "source": [
    "early_stopping = tf.keras.callbacks.EarlyStopping(monitor='val_loss',\n",
    "                                                    patience=2,\n",
    "                                                    mode='min')\n",
    "\n",
    "model.compile(loss=tf.losses.MeanSquaredError(),\n",
    "              optimizer=tf.optimizers.Adam(),\n",
    "              metrics=[tf.metrics.MeanAbsoluteError()])\n",
    "\n",
    "history = model.fit_generator(train_generator, epochs=30,\n",
    "                    validation_data=test_generator,\n",
    "                    shuffle=False,\n",
    "                    callbacks=[early_stopping])"
   ]
  },
  {
   "cell_type": "code",
   "execution_count": 346,
   "metadata": {
    "colab": {
     "base_uri": "https://localhost:8080/"
    },
    "id": "_9ClGuSnX0av",
    "outputId": "b7972c64-0443-4c20-ebe7-56385e98a802"
   },
   "outputs": [
    {
     "name": "stderr",
     "output_type": "stream",
     "text": [
      "/usr/local/lib/python3.7/dist-packages/ipykernel_launcher.py:1: UserWarning: `Model.predict_generator` is deprecated and will be removed in a future version. Please use `Model.predict`, which supports generators.\n",
      "  \"\"\"Entry point for launching an IPython kernel.\n"
     ]
    }
   ],
   "source": [
    "predictions=model.predict_generator(test_generator)"
   ]
  },
  {
   "cell_type": "code",
   "execution_count": 347,
   "metadata": {
    "colab": {
     "base_uri": "https://localhost:8080/"
    },
    "id": "GvCWFsUuX4Pb",
    "outputId": "11a8e2d7-e407-42ea-965e-f4d176f9a556"
   },
   "outputs": [
    {
     "data": {
      "text/plain": [
       "2"
      ]
     },
     "execution_count": 347,
     "metadata": {},
     "output_type": "execute_result"
    }
   ],
   "source": [
    "predictions.shape[0]"
   ]
  },
  {
   "cell_type": "code",
   "execution_count": 348,
   "metadata": {
    "colab": {
     "base_uri": "https://localhost:8080/"
    },
    "id": "x_4uBBimX8Xq",
    "outputId": "53d8169f-935f-4a98-de7f-c78840ac51f1"
   },
   "outputs": [
    {
     "data": {
      "text/plain": [
       "array([[0.33233967],\n",
       "       [0.30610833]], dtype=float32)"
      ]
     },
     "execution_count": 348,
     "metadata": {},
     "output_type": "execute_result"
    }
   ],
   "source": [
    "predictions"
   ]
  },
  {
   "cell_type": "code",
   "execution_count": 349,
   "metadata": {
    "colab": {
     "base_uri": "https://localhost:8080/"
    },
    "id": "zHcaDMFKX__G",
    "outputId": "62452bad-1ba1-4120-d849-48e6b8ea2561"
   },
   "outputs": [
    {
     "data": {
      "text/plain": [
       "array([0.359492  , 0.00259502, 0.00259502, 0.53320272, 0.57360879])"
      ]
     },
     "execution_count": 349,
     "metadata": {},
     "output_type": "execute_result"
    }
   ],
   "source": [
    "y_test"
   ]
  },
  {
   "cell_type": "code",
   "execution_count": 350,
   "metadata": {
    "colab": {
     "base_uri": "https://localhost:8080/"
    },
    "id": "XKpwvnSTYCWT",
    "outputId": "714bb44b-bad4-4e4c-a188-4e3090bff25f"
   },
   "outputs": [
    {
     "data": {
      "text/plain": [
       "array([[0.359492  , 0.80779313],\n",
       "       [0.00259502, 0.64804714],\n",
       "       [0.00259502, 0.34863686],\n",
       "       [0.53320272, 0.1947767 ],\n",
       "       [0.57360879, 0.33865325]])"
      ]
     },
     "execution_count": 350,
     "metadata": {},
     "output_type": "execute_result"
    }
   ],
   "source": [
    "x_test"
   ]
  },
  {
   "cell_type": "code",
   "execution_count": 351,
   "metadata": {
    "colab": {
     "base_uri": "https://localhost:8080/"
    },
    "id": "nG-gEWwIYFww",
    "outputId": "b459ee09-fe02-4c7f-b631-627557b623cc"
   },
   "outputs": [
    {
     "data": {
      "text/plain": [
       "array([[0.1947767 ],\n",
       "       [0.33865325]])"
      ]
     },
     "execution_count": 351,
     "metadata": {},
     "output_type": "execute_result"
    }
   ],
   "source": [
    "x_test[:,1:][win_length:]"
   ]
  },
  {
   "cell_type": "code",
   "execution_count": 352,
   "metadata": {
    "id": "66wSM4XQYjhq"
   },
   "outputs": [],
   "source": [
    "df_pred=pd.concat([pd.DataFrame(predictions), pd.DataFrame(x_test[:,1:][win_length:])],axis=1)"
   ]
  },
  {
   "cell_type": "code",
   "execution_count": 323,
   "metadata": {
    "colab": {
     "base_uri": "https://localhost:8080/",
     "height": 112
    },
    "id": "klzzeUgTYmpc",
    "outputId": "21c5c4ad-2523-48b5-b15b-53cee6c9151c"
   },
   "outputs": [
    {
     "data": {
      "text/html": [
       "\n",
       "  <div id=\"df-b8b76f44-d250-41be-93ca-6387abe95c9c\">\n",
       "    <div class=\"colab-df-container\">\n",
       "      <div>\n",
       "<style scoped>\n",
       "    .dataframe tbody tr th:only-of-type {\n",
       "        vertical-align: middle;\n",
       "    }\n",
       "\n",
       "    .dataframe tbody tr th {\n",
       "        vertical-align: top;\n",
       "    }\n",
       "\n",
       "    .dataframe thead th {\n",
       "        text-align: right;\n",
       "    }\n",
       "</style>\n",
       "<table border=\"1\" class=\"dataframe\">\n",
       "  <thead>\n",
       "    <tr style=\"text-align: right;\">\n",
       "      <th></th>\n",
       "      <th>0</th>\n",
       "      <th>0</th>\n",
       "    </tr>\n",
       "  </thead>\n",
       "  <tbody>\n",
       "    <tr>\n",
       "      <th>0</th>\n",
       "      <td>0.336899</td>\n",
       "      <td>0.533203</td>\n",
       "    </tr>\n",
       "    <tr>\n",
       "      <th>1</th>\n",
       "      <td>0.362298</td>\n",
       "      <td>0.573609</td>\n",
       "    </tr>\n",
       "  </tbody>\n",
       "</table>\n",
       "</div>\n",
       "      <button class=\"colab-df-convert\" onclick=\"convertToInteractive('df-b8b76f44-d250-41be-93ca-6387abe95c9c')\"\n",
       "              title=\"Convert this dataframe to an interactive table.\"\n",
       "              style=\"display:none;\">\n",
       "        \n",
       "  <svg xmlns=\"http://www.w3.org/2000/svg\" height=\"24px\"viewBox=\"0 0 24 24\"\n",
       "       width=\"24px\">\n",
       "    <path d=\"M0 0h24v24H0V0z\" fill=\"none\"/>\n",
       "    <path d=\"M18.56 5.44l.94 2.06.94-2.06 2.06-.94-2.06-.94-.94-2.06-.94 2.06-2.06.94zm-11 1L8.5 8.5l.94-2.06 2.06-.94-2.06-.94L8.5 2.5l-.94 2.06-2.06.94zm10 10l.94 2.06.94-2.06 2.06-.94-2.06-.94-.94-2.06-.94 2.06-2.06.94z\"/><path d=\"M17.41 7.96l-1.37-1.37c-.4-.4-.92-.59-1.43-.59-.52 0-1.04.2-1.43.59L10.3 9.45l-7.72 7.72c-.78.78-.78 2.05 0 2.83L4 21.41c.39.39.9.59 1.41.59.51 0 1.02-.2 1.41-.59l7.78-7.78 2.81-2.81c.8-.78.8-2.07 0-2.86zM5.41 20L4 18.59l7.72-7.72 1.47 1.35L5.41 20z\"/>\n",
       "  </svg>\n",
       "      </button>\n",
       "      \n",
       "  <style>\n",
       "    .colab-df-container {\n",
       "      display:flex;\n",
       "      flex-wrap:wrap;\n",
       "      gap: 12px;\n",
       "    }\n",
       "\n",
       "    .colab-df-convert {\n",
       "      background-color: #E8F0FE;\n",
       "      border: none;\n",
       "      border-radius: 50%;\n",
       "      cursor: pointer;\n",
       "      display: none;\n",
       "      fill: #1967D2;\n",
       "      height: 32px;\n",
       "      padding: 0 0 0 0;\n",
       "      width: 32px;\n",
       "    }\n",
       "\n",
       "    .colab-df-convert:hover {\n",
       "      background-color: #E2EBFA;\n",
       "      box-shadow: 0px 1px 2px rgba(60, 64, 67, 0.3), 0px 1px 3px 1px rgba(60, 64, 67, 0.15);\n",
       "      fill: #174EA6;\n",
       "    }\n",
       "\n",
       "    [theme=dark] .colab-df-convert {\n",
       "      background-color: #3B4455;\n",
       "      fill: #D2E3FC;\n",
       "    }\n",
       "\n",
       "    [theme=dark] .colab-df-convert:hover {\n",
       "      background-color: #434B5C;\n",
       "      box-shadow: 0px 1px 3px 1px rgba(0, 0, 0, 0.15);\n",
       "      filter: drop-shadow(0px 1px 2px rgba(0, 0, 0, 0.3));\n",
       "      fill: #FFFFFF;\n",
       "    }\n",
       "  </style>\n",
       "\n",
       "      <script>\n",
       "        const buttonEl =\n",
       "          document.querySelector('#df-b8b76f44-d250-41be-93ca-6387abe95c9c button.colab-df-convert');\n",
       "        buttonEl.style.display =\n",
       "          google.colab.kernel.accessAllowed ? 'block' : 'none';\n",
       "\n",
       "        async function convertToInteractive(key) {\n",
       "          const element = document.querySelector('#df-b8b76f44-d250-41be-93ca-6387abe95c9c');\n",
       "          const dataTable =\n",
       "            await google.colab.kernel.invokeFunction('convertToInteractive',\n",
       "                                                     [key], {});\n",
       "          if (!dataTable) return;\n",
       "\n",
       "          const docLinkHtml = 'Like what you see? Visit the ' +\n",
       "            '<a target=\"_blank\" href=https://colab.research.google.com/notebooks/data_table.ipynb>data table notebook</a>'\n",
       "            + ' to learn more about interactive tables.';\n",
       "          element.innerHTML = '';\n",
       "          dataTable['output_type'] = 'display_data';\n",
       "          await google.colab.output.renderOutput(dataTable, element);\n",
       "          const docLink = document.createElement('div');\n",
       "          docLink.innerHTML = docLinkHtml;\n",
       "          element.appendChild(docLink);\n",
       "        }\n",
       "      </script>\n",
       "    </div>\n",
       "  </div>\n",
       "  "
      ],
      "text/plain": [
       "          0         0\n",
       "0  0.336899  0.533203\n",
       "1  0.362298  0.573609"
      ]
     },
     "execution_count": 323,
     "metadata": {},
     "output_type": "execute_result"
    }
   ],
   "source": [
    "df_pred"
   ]
  },
  {
   "cell_type": "code",
   "execution_count": 353,
   "metadata": {
    "id": "xW-Y_QNSYx5P"
   },
   "outputs": [],
   "source": [
    "rev_trans=scaler.inverse_transform(df_pred)"
   ]
  },
  {
   "cell_type": "code",
   "execution_count": 354,
   "metadata": {
    "colab": {
     "base_uri": "https://localhost:8080/"
    },
    "id": "eLL4DfNlY0AK",
    "outputId": "be5237ab-5529-4675-e821-3aa1982f89e2"
   },
   "outputs": [
    {
     "data": {
      "text/plain": [
       "array([[-0.72327766,  0.52629344],\n",
       "       [-0.83643829,  0.60453187]])"
      ]
     },
     "execution_count": 354,
     "metadata": {},
     "output_type": "execute_result"
    }
   ],
   "source": [
    "rev_trans"
   ]
  },
  {
   "cell_type": "code",
   "execution_count": 355,
   "metadata": {
    "id": "y_hnIInhY2yi"
   },
   "outputs": [],
   "source": [
    "df_final=df_input[predictions.shape[0]*-1:]"
   ]
  },
  {
   "cell_type": "code",
   "execution_count": 356,
   "metadata": {
    "colab": {
     "base_uri": "https://localhost:8080/"
    },
    "id": "RzKo6s_3Y5sa",
    "outputId": "e43bd239-ee8d-46bd-874b-047073c1067e"
   },
   "outputs": [
    {
     "data": {
      "text/plain": [
       "spi1            2\n",
       "avgh vs spi1    2\n",
       "dtype: int64"
      ]
     },
     "execution_count": 356,
     "metadata": {},
     "output_type": "execute_result"
    }
   ],
   "source": [
    "df_final.count()"
   ]
  },
  {
   "cell_type": "code",
   "execution_count": 357,
   "metadata": {
    "colab": {
     "base_uri": "https://localhost:8080/"
    },
    "id": "rLi20OjSY9S8",
    "outputId": "4643e23e-c6f7-4377-eb5d-dc9084059624"
   },
   "outputs": [
    {
     "name": "stderr",
     "output_type": "stream",
     "text": [
      "/usr/local/lib/python3.7/dist-packages/ipykernel_launcher.py:1: SettingWithCopyWarning: \n",
      "A value is trying to be set on a copy of a slice from a DataFrame.\n",
      "Try using .loc[row_indexer,col_indexer] = value instead\n",
      "\n",
      "See the caveats in the documentation: https://pandas.pydata.org/pandas-docs/stable/user_guide/indexing.html#returning-a-view-versus-a-copy\n",
      "  \"\"\"Entry point for launching an IPython kernel.\n"
     ]
    }
   ],
   "source": [
    "df_final['spi1_Pred']=rev_trans[:,0]"
   ]
  },
  {
   "cell_type": "code",
   "execution_count": 358,
   "metadata": {
    "colab": {
     "base_uri": "https://localhost:8080/",
     "height": 112
    },
    "id": "Tqm-shHFZAFz",
    "outputId": "cdaaed8f-10b0-4554-cc04-51fdc625030f"
   },
   "outputs": [
    {
     "data": {
      "text/html": [
       "\n",
       "  <div id=\"df-c2f05246-d3d5-4b4e-b95f-f27f3b0e70ec\">\n",
       "    <div class=\"colab-df-container\">\n",
       "      <div>\n",
       "<style scoped>\n",
       "    .dataframe tbody tr th:only-of-type {\n",
       "        vertical-align: middle;\n",
       "    }\n",
       "\n",
       "    .dataframe tbody tr th {\n",
       "        vertical-align: top;\n",
       "    }\n",
       "\n",
       "    .dataframe thead th {\n",
       "        text-align: right;\n",
       "    }\n",
       "</style>\n",
       "<table border=\"1\" class=\"dataframe\">\n",
       "  <thead>\n",
       "    <tr style=\"text-align: right;\">\n",
       "      <th></th>\n",
       "      <th>spi1</th>\n",
       "      <th>avgh vs spi1</th>\n",
       "      <th>spi1_Pred</th>\n",
       "    </tr>\n",
       "  </thead>\n",
       "  <tbody>\n",
       "    <tr>\n",
       "      <th>415</th>\n",
       "      <td>0.143235</td>\n",
       "      <td>0.526293</td>\n",
       "      <td>-0.723278</td>\n",
       "    </tr>\n",
       "    <tr>\n",
       "      <th>416</th>\n",
       "      <td>0.317544</td>\n",
       "      <td>0.604532</td>\n",
       "      <td>-0.836438</td>\n",
       "    </tr>\n",
       "  </tbody>\n",
       "</table>\n",
       "</div>\n",
       "      <button class=\"colab-df-convert\" onclick=\"convertToInteractive('df-c2f05246-d3d5-4b4e-b95f-f27f3b0e70ec')\"\n",
       "              title=\"Convert this dataframe to an interactive table.\"\n",
       "              style=\"display:none;\">\n",
       "        \n",
       "  <svg xmlns=\"http://www.w3.org/2000/svg\" height=\"24px\"viewBox=\"0 0 24 24\"\n",
       "       width=\"24px\">\n",
       "    <path d=\"M0 0h24v24H0V0z\" fill=\"none\"/>\n",
       "    <path d=\"M18.56 5.44l.94 2.06.94-2.06 2.06-.94-2.06-.94-.94-2.06-.94 2.06-2.06.94zm-11 1L8.5 8.5l.94-2.06 2.06-.94-2.06-.94L8.5 2.5l-.94 2.06-2.06.94zm10 10l.94 2.06.94-2.06 2.06-.94-2.06-.94-.94-2.06-.94 2.06-2.06.94z\"/><path d=\"M17.41 7.96l-1.37-1.37c-.4-.4-.92-.59-1.43-.59-.52 0-1.04.2-1.43.59L10.3 9.45l-7.72 7.72c-.78.78-.78 2.05 0 2.83L4 21.41c.39.39.9.59 1.41.59.51 0 1.02-.2 1.41-.59l7.78-7.78 2.81-2.81c.8-.78.8-2.07 0-2.86zM5.41 20L4 18.59l7.72-7.72 1.47 1.35L5.41 20z\"/>\n",
       "  </svg>\n",
       "      </button>\n",
       "      \n",
       "  <style>\n",
       "    .colab-df-container {\n",
       "      display:flex;\n",
       "      flex-wrap:wrap;\n",
       "      gap: 12px;\n",
       "    }\n",
       "\n",
       "    .colab-df-convert {\n",
       "      background-color: #E8F0FE;\n",
       "      border: none;\n",
       "      border-radius: 50%;\n",
       "      cursor: pointer;\n",
       "      display: none;\n",
       "      fill: #1967D2;\n",
       "      height: 32px;\n",
       "      padding: 0 0 0 0;\n",
       "      width: 32px;\n",
       "    }\n",
       "\n",
       "    .colab-df-convert:hover {\n",
       "      background-color: #E2EBFA;\n",
       "      box-shadow: 0px 1px 2px rgba(60, 64, 67, 0.3), 0px 1px 3px 1px rgba(60, 64, 67, 0.15);\n",
       "      fill: #174EA6;\n",
       "    }\n",
       "\n",
       "    [theme=dark] .colab-df-convert {\n",
       "      background-color: #3B4455;\n",
       "      fill: #D2E3FC;\n",
       "    }\n",
       "\n",
       "    [theme=dark] .colab-df-convert:hover {\n",
       "      background-color: #434B5C;\n",
       "      box-shadow: 0px 1px 3px 1px rgba(0, 0, 0, 0.15);\n",
       "      filter: drop-shadow(0px 1px 2px rgba(0, 0, 0, 0.3));\n",
       "      fill: #FFFFFF;\n",
       "    }\n",
       "  </style>\n",
       "\n",
       "      <script>\n",
       "        const buttonEl =\n",
       "          document.querySelector('#df-c2f05246-d3d5-4b4e-b95f-f27f3b0e70ec button.colab-df-convert');\n",
       "        buttonEl.style.display =\n",
       "          google.colab.kernel.accessAllowed ? 'block' : 'none';\n",
       "\n",
       "        async function convertToInteractive(key) {\n",
       "          const element = document.querySelector('#df-c2f05246-d3d5-4b4e-b95f-f27f3b0e70ec');\n",
       "          const dataTable =\n",
       "            await google.colab.kernel.invokeFunction('convertToInteractive',\n",
       "                                                     [key], {});\n",
       "          if (!dataTable) return;\n",
       "\n",
       "          const docLinkHtml = 'Like what you see? Visit the ' +\n",
       "            '<a target=\"_blank\" href=https://colab.research.google.com/notebooks/data_table.ipynb>data table notebook</a>'\n",
       "            + ' to learn more about interactive tables.';\n",
       "          element.innerHTML = '';\n",
       "          dataTable['output_type'] = 'display_data';\n",
       "          await google.colab.output.renderOutput(dataTable, element);\n",
       "          const docLink = document.createElement('div');\n",
       "          docLink.innerHTML = docLinkHtml;\n",
       "          element.appendChild(docLink);\n",
       "        }\n",
       "      </script>\n",
       "    </div>\n",
       "  </div>\n",
       "  "
      ],
      "text/plain": [
       "         spi1  avgh vs spi1  spi1_Pred\n",
       "415  0.143235      0.526293  -0.723278\n",
       "416  0.317544      0.604532  -0.836438"
      ]
     },
     "execution_count": 358,
     "metadata": {},
     "output_type": "execute_result"
    }
   ],
   "source": [
    "df_final"
   ]
  },
  {
   "cell_type": "code",
   "execution_count": 359,
   "metadata": {
    "colab": {
     "base_uri": "https://localhost:8080/",
     "height": 284
    },
    "id": "_XTglAfvZKas",
    "outputId": "b55c3e2a-1228-4a9e-c7fb-5fbf638c1ffa"
   },
   "outputs": [
    {
     "data": {
      "text/plain": [
       "<matplotlib.axes._subplots.AxesSubplot at 0x7fbd32943490>"
      ]
     },
     "execution_count": 359,
     "metadata": {},
     "output_type": "execute_result"
    },
    {
     "data": {
      "image/png": "[encoded data removed]",
      "text/plain": [
       "<Figure size 432x288 with 1 Axes>"
      ]
     },
     "metadata": {
      "needs_background": "light"
     },
     "output_type": "display_data"
    }
   ],
   "source": [
    "df_final[['spi1','spi1_Pred']].plot()"
   ]
  }
 ],
 "metadata": {
  "colab": {
   "authorship_tag": "ABX9TyPR0tGnmFeaS+ErW0aP6MKl",
   "include_colab_link": true,
   "name": "Untitled12.ipynb",
   "provenance": []
  },
  "kernelspec": {
   "display_name": "Python 3",
   "name": "python3"
  },
  "language_info": {
   "name": "python"
  }
 },
 "nbformat": 4,
 "nbformat_minor": 0
}
