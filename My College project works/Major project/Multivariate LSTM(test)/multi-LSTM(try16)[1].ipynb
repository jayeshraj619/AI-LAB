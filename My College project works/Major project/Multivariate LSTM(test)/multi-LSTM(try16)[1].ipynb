{
 "cells": [
  {
   "cell_type": "markdown",
   "metadata": {
    "colab_type": "text",
    "id": "view-in-github"
   },
   "source": [
    "<a href=\"https://colab.research.google.com/github/jayeshraj619/AI-LAB/blob/master/robin.ipynb\" target=\"_parent\"><img src=\"https://colab.research.google.com/assets/colab-badge.svg\" alt=\"Open In Colab\"/></a>"
   ]
  },
  {
   "cell_type": "code",
   "execution_count": 143,
   "metadata": {
    "id": "IhG8ppdVj6zt"
   },
   "outputs": [],
   "source": [
    "import tensorflow as tf\n",
    "import os\n",
    "import pandas as pd\n",
    "import numpy as np"
   ]
  },
  {
   "cell_type": "code",
   "execution_count": 161,
   "metadata": {
    "colab": {
     "base_uri": "https://localhost:8080/",
     "height": 424
    },
    "id": "RRVN-4QOSKAx",
    "outputId": "5178be7b-d2a9-4602-ab5e-5ecbca4f1b52"
   },
   "outputs": [
    {
     "data": {
      "text/html": [
       "\n",
       "  <div id=\"df-2e8fa479-f673-45ac-a28b-a561f49281c1\">\n",
       "    <div class=\"colab-df-container\">\n",
       "      <div>\n",
       "<style scoped>\n",
       "    .dataframe tbody tr th:only-of-type {\n",
       "        vertical-align: middle;\n",
       "    }\n",
       "\n",
       "    .dataframe tbody tr th {\n",
       "        vertical-align: top;\n",
       "    }\n",
       "\n",
       "    .dataframe thead th {\n",
       "        text-align: right;\n",
       "    }\n",
       "</style>\n",
       "<table border=\"1\" class=\"dataframe\">\n",
       "  <thead>\n",
       "    <tr style=\"text-align: right;\">\n",
       "      <th></th>\n",
       "      <th>month</th>\n",
       "      <th>spi1</th>\n",
       "      <th>sl1</th>\n",
       "      <th>avg solar</th>\n",
       "      <th>avg R.HUM</th>\n",
       "    </tr>\n",
       "  </thead>\n",
       "  <tbody>\n",
       "    <tr>\n",
       "      <th>0</th>\n",
       "      <td>01-10-1979</td>\n",
       "      <td>1.273802</td>\n",
       "      <td>0.143235</td>\n",
       "      <td>21.034567</td>\n",
       "      <td>0.660878</td>\n",
       "    </tr>\n",
       "    <tr>\n",
       "      <th>1</th>\n",
       "      <td>01-11-1979</td>\n",
       "      <td>2.145778</td>\n",
       "      <td>1.273802</td>\n",
       "      <td>18.618270</td>\n",
       "      <td>0.672347</td>\n",
       "    </tr>\n",
       "    <tr>\n",
       "      <th>2</th>\n",
       "      <td>01-12-1979</td>\n",
       "      <td>0.889794</td>\n",
       "      <td>2.145778</td>\n",
       "      <td>23.606018</td>\n",
       "      <td>0.632411</td>\n",
       "    </tr>\n",
       "    <tr>\n",
       "      <th>3</th>\n",
       "      <td>01-01-1980</td>\n",
       "      <td>-1.714817</td>\n",
       "      <td>0.889794</td>\n",
       "      <td>23.687354</td>\n",
       "      <td>0.680302</td>\n",
       "    </tr>\n",
       "    <tr>\n",
       "      <th>4</th>\n",
       "      <td>01-02-1980</td>\n",
       "      <td>-1.469306</td>\n",
       "      <td>-1.714817</td>\n",
       "      <td>22.860871</td>\n",
       "      <td>0.749740</td>\n",
       "    </tr>\n",
       "    <tr>\n",
       "      <th>...</th>\n",
       "      <td>...</td>\n",
       "      <td>...</td>\n",
       "      <td>...</td>\n",
       "      <td>...</td>\n",
       "      <td>...</td>\n",
       "    </tr>\n",
       "    <tr>\n",
       "      <th>411</th>\n",
       "      <td>01-01-2014</td>\n",
       "      <td>0.317544</td>\n",
       "      <td>0.143235</td>\n",
       "      <td>12.783414</td>\n",
       "      <td>0.946414</td>\n",
       "    </tr>\n",
       "    <tr>\n",
       "      <th>412</th>\n",
       "      <td>01-02-2014</td>\n",
       "      <td>0.546507</td>\n",
       "      <td>0.317544</td>\n",
       "      <td>11.613665</td>\n",
       "      <td>0.959161</td>\n",
       "    </tr>\n",
       "    <tr>\n",
       "      <th>413</th>\n",
       "      <td>01-03-2014</td>\n",
       "      <td>0.629004</td>\n",
       "      <td>0.546507</td>\n",
       "      <td>21.052941</td>\n",
       "      <td>0.892296</td>\n",
       "    </tr>\n",
       "    <tr>\n",
       "      <th>414</th>\n",
       "      <td>01-04-2014</td>\n",
       "      <td>0.174373</td>\n",
       "      <td>0.629004</td>\n",
       "      <td>17.347204</td>\n",
       "      <td>0.902577</td>\n",
       "    </tr>\n",
       "    <tr>\n",
       "      <th>415</th>\n",
       "      <td>01-05-2014</td>\n",
       "      <td>1.144318</td>\n",
       "      <td>0.174373</td>\n",
       "      <td>19.994941</td>\n",
       "      <td>0.859645</td>\n",
       "    </tr>\n",
       "  </tbody>\n",
       "</table>\n",
       "<p>416 rows × 5 columns</p>\n",
       "</div>\n",
       "      <button class=\"colab-df-convert\" onclick=\"convertToInteractive('df-2e8fa479-f673-45ac-a28b-a561f49281c1')\"\n",
       "              title=\"Convert this dataframe to an interactive table.\"\n",
       "              style=\"display:none;\">\n",
       "        \n",
       "  <svg xmlns=\"http://www.w3.org/2000/svg\" height=\"24px\"viewBox=\"0 0 24 24\"\n",
       "       width=\"24px\">\n",
       "    <path d=\"M0 0h24v24H0V0z\" fill=\"none\"/>\n",
       "    <path d=\"M18.56 5.44l.94 2.06.94-2.06 2.06-.94-2.06-.94-.94-2.06-.94 2.06-2.06.94zm-11 1L8.5 8.5l.94-2.06 2.06-.94-2.06-.94L8.5 2.5l-.94 2.06-2.06.94zm10 10l.94 2.06.94-2.06 2.06-.94-2.06-.94-.94-2.06-.94 2.06-2.06.94z\"/><path d=\"M17.41 7.96l-1.37-1.37c-.4-.4-.92-.59-1.43-.59-.52 0-1.04.2-1.43.59L10.3 9.45l-7.72 7.72c-.78.78-.78 2.05 0 2.83L4 21.41c.39.39.9.59 1.41.59.51 0 1.02-.2 1.41-.59l7.78-7.78 2.81-2.81c.8-.78.8-2.07 0-2.86zM5.41 20L4 18.59l7.72-7.72 1.47 1.35L5.41 20z\"/>\n",
       "  </svg>\n",
       "      </button>\n",
       "      \n",
       "  <style>\n",
       "    .colab-df-container {\n",
       "      display:flex;\n",
       "      flex-wrap:wrap;\n",
       "      gap: 12px;\n",
       "    }\n",
       "\n",
       "    .colab-df-convert {\n",
       "      background-color: #E8F0FE;\n",
       "      border: none;\n",
       "      border-radius: 50%;\n",
       "      cursor: pointer;\n",
       "      display: none;\n",
       "      fill: #1967D2;\n",
       "      height: 32px;\n",
       "      padding: 0 0 0 0;\n",
       "      width: 32px;\n",
       "    }\n",
       "\n",
       "    .colab-df-convert:hover {\n",
       "      background-color: #E2EBFA;\n",
       "      box-shadow: 0px 1px 2px rgba(60, 64, 67, 0.3), 0px 1px 3px 1px rgba(60, 64, 67, 0.15);\n",
       "      fill: #174EA6;\n",
       "    }\n",
       "\n",
       "    [theme=dark] .colab-df-convert {\n",
       "      background-color: #3B4455;\n",
       "      fill: #D2E3FC;\n",
       "    }\n",
       "\n",
       "    [theme=dark] .colab-df-convert:hover {\n",
       "      background-color: #434B5C;\n",
       "      box-shadow: 0px 1px 3px 1px rgba(0, 0, 0, 0.15);\n",
       "      filter: drop-shadow(0px 1px 2px rgba(0, 0, 0, 0.3));\n",
       "      fill: #FFFFFF;\n",
       "    }\n",
       "  </style>\n",
       "\n",
       "      <script>\n",
       "        const buttonEl =\n",
       "          document.querySelector('#df-2e8fa479-f673-45ac-a28b-a561f49281c1 button.colab-df-convert');\n",
       "        buttonEl.style.display =\n",
       "          google.colab.kernel.accessAllowed ? 'block' : 'none';\n",
       "\n",
       "        async function convertToInteractive(key) {\n",
       "          const element = document.querySelector('#df-2e8fa479-f673-45ac-a28b-a561f49281c1');\n",
       "          const dataTable =\n",
       "            await google.colab.kernel.invokeFunction('convertToInteractive',\n",
       "                                                     [key], {});\n",
       "          if (!dataTable) return;\n",
       "\n",
       "          const docLinkHtml = 'Like what you see? Visit the ' +\n",
       "            '<a target=\"_blank\" href=https://colab.research.google.com/notebooks/data_table.ipynb>data table notebook</a>'\n",
       "            + ' to learn more about interactive tables.';\n",
       "          element.innerHTML = '';\n",
       "          dataTable['output_type'] = 'display_data';\n",
       "          await google.colab.output.renderOutput(dataTable, element);\n",
       "          const docLink = document.createElement('div');\n",
       "          docLink.innerHTML = docLinkHtml;\n",
       "          element.appendChild(docLink);\n",
       "        }\n",
       "      </script>\n",
       "    </div>\n",
       "  </div>\n",
       "  "
      ],
      "text/plain": [
       "          month      spi1       sl1  avg solar  avg R.HUM\n",
       "0    01-10-1979  1.273802  0.143235  21.034567   0.660878\n",
       "1    01-11-1979  2.145778  1.273802  18.618270   0.672347\n",
       "2    01-12-1979  0.889794  2.145778  23.606018   0.632411\n",
       "3    01-01-1980 -1.714817  0.889794  23.687354   0.680302\n",
       "4    01-02-1980 -1.469306 -1.714817  22.860871   0.749740\n",
       "..          ...       ...       ...        ...        ...\n",
       "411  01-01-2014  0.317544  0.143235  12.783414   0.946414\n",
       "412  01-02-2014  0.546507  0.317544  11.613665   0.959161\n",
       "413  01-03-2014  0.629004  0.546507  21.052941   0.892296\n",
       "414  01-04-2014  0.174373  0.629004  17.347204   0.902577\n",
       "415  01-05-2014  1.144318  0.174373  19.994941   0.859645\n",
       "\n",
       "[416 rows x 5 columns]"
      ]
     },
     "execution_count": 161,
     "metadata": {},
     "output_type": "execute_result"
    }
   ],
   "source": [
    "df = pd.read_csv('/content/oldmonthtest1.csv')\n",
    "df"
   ]
  },
  {
   "cell_type": "code",
   "execution_count": 162,
   "metadata": {
    "id": "wTxduLobkYdy"
   },
   "outputs": [],
   "source": [
    " df['date_time'] = pd.to_datetime(df['month'], infer_datetime_format=True)\n"
   ]
  },
  {
   "cell_type": "code",
   "execution_count": 163,
   "metadata": {
    "colab": {
     "base_uri": "https://localhost:8080/",
     "height": 455
    },
    "id": "6VsZ2HGtsicr",
    "outputId": "6d3001df-454d-4777-f84a-cf89135c703d"
   },
   "outputs": [
    {
     "data": {
      "text/html": [
       "\n",
       "  <div id=\"df-5f715e43-b5d6-4874-8742-a68eefea3320\">\n",
       "    <div class=\"colab-df-container\">\n",
       "      <div>\n",
       "<style scoped>\n",
       "    .dataframe tbody tr th:only-of-type {\n",
       "        vertical-align: middle;\n",
       "    }\n",
       "\n",
       "    .dataframe tbody tr th {\n",
       "        vertical-align: top;\n",
       "    }\n",
       "\n",
       "    .dataframe thead th {\n",
       "        text-align: right;\n",
       "    }\n",
       "</style>\n",
       "<table border=\"1\" class=\"dataframe\">\n",
       "  <thead>\n",
       "    <tr style=\"text-align: right;\">\n",
       "      <th></th>\n",
       "      <th>spi1</th>\n",
       "      <th>sl1</th>\n",
       "      <th>avg solar</th>\n",
       "      <th>avg R.HUM</th>\n",
       "    </tr>\n",
       "    <tr>\n",
       "      <th>date_time</th>\n",
       "      <th></th>\n",
       "      <th></th>\n",
       "      <th></th>\n",
       "      <th></th>\n",
       "    </tr>\n",
       "  </thead>\n",
       "  <tbody>\n",
       "    <tr>\n",
       "      <th>1979-01-10</th>\n",
       "      <td>1.273802</td>\n",
       "      <td>0.143235</td>\n",
       "      <td>21.034567</td>\n",
       "      <td>0.660878</td>\n",
       "    </tr>\n",
       "    <tr>\n",
       "      <th>1979-01-11</th>\n",
       "      <td>2.145778</td>\n",
       "      <td>1.273802</td>\n",
       "      <td>18.618270</td>\n",
       "      <td>0.672347</td>\n",
       "    </tr>\n",
       "    <tr>\n",
       "      <th>1979-01-12</th>\n",
       "      <td>0.889794</td>\n",
       "      <td>2.145778</td>\n",
       "      <td>23.606018</td>\n",
       "      <td>0.632411</td>\n",
       "    </tr>\n",
       "    <tr>\n",
       "      <th>1980-01-01</th>\n",
       "      <td>-1.714817</td>\n",
       "      <td>0.889794</td>\n",
       "      <td>23.687354</td>\n",
       "      <td>0.680302</td>\n",
       "    </tr>\n",
       "    <tr>\n",
       "      <th>1980-01-02</th>\n",
       "      <td>-1.469306</td>\n",
       "      <td>-1.714817</td>\n",
       "      <td>22.860871</td>\n",
       "      <td>0.749740</td>\n",
       "    </tr>\n",
       "    <tr>\n",
       "      <th>...</th>\n",
       "      <td>...</td>\n",
       "      <td>...</td>\n",
       "      <td>...</td>\n",
       "      <td>...</td>\n",
       "    </tr>\n",
       "    <tr>\n",
       "      <th>2014-01-01</th>\n",
       "      <td>0.317544</td>\n",
       "      <td>0.143235</td>\n",
       "      <td>12.783414</td>\n",
       "      <td>0.946414</td>\n",
       "    </tr>\n",
       "    <tr>\n",
       "      <th>2014-01-02</th>\n",
       "      <td>0.546507</td>\n",
       "      <td>0.317544</td>\n",
       "      <td>11.613665</td>\n",
       "      <td>0.959161</td>\n",
       "    </tr>\n",
       "    <tr>\n",
       "      <th>2014-01-03</th>\n",
       "      <td>0.629004</td>\n",
       "      <td>0.546507</td>\n",
       "      <td>21.052941</td>\n",
       "      <td>0.892296</td>\n",
       "    </tr>\n",
       "    <tr>\n",
       "      <th>2014-01-04</th>\n",
       "      <td>0.174373</td>\n",
       "      <td>0.629004</td>\n",
       "      <td>17.347204</td>\n",
       "      <td>0.902577</td>\n",
       "    </tr>\n",
       "    <tr>\n",
       "      <th>2014-01-05</th>\n",
       "      <td>1.144318</td>\n",
       "      <td>0.174373</td>\n",
       "      <td>19.994941</td>\n",
       "      <td>0.859645</td>\n",
       "    </tr>\n",
       "  </tbody>\n",
       "</table>\n",
       "<p>416 rows × 4 columns</p>\n",
       "</div>\n",
       "      <button class=\"colab-df-convert\" onclick=\"convertToInteractive('df-5f715e43-b5d6-4874-8742-a68eefea3320')\"\n",
       "              title=\"Convert this dataframe to an interactive table.\"\n",
       "              style=\"display:none;\">\n",
       "        \n",
       "  <svg xmlns=\"http://www.w3.org/2000/svg\" height=\"24px\"viewBox=\"0 0 24 24\"\n",
       "       width=\"24px\">\n",
       "    <path d=\"M0 0h24v24H0V0z\" fill=\"none\"/>\n",
       "    <path d=\"M18.56 5.44l.94 2.06.94-2.06 2.06-.94-2.06-.94-.94-2.06-.94 2.06-2.06.94zm-11 1L8.5 8.5l.94-2.06 2.06-.94-2.06-.94L8.5 2.5l-.94 2.06-2.06.94zm10 10l.94 2.06.94-2.06 2.06-.94-2.06-.94-.94-2.06-.94 2.06-2.06.94z\"/><path d=\"M17.41 7.96l-1.37-1.37c-.4-.4-.92-.59-1.43-.59-.52 0-1.04.2-1.43.59L10.3 9.45l-7.72 7.72c-.78.78-.78 2.05 0 2.83L4 21.41c.39.39.9.59 1.41.59.51 0 1.02-.2 1.41-.59l7.78-7.78 2.81-2.81c.8-.78.8-2.07 0-2.86zM5.41 20L4 18.59l7.72-7.72 1.47 1.35L5.41 20z\"/>\n",
       "  </svg>\n",
       "      </button>\n",
       "      \n",
       "  <style>\n",
       "    .colab-df-container {\n",
       "      display:flex;\n",
       "      flex-wrap:wrap;\n",
       "      gap: 12px;\n",
       "    }\n",
       "\n",
       "    .colab-df-convert {\n",
       "      background-color: #E8F0FE;\n",
       "      border: none;\n",
       "      border-radius: 50%;\n",
       "      cursor: pointer;\n",
       "      display: none;\n",
       "      fill: #1967D2;\n",
       "      height: 32px;\n",
       "      padding: 0 0 0 0;\n",
       "      width: 32px;\n",
       "    }\n",
       "\n",
       "    .colab-df-convert:hover {\n",
       "      background-color: #E2EBFA;\n",
       "      box-shadow: 0px 1px 2px rgba(60, 64, 67, 0.3), 0px 1px 3px 1px rgba(60, 64, 67, 0.15);\n",
       "      fill: #174EA6;\n",
       "    }\n",
       "\n",
       "    [theme=dark] .colab-df-convert {\n",
       "      background-color: #3B4455;\n",
       "      fill: #D2E3FC;\n",
       "    }\n",
       "\n",
       "    [theme=dark] .colab-df-convert:hover {\n",
       "      background-color: #434B5C;\n",
       "      box-shadow: 0px 1px 3px 1px rgba(0, 0, 0, 0.15);\n",
       "      filter: drop-shadow(0px 1px 2px rgba(0, 0, 0, 0.3));\n",
       "      fill: #FFFFFF;\n",
       "    }\n",
       "  </style>\n",
       "\n",
       "      <script>\n",
       "        const buttonEl =\n",
       "          document.querySelector('#df-5f715e43-b5d6-4874-8742-a68eefea3320 button.colab-df-convert');\n",
       "        buttonEl.style.display =\n",
       "          google.colab.kernel.accessAllowed ? 'block' : 'none';\n",
       "\n",
       "        async function convertToInteractive(key) {\n",
       "          const element = document.querySelector('#df-5f715e43-b5d6-4874-8742-a68eefea3320');\n",
       "          const dataTable =\n",
       "            await google.colab.kernel.invokeFunction('convertToInteractive',\n",
       "                                                     [key], {});\n",
       "          if (!dataTable) return;\n",
       "\n",
       "          const docLinkHtml = 'Like what you see? Visit the ' +\n",
       "            '<a target=\"_blank\" href=https://colab.research.google.com/notebooks/data_table.ipynb>data table notebook</a>'\n",
       "            + ' to learn more about interactive tables.';\n",
       "          element.innerHTML = '';\n",
       "          dataTable['output_type'] = 'display_data';\n",
       "          await google.colab.output.renderOutput(dataTable, element);\n",
       "          const docLink = document.createElement('div');\n",
       "          docLink.innerHTML = docLinkHtml;\n",
       "          element.appendChild(docLink);\n",
       "        }\n",
       "      </script>\n",
       "    </div>\n",
       "  </div>\n",
       "  "
      ],
      "text/plain": [
       "                spi1       sl1  avg solar  avg R.HUM\n",
       "date_time                                           \n",
       "1979-01-10  1.273802  0.143235  21.034567   0.660878\n",
       "1979-01-11  2.145778  1.273802  18.618270   0.672347\n",
       "1979-01-12  0.889794  2.145778  23.606018   0.632411\n",
       "1980-01-01 -1.714817  0.889794  23.687354   0.680302\n",
       "1980-01-02 -1.469306 -1.714817  22.860871   0.749740\n",
       "...              ...       ...        ...        ...\n",
       "2014-01-01  0.317544  0.143235  12.783414   0.946414\n",
       "2014-01-02  0.546507  0.317544  11.613665   0.959161\n",
       "2014-01-03  0.629004  0.546507  21.052941   0.892296\n",
       "2014-01-04  0.174373  0.629004  17.347204   0.902577\n",
       "2014-01-05  1.144318  0.174373  19.994941   0.859645\n",
       "\n",
       "[416 rows x 4 columns]"
      ]
     },
     "execution_count": 163,
     "metadata": {},
     "output_type": "execute_result"
    }
   ],
   "source": [
    " df.index = pd.to_datetime(df['date_time'], format='%d.%m.%Y')\n",
    " df = df.drop(columns = ['month','date_time'])\n",
    " df"
   ]
  },
  {
   "cell_type": "code",
   "execution_count": 222,
   "metadata": {
    "id": "czWg4qHdlq6Q"
   },
   "outputs": [],
   "source": [
    "def df_to_X_y2(df, window_size=6):\n",
    "  df_as_np = df.to_numpy()\n",
    "  X = []\n",
    "  y = []\n",
    "  for i in range(len(df_as_np)-window_size):\n",
    "    row = [r for r in df_as_np[i:i+window_size]]\n",
    "    X.append(row)\n",
    "    label = df_as_np[i+window_size][0]\n",
    "    y.append(label)\n",
    "  return np.array(X), np.array(y)"
   ]
  },
  {
   "cell_type": "code",
   "execution_count": 223,
   "metadata": {
    "colab": {
     "base_uri": "https://localhost:8080/"
    },
    "id": "GQPmZlt8mFuU",
    "outputId": "0cc32254-1d46-48eb-d698-f5a864e16303"
   },
   "outputs": [
    {
     "data": {
      "text/plain": [
       "((410, 6, 4), (410,))"
      ]
     },
     "execution_count": 223,
     "metadata": {},
     "output_type": "execute_result"
    }
   ],
   "source": [
    "X, y = df_to_X_y2(df)\n",
    "X.shape, y.shape"
   ]
  },
  {
   "cell_type": "code",
   "execution_count": 224,
   "metadata": {
    "colab": {
     "base_uri": "https://localhost:8080/"
    },
    "id": "gsctGOUTnGQY",
    "outputId": "5714ea53-dfec-40c2-bb72-b9983100f9fd"
   },
   "outputs": [
    {
     "data": {
      "text/plain": [
       "((155, 6, 4), (155,), (155, 6, 4), (155,), (100, 6, 4), (100,))"
      ]
     },
     "execution_count": 224,
     "metadata": {},
     "output_type": "execute_result"
    }
   ],
   "source": [
    "X_train, y_train = X[:155], y[:155]\n",
    "X_val, y_val = X[155:310], y[155:310]\n",
    "X_test, y_test = X[310:], y[310:]\n",
    "X_train.shape, y_train.shape, X_val.shape, y_val.shape, X_test.shape, y_test.shape"
   ]
  },
  {
   "cell_type": "code",
   "execution_count": 225,
   "metadata": {
    "id": "K_ud4PczwrWu"
   },
   "outputs": [],
   "source": [
    "temp_training_mean = np.mean(X_train[:, :, 0])\n",
    "temp_training_std = np.std(X_train[:, :, 0])\n",
    "\n",
    "                           \n",
    "def preprocess(X):\n",
    "  X[:, :, 0] = (X[:, :, 0] - temp_training_mean) / temp_training_std\n",
    "  return X\n",
    "\n",
    "temp_training_mean = np.mean(X_train[:, :, 1])\n",
    "temp_training_std = np.std(X_train[:, :, 1])\n",
    "\n",
    "                           \n",
    "def preprocess(X):\n",
    "  X[:, :, 1] = (X[:, :, 1] - temp_training_mean) / temp_training_std\n",
    "  return X\n",
    "\n",
    "\n",
    "temp_training_mean = np.mean(X_train[:, :, 2])\n",
    "temp_training_std = np.std(X_train[:, :, 2])\n",
    "\n",
    "                           \n",
    "def preprocess(X):\n",
    "  X[:, :, 2] = (X[:, :, 2] - temp_training_mean) / temp_training_std\n",
    "  return X\n",
    "\n",
    "temp_training_mean = np.mean(X_train[:, :, 3])\n",
    "temp_training_std = np.std(X_train[:, :, 3])\n",
    "\n",
    "                           \n",
    "def preprocess(X):\n",
    "  X[:, :, 3] = (X[:, :, 3] - temp_training_mean) / temp_training_std\n",
    "  return X\n",
    "\n",
    "temp_training_mean = np.mean(X_train[:, :, 3])\n",
    "temp_training_std = np.std(X_train[:, :, 3])\n",
    "\n",
    "                           \n",
    "def preprocess(X):\n",
    "  X[:, :, 3] = (X[:, :, 3] - temp_training_mean) / temp_training_std\n",
    "  return X  \n",
    "#temp_training_mean = np.mean(X_train[:, :, 4])\n",
    "#temp_training_std = np.std(X_train[:, :, 4])\n",
    "\n",
    "                           \n",
    "#def preprocess(X):\n",
    "#  X[:, :, 4] = (X[:, :, 4] - temp_training_mean) / temp_training_std\n",
    " # return X  "
   ]
  },
  {
   "cell_type": "code",
   "execution_count": null,
   "metadata": {
    "id": "NVesdkC6w2gL"
   },
   "outputs": [],
   "source": [
    "preprocess(X_train)\n",
    "preprocess(X_val)\n",
    "preprocess(X_test)"
   ]
  },
  {
   "cell_type": "code",
   "execution_count": 227,
   "metadata": {
    "id": "lrfGcP0m0d7j"
   },
   "outputs": [],
   "source": [
    "p_training_mean3 = np.mean(X_train[:, :, 0])\n",
    "p_training_std3 = np.std(X_train[:, :, 0])\n",
    "\n",
    "def preprocess_output3(y):\n",
    "  y[:] = (y[:] - p_training_mean3) / p_training_std3\n",
    "  return y"
   ]
  },
  {
   "cell_type": "code",
   "execution_count": null,
   "metadata": {
    "id": "8AOooeBIyIrx"
   },
   "outputs": [],
   "source": [
    "preprocess_output3(y_train)\n",
    "preprocess_output3(y_val)\n",
    "preprocess_output3(y_test)"
   ]
  },
  {
   "cell_type": "code",
   "execution_count": null,
   "metadata": {
    "id": "RqkYkXx4nshm"
   },
   "outputs": [],
   "source": [
    "from tensorflow.keras.models import Sequential\n",
    "from tensorflow.keras.layers import *\n",
    "from tensorflow.keras.callbacks import ModelCheckpoint\n",
    "from tensorflow.keras.losses import MeanSquaredError\n",
    "from tensorflow.keras.metrics import RootMeanSquaredError\n",
    "from tensorflow.keras.optimizers import Adam\n",
    "import numpy as np\n",
    "import matplotlib.pyplot as plt\n",
    "\n",
    "model4 = Sequential()\n",
    "model4.add(InputLayer((6, 4)))\n",
    "model4.add(LSTM(1000))\n",
    "model4.add(Dense(10, 'relu'))\n",
    "model4.add(Dense(1, 'linear'))\n",
    "\n",
    "model4.summary()"
   ]
  },
  {
   "cell_type": "code",
   "execution_count": 230,
   "metadata": {
    "id": "Cyirh2R6vFUX"
   },
   "outputs": [],
   "source": [
    "cp4 = ModelCheckpoint('model4/', save_best_only=True)\n",
    "model4.compile(loss=MeanSquaredError(), optimizer=Adam(learning_rate=0.0001), metrics=[RootMeanSquaredError()])"
   ]
  },
  {
   "cell_type": "code",
   "execution_count": 231,
   "metadata": {
    "colab": {
     "base_uri": "https://localhost:8080/"
    },
    "id": "okBkRK5ZvXNI",
    "outputId": "f8865514-8bef-4808-90d5-f223a57438ea"
   },
   "outputs": [
    {
     "name": "stdout",
     "output_type": "stream",
     "text": [
      "Epoch 1/100\n",
      "5/5 [==============================] - ETA: 0s - loss: 1.0226 - root_mean_squared_error: 1.0112"
     ]
    },
    {
     "name": "stderr",
     "output_type": "stream",
     "text": [
      "WARNING:absl:Found untraced functions such as lstm_cell_19_layer_call_fn, lstm_cell_19_layer_call_and_return_conditional_losses while saving (showing 2 of 2). These functions will not be directly callable after loading.\n"
     ]
    },
    {
     "name": "stdout",
     "output_type": "stream",
     "text": [
      "INFO:tensorflow:Assets written to: model4/assets\n"
     ]
    },
    {
     "name": "stderr",
     "output_type": "stream",
     "text": [
      "INFO:tensorflow:Assets written to: model4/assets\n",
      "WARNING:absl:<keras.layers.recurrent.LSTMCell object at 0x7f660a6e7950> has the same name 'LSTMCell' as a built-in Keras object. Consider renaming <class 'keras.layers.recurrent.LSTMCell'> to avoid naming conflicts when loading with `tf.keras.models.load_model`. If renaming is not possible, pass the object in the `custom_objects` parameter of the load function.\n"
     ]
    },
    {
     "name": "stdout",
     "output_type": "stream",
     "text": [
      "\b\b\b\b\b\b\b\b\b\b\b\b\b\b\b\b\b\b\b\b\b\b\b\b\b\b\b\b\b\b\b\b\b\b\b\b\b\b\b\b\b\b\b\b\b\b\b\b\b\b\b\b\b\b\b\b\b\b\b\b\b\b\b\b\b\b\b\b\b\b\b\b\b\b\b\b\b\b\b\b\b\b\b\b\b\b\b\b\b\b\b\b\b\b\b\r5/5 [==============================] - 9s 2s/step - loss: 1.0226 - root_mean_squared_error: 1.0112 - val_loss: 0.7597 - val_root_mean_squared_error: 0.8716\n",
      "Epoch 2/100\n",
      "5/5 [==============================] - ETA: 0s - loss: 0.9675 - root_mean_squared_error: 0.9836"
     ]
    },
    {
     "name": "stderr",
     "output_type": "stream",
     "text": [
      "WARNING:absl:Found untraced functions such as lstm_cell_19_layer_call_fn, lstm_cell_19_layer_call_and_return_conditional_losses while saving (showing 2 of 2). These functions will not be directly callable after loading.\n"
     ]
    },
    {
     "name": "stdout",
     "output_type": "stream",
     "text": [
      "INFO:tensorflow:Assets written to: model4/assets\n"
     ]
    },
    {
     "name": "stderr",
     "output_type": "stream",
     "text": [
      "INFO:tensorflow:Assets written to: model4/assets\n",
      "WARNING:absl:<keras.layers.recurrent.LSTMCell object at 0x7f660a6e7950> has the same name 'LSTMCell' as a built-in Keras object. Consider renaming <class 'keras.layers.recurrent.LSTMCell'> to avoid naming conflicts when loading with `tf.keras.models.load_model`. If renaming is not possible, pass the object in the `custom_objects` parameter of the load function.\n"
     ]
    },
    {
     "name": "stdout",
     "output_type": "stream",
     "text": [
      "\b\b\b\b\b\b\b\b\b\b\b\b\b\b\b\b\b\b\b\b\b\b\b\b\b\b\b\b\b\b\b\b\b\b\b\b\b\b\b\b\b\b\b\b\b\b\b\b\b\b\b\b\b\b\b\b\b\b\b\b\b\b\b\b\b\b\b\b\b\b\b\b\b\b\b\b\b\b\b\b\b\b\b\b\b\b\b\b\b\b\b\b\b\b\b\r5/5 [==============================] - 6s 2s/step - loss: 0.9675 - root_mean_squared_error: 0.9836 - val_loss: 0.7017 - val_root_mean_squared_error: 0.8377\n",
      "Epoch 3/100\n",
      "5/5 [==============================] - 1s 283ms/step - loss: 0.9561 - root_mean_squared_error: 0.9778 - val_loss: 0.7065 - val_root_mean_squared_error: 0.8405\n",
      "Epoch 4/100\n",
      "5/5 [==============================] - ETA: 0s - loss: 0.9185 - root_mean_squared_error: 0.9584"
     ]
    },
    {
     "name": "stderr",
     "output_type": "stream",
     "text": [
      "WARNING:absl:Found untraced functions such as lstm_cell_19_layer_call_fn, lstm_cell_19_layer_call_and_return_conditional_losses while saving (showing 2 of 2). These functions will not be directly callable after loading.\n"
     ]
    },
    {
     "name": "stdout",
     "output_type": "stream",
     "text": [
      "INFO:tensorflow:Assets written to: model4/assets\n"
     ]
    },
    {
     "name": "stderr",
     "output_type": "stream",
     "text": [
      "INFO:tensorflow:Assets written to: model4/assets\n",
      "WARNING:absl:<keras.layers.recurrent.LSTMCell object at 0x7f660a6e7950> has the same name 'LSTMCell' as a built-in Keras object. Consider renaming <class 'keras.layers.recurrent.LSTMCell'> to avoid naming conflicts when loading with `tf.keras.models.load_model`. If renaming is not possible, pass the object in the `custom_objects` parameter of the load function.\n"
     ]
    },
    {
     "name": "stdout",
     "output_type": "stream",
     "text": [
      "\b\b\b\b\b\b\b\b\b\b\b\b\b\b\b\b\b\b\b\b\b\b\b\b\b\b\b\b\b\b\b\b\b\b\b\b\b\b\b\b\b\b\b\b\b\b\b\b\b\b\b\b\b\b\b\b\b\b\b\b\b\b\b\b\b\b\b\b\b\b\b\b\b\b\b\b\b\b\b\b\b\b\b\b\b\b\b\b\b\b\b\b\b\b\b\r5/5 [==============================] - 7s 2s/step - loss: 0.9185 - root_mean_squared_error: 0.9584 - val_loss: 0.6854 - val_root_mean_squared_error: 0.8279\n",
      "Epoch 5/100\n",
      "5/5 [==============================] - 1s 284ms/step - loss: 0.8896 - root_mean_squared_error: 0.9432 - val_loss: 0.6919 - val_root_mean_squared_error: 0.8318\n",
      "Epoch 6/100\n",
      "5/5 [==============================] - ETA: 0s - loss: 0.8609 - root_mean_squared_error: 0.9278"
     ]
    },
    {
     "name": "stderr",
     "output_type": "stream",
     "text": [
      "WARNING:absl:Found untraced functions such as lstm_cell_19_layer_call_fn, lstm_cell_19_layer_call_and_return_conditional_losses while saving (showing 2 of 2). These functions will not be directly callable after loading.\n"
     ]
    },
    {
     "name": "stdout",
     "output_type": "stream",
     "text": [
      "INFO:tensorflow:Assets written to: model4/assets\n"
     ]
    },
    {
     "name": "stderr",
     "output_type": "stream",
     "text": [
      "INFO:tensorflow:Assets written to: model4/assets\n",
      "WARNING:absl:<keras.layers.recurrent.LSTMCell object at 0x7f660a6e7950> has the same name 'LSTMCell' as a built-in Keras object. Consider renaming <class 'keras.layers.recurrent.LSTMCell'> to avoid naming conflicts when loading with `tf.keras.models.load_model`. If renaming is not possible, pass the object in the `custom_objects` parameter of the load function.\n"
     ]
    },
    {
     "name": "stdout",
     "output_type": "stream",
     "text": [
      "\b\b\b\b\b\b\b\b\b\b\b\b\b\b\b\b\b\b\b\b\b\b\b\b\b\b\b\b\b\b\b\b\b\b\b\b\b\b\b\b\b\b\b\b\b\b\b\b\b\b\b\b\b\b\b\b\b\b\b\b\b\b\b\b\b\b\b\b\b\b\b\b\b\b\b\b\b\b\b\b\b\b\b\b\b\b\b\b\b\b\b\b\b\b\b\r5/5 [==============================] - 6s 2s/step - loss: 0.8609 - root_mean_squared_error: 0.9278 - val_loss: 0.6842 - val_root_mean_squared_error: 0.8272\n",
      "Epoch 7/100\n",
      "5/5 [==============================] - 1s 290ms/step - loss: 0.8367 - root_mean_squared_error: 0.9147 - val_loss: 0.7079 - val_root_mean_squared_error: 0.8414\n",
      "Epoch 8/100\n",
      "5/5 [==============================] - 1s 285ms/step - loss: 0.8203 - root_mean_squared_error: 0.9057 - val_loss: 0.6974 - val_root_mean_squared_error: 0.8351\n",
      "Epoch 9/100\n",
      "5/5 [==============================] - 1s 287ms/step - loss: 0.8159 - root_mean_squared_error: 0.9033 - val_loss: 0.7148 - val_root_mean_squared_error: 0.8454\n",
      "Epoch 10/100\n",
      "5/5 [==============================] - 1s 288ms/step - loss: 0.7988 - root_mean_squared_error: 0.8938 - val_loss: 0.7680 - val_root_mean_squared_error: 0.8764\n",
      "Epoch 11/100\n",
      "5/5 [==============================] - 1s 298ms/step - loss: 0.7706 - root_mean_squared_error: 0.8778 - val_loss: 0.7381 - val_root_mean_squared_error: 0.8591\n",
      "Epoch 12/100\n",
      "5/5 [==============================] - 1s 290ms/step - loss: 0.7525 - root_mean_squared_error: 0.8675 - val_loss: 0.7861 - val_root_mean_squared_error: 0.8866\n",
      "Epoch 13/100\n",
      "5/5 [==============================] - 1s 281ms/step - loss: 0.7323 - root_mean_squared_error: 0.8557 - val_loss: 0.7541 - val_root_mean_squared_error: 0.8684\n",
      "Epoch 14/100\n",
      "5/5 [==============================] - 1s 288ms/step - loss: 0.7391 - root_mean_squared_error: 0.8597 - val_loss: 0.7749 - val_root_mean_squared_error: 0.8803\n",
      "Epoch 15/100\n",
      "5/5 [==============================] - 1s 285ms/step - loss: 0.7672 - root_mean_squared_error: 0.8759 - val_loss: 0.7851 - val_root_mean_squared_error: 0.8861\n",
      "Epoch 16/100\n",
      "5/5 [==============================] - 1s 290ms/step - loss: 0.7548 - root_mean_squared_error: 0.8688 - val_loss: 0.7827 - val_root_mean_squared_error: 0.8847\n",
      "Epoch 17/100\n",
      "5/5 [==============================] - 1s 290ms/step - loss: 0.7577 - root_mean_squared_error: 0.8704 - val_loss: 0.8702 - val_root_mean_squared_error: 0.9328\n",
      "Epoch 18/100\n",
      "5/5 [==============================] - 1s 281ms/step - loss: 0.7425 - root_mean_squared_error: 0.8617 - val_loss: 0.7681 - val_root_mean_squared_error: 0.8764\n",
      "Epoch 19/100\n",
      "5/5 [==============================] - 1s 283ms/step - loss: 0.7162 - root_mean_squared_error: 0.8463 - val_loss: 0.7767 - val_root_mean_squared_error: 0.8813\n",
      "Epoch 20/100\n",
      "5/5 [==============================] - 1s 290ms/step - loss: 0.7120 - root_mean_squared_error: 0.8438 - val_loss: 0.7647 - val_root_mean_squared_error: 0.8745\n",
      "Epoch 21/100\n",
      "5/5 [==============================] - 1s 290ms/step - loss: 0.7202 - root_mean_squared_error: 0.8486 - val_loss: 0.7742 - val_root_mean_squared_error: 0.8799\n",
      "Epoch 22/100\n",
      "5/5 [==============================] - 1s 290ms/step - loss: 0.7105 - root_mean_squared_error: 0.8429 - val_loss: 0.7621 - val_root_mean_squared_error: 0.8730\n",
      "Epoch 23/100\n",
      "5/5 [==============================] - 1s 283ms/step - loss: 0.6860 - root_mean_squared_error: 0.8282 - val_loss: 0.8010 - val_root_mean_squared_error: 0.8950\n",
      "Epoch 24/100\n",
      "5/5 [==============================] - 1s 291ms/step - loss: 0.6978 - root_mean_squared_error: 0.8354 - val_loss: 0.7624 - val_root_mean_squared_error: 0.8732\n",
      "Epoch 25/100\n",
      "5/5 [==============================] - 1s 290ms/step - loss: 0.6880 - root_mean_squared_error: 0.8295 - val_loss: 0.7612 - val_root_mean_squared_error: 0.8725\n",
      "Epoch 26/100\n",
      "5/5 [==============================] - 1s 286ms/step - loss: 0.6983 - root_mean_squared_error: 0.8357 - val_loss: 0.7916 - val_root_mean_squared_error: 0.8897\n",
      "Epoch 27/100\n",
      "5/5 [==============================] - 1s 285ms/step - loss: 0.6802 - root_mean_squared_error: 0.8247 - val_loss: 0.7668 - val_root_mean_squared_error: 0.8757\n",
      "Epoch 28/100\n",
      "5/5 [==============================] - 1s 288ms/step - loss: 0.6942 - root_mean_squared_error: 0.8332 - val_loss: 0.7798 - val_root_mean_squared_error: 0.8831\n",
      "Epoch 29/100\n",
      "5/5 [==============================] - 1s 286ms/step - loss: 0.6893 - root_mean_squared_error: 0.8302 - val_loss: 0.7632 - val_root_mean_squared_error: 0.8736\n",
      "Epoch 30/100\n",
      "5/5 [==============================] - 1s 290ms/step - loss: 0.6753 - root_mean_squared_error: 0.8218 - val_loss: 0.7815 - val_root_mean_squared_error: 0.8840\n",
      "Epoch 31/100\n",
      "5/5 [==============================] - 1s 282ms/step - loss: 0.6749 - root_mean_squared_error: 0.8215 - val_loss: 0.7642 - val_root_mean_squared_error: 0.8742\n",
      "Epoch 32/100\n",
      "5/5 [==============================] - 1s 287ms/step - loss: 0.6729 - root_mean_squared_error: 0.8203 - val_loss: 0.7628 - val_root_mean_squared_error: 0.8734\n",
      "Epoch 33/100\n",
      "5/5 [==============================] - 1s 286ms/step - loss: 0.6863 - root_mean_squared_error: 0.8284 - val_loss: 0.7693 - val_root_mean_squared_error: 0.8771\n",
      "Epoch 34/100\n",
      "5/5 [==============================] - 1s 281ms/step - loss: 0.6761 - root_mean_squared_error: 0.8222 - val_loss: 0.7584 - val_root_mean_squared_error: 0.8708\n",
      "Epoch 35/100\n",
      "5/5 [==============================] - 1s 282ms/step - loss: 0.6664 - root_mean_squared_error: 0.8164 - val_loss: 0.7823 - val_root_mean_squared_error: 0.8845\n",
      "Epoch 36/100\n",
      "5/5 [==============================] - 1s 305ms/step - loss: 0.6758 - root_mean_squared_error: 0.8221 - val_loss: 0.7593 - val_root_mean_squared_error: 0.8714\n",
      "Epoch 37/100\n",
      "5/5 [==============================] - 1s 288ms/step - loss: 0.6895 - root_mean_squared_error: 0.8303 - val_loss: 0.7542 - val_root_mean_squared_error: 0.8684\n",
      "Epoch 38/100\n",
      "5/5 [==============================] - 1s 281ms/step - loss: 0.6495 - root_mean_squared_error: 0.8059 - val_loss: 0.8121 - val_root_mean_squared_error: 0.9012\n",
      "Epoch 39/100\n",
      "5/5 [==============================] - 1s 286ms/step - loss: 0.7111 - root_mean_squared_error: 0.8433 - val_loss: 0.7499 - val_root_mean_squared_error: 0.8660\n",
      "Epoch 40/100\n",
      "5/5 [==============================] - 1s 290ms/step - loss: 0.7123 - root_mean_squared_error: 0.8440 - val_loss: 0.7439 - val_root_mean_squared_error: 0.8625\n",
      "Epoch 41/100\n",
      "5/5 [==============================] - 1s 286ms/step - loss: 0.6736 - root_mean_squared_error: 0.8208 - val_loss: 0.7735 - val_root_mean_squared_error: 0.8795\n",
      "Epoch 42/100\n",
      "5/5 [==============================] - 1s 286ms/step - loss: 0.6752 - root_mean_squared_error: 0.8217 - val_loss: 0.7440 - val_root_mean_squared_error: 0.8626\n",
      "Epoch 43/100\n",
      "5/5 [==============================] - 1s 281ms/step - loss: 0.6532 - root_mean_squared_error: 0.8082 - val_loss: 0.7630 - val_root_mean_squared_error: 0.8735\n",
      "Epoch 44/100\n",
      "5/5 [==============================] - 1s 293ms/step - loss: 0.6659 - root_mean_squared_error: 0.8160 - val_loss: 0.7595 - val_root_mean_squared_error: 0.8715\n",
      "Epoch 45/100\n",
      "5/5 [==============================] - 1s 293ms/step - loss: 0.6662 - root_mean_squared_error: 0.8162 - val_loss: 0.7502 - val_root_mean_squared_error: 0.8662\n",
      "Epoch 46/100\n",
      "5/5 [==============================] - 1s 282ms/step - loss: 0.6726 - root_mean_squared_error: 0.8201 - val_loss: 0.7502 - val_root_mean_squared_error: 0.8661\n",
      "Epoch 47/100\n",
      "5/5 [==============================] - 1s 285ms/step - loss: 0.6477 - root_mean_squared_error: 0.8048 - val_loss: 0.7715 - val_root_mean_squared_error: 0.8784\n",
      "Epoch 48/100\n",
      "5/5 [==============================] - 1s 296ms/step - loss: 0.6596 - root_mean_squared_error: 0.8122 - val_loss: 0.7558 - val_root_mean_squared_error: 0.8694\n",
      "Epoch 49/100\n",
      "5/5 [==============================] - 1s 293ms/step - loss: 0.6563 - root_mean_squared_error: 0.8101 - val_loss: 0.7553 - val_root_mean_squared_error: 0.8691\n",
      "Epoch 50/100\n",
      "5/5 [==============================] - 1s 282ms/step - loss: 0.6679 - root_mean_squared_error: 0.8173 - val_loss: 0.7547 - val_root_mean_squared_error: 0.8687\n",
      "Epoch 51/100\n",
      "5/5 [==============================] - 1s 288ms/step - loss: 0.7137 - root_mean_squared_error: 0.8448 - val_loss: 0.7801 - val_root_mean_squared_error: 0.8832\n",
      "Epoch 52/100\n",
      "5/5 [==============================] - 1s 290ms/step - loss: 0.6547 - root_mean_squared_error: 0.8091 - val_loss: 0.7737 - val_root_mean_squared_error: 0.8796\n",
      "Epoch 53/100\n",
      "5/5 [==============================] - 1s 290ms/step - loss: 0.6535 - root_mean_squared_error: 0.8084 - val_loss: 0.7544 - val_root_mean_squared_error: 0.8686\n",
      "Epoch 54/100\n",
      "5/5 [==============================] - 1s 286ms/step - loss: 0.6566 - root_mean_squared_error: 0.8103 - val_loss: 0.7644 - val_root_mean_squared_error: 0.8743\n",
      "Epoch 55/100\n",
      "5/5 [==============================] - 1s 287ms/step - loss: 0.6459 - root_mean_squared_error: 0.8037 - val_loss: 0.7603 - val_root_mean_squared_error: 0.8719\n",
      "Epoch 56/100\n",
      "5/5 [==============================] - 1s 288ms/step - loss: 0.6453 - root_mean_squared_error: 0.8033 - val_loss: 0.7734 - val_root_mean_squared_error: 0.8795\n",
      "Epoch 57/100\n",
      "5/5 [==============================] - 1s 295ms/step - loss: 0.6514 - root_mean_squared_error: 0.8071 - val_loss: 0.7607 - val_root_mean_squared_error: 0.8722\n",
      "Epoch 58/100\n",
      "5/5 [==============================] - 1s 290ms/step - loss: 0.6397 - root_mean_squared_error: 0.7998 - val_loss: 0.7664 - val_root_mean_squared_error: 0.8754\n",
      "Epoch 59/100\n",
      "5/5 [==============================] - 1s 286ms/step - loss: 0.6427 - root_mean_squared_error: 0.8017 - val_loss: 0.7697 - val_root_mean_squared_error: 0.8773\n",
      "Epoch 60/100\n",
      "5/5 [==============================] - 1s 290ms/step - loss: 0.6397 - root_mean_squared_error: 0.7998 - val_loss: 0.7726 - val_root_mean_squared_error: 0.8790\n",
      "Epoch 61/100\n",
      "5/5 [==============================] - 1s 288ms/step - loss: 0.6336 - root_mean_squared_error: 0.7960 - val_loss: 0.7667 - val_root_mean_squared_error: 0.8756\n",
      "Epoch 62/100\n",
      "5/5 [==============================] - 1s 291ms/step - loss: 0.6488 - root_mean_squared_error: 0.8055 - val_loss: 0.7666 - val_root_mean_squared_error: 0.8756\n",
      "Epoch 63/100\n",
      "5/5 [==============================] - 1s 283ms/step - loss: 0.6406 - root_mean_squared_error: 0.8004 - val_loss: 0.7650 - val_root_mean_squared_error: 0.8747\n",
      "Epoch 64/100\n",
      "5/5 [==============================] - 1s 291ms/step - loss: 0.6516 - root_mean_squared_error: 0.8072 - val_loss: 0.7793 - val_root_mean_squared_error: 0.8828\n",
      "Epoch 65/100\n",
      "5/5 [==============================] - 1s 298ms/step - loss: 0.6414 - root_mean_squared_error: 0.8009 - val_loss: 0.7727 - val_root_mean_squared_error: 0.8790\n",
      "Epoch 66/100\n",
      "5/5 [==============================] - 1s 285ms/step - loss: 0.6530 - root_mean_squared_error: 0.8081 - val_loss: 0.7779 - val_root_mean_squared_error: 0.8820\n",
      "Epoch 67/100\n",
      "5/5 [==============================] - 1s 287ms/step - loss: 0.6301 - root_mean_squared_error: 0.7938 - val_loss: 0.7573 - val_root_mean_squared_error: 0.8702\n",
      "Epoch 68/100\n",
      "5/5 [==============================] - 1s 288ms/step - loss: 0.6500 - root_mean_squared_error: 0.8063 - val_loss: 0.7579 - val_root_mean_squared_error: 0.8706\n",
      "Epoch 69/100\n",
      "5/5 [==============================] - 1s 288ms/step - loss: 0.6323 - root_mean_squared_error: 0.7952 - val_loss: 0.7710 - val_root_mean_squared_error: 0.8781\n",
      "Epoch 70/100\n",
      "5/5 [==============================] - 1s 286ms/step - loss: 0.6315 - root_mean_squared_error: 0.7947 - val_loss: 0.7546 - val_root_mean_squared_error: 0.8687\n",
      "Epoch 71/100\n",
      "5/5 [==============================] - 1s 289ms/step - loss: 0.6384 - root_mean_squared_error: 0.7990 - val_loss: 0.7635 - val_root_mean_squared_error: 0.8738\n",
      "Epoch 72/100\n",
      "5/5 [==============================] - 1s 286ms/step - loss: 0.6356 - root_mean_squared_error: 0.7973 - val_loss: 0.7683 - val_root_mean_squared_error: 0.8765\n",
      "Epoch 73/100\n",
      "5/5 [==============================] - 1s 287ms/step - loss: 0.6306 - root_mean_squared_error: 0.7941 - val_loss: 0.7661 - val_root_mean_squared_error: 0.8753\n",
      "Epoch 74/100\n",
      "5/5 [==============================] - 1s 293ms/step - loss: 0.6339 - root_mean_squared_error: 0.7962 - val_loss: 0.7799 - val_root_mean_squared_error: 0.8831\n",
      "Epoch 75/100\n",
      "5/5 [==============================] - 1s 286ms/step - loss: 0.6290 - root_mean_squared_error: 0.7931 - val_loss: 0.7693 - val_root_mean_squared_error: 0.8771\n",
      "Epoch 76/100\n",
      "5/5 [==============================] - 1s 302ms/step - loss: 0.6312 - root_mean_squared_error: 0.7945 - val_loss: 0.7800 - val_root_mean_squared_error: 0.8832\n",
      "Epoch 77/100\n",
      "5/5 [==============================] - 1s 300ms/step - loss: 0.6274 - root_mean_squared_error: 0.7921 - val_loss: 0.7704 - val_root_mean_squared_error: 0.8777\n",
      "Epoch 78/100\n",
      "5/5 [==============================] - 1s 298ms/step - loss: 0.6296 - root_mean_squared_error: 0.7935 - val_loss: 0.7784 - val_root_mean_squared_error: 0.8823\n",
      "Epoch 79/100\n",
      "5/5 [==============================] - 1s 288ms/step - loss: 0.6327 - root_mean_squared_error: 0.7954 - val_loss: 0.7710 - val_root_mean_squared_error: 0.8781\n",
      "Epoch 80/100\n",
      "5/5 [==============================] - 1s 291ms/step - loss: 0.6254 - root_mean_squared_error: 0.7908 - val_loss: 0.7786 - val_root_mean_squared_error: 0.8824\n",
      "Epoch 81/100\n",
      "5/5 [==============================] - 1s 301ms/step - loss: 0.6259 - root_mean_squared_error: 0.7911 - val_loss: 0.7724 - val_root_mean_squared_error: 0.8789\n",
      "Epoch 82/100\n",
      "5/5 [==============================] - 1s 290ms/step - loss: 0.6195 - root_mean_squared_error: 0.7871 - val_loss: 0.7736 - val_root_mean_squared_error: 0.8795\n",
      "Epoch 83/100\n",
      "5/5 [==============================] - 1s 292ms/step - loss: 0.6207 - root_mean_squared_error: 0.7878 - val_loss: 0.7730 - val_root_mean_squared_error: 0.8792\n",
      "Epoch 84/100\n",
      "5/5 [==============================] - 1s 288ms/step - loss: 0.6290 - root_mean_squared_error: 0.7931 - val_loss: 0.7788 - val_root_mean_squared_error: 0.8825\n",
      "Epoch 85/100\n",
      "5/5 [==============================] - 1s 299ms/step - loss: 0.6571 - root_mean_squared_error: 0.8106 - val_loss: 0.7666 - val_root_mean_squared_error: 0.8756\n",
      "Epoch 86/100\n",
      "5/5 [==============================] - 1s 289ms/step - loss: 0.6307 - root_mean_squared_error: 0.7942 - val_loss: 0.7920 - val_root_mean_squared_error: 0.8899\n",
      "Epoch 87/100\n",
      "5/5 [==============================] - 1s 294ms/step - loss: 0.6324 - root_mean_squared_error: 0.7952 - val_loss: 0.8145 - val_root_mean_squared_error: 0.9025\n",
      "Epoch 88/100\n",
      "5/5 [==============================] - 1s 291ms/step - loss: 0.6490 - root_mean_squared_error: 0.8056 - val_loss: 0.7716 - val_root_mean_squared_error: 0.8784\n",
      "Epoch 89/100\n",
      "5/5 [==============================] - 1s 295ms/step - loss: 0.6224 - root_mean_squared_error: 0.7889 - val_loss: 0.7807 - val_root_mean_squared_error: 0.8836\n",
      "Epoch 90/100\n",
      "5/5 [==============================] - 1s 286ms/step - loss: 0.6317 - root_mean_squared_error: 0.7948 - val_loss: 0.7731 - val_root_mean_squared_error: 0.8793\n",
      "Epoch 91/100\n",
      "5/5 [==============================] - 1s 293ms/step - loss: 0.6177 - root_mean_squared_error: 0.7859 - val_loss: 0.7742 - val_root_mean_squared_error: 0.8799\n",
      "Epoch 92/100\n",
      "5/5 [==============================] - 1s 286ms/step - loss: 0.6246 - root_mean_squared_error: 0.7903 - val_loss: 0.7695 - val_root_mean_squared_error: 0.8772\n",
      "Epoch 93/100\n",
      "5/5 [==============================] - 1s 297ms/step - loss: 0.6269 - root_mean_squared_error: 0.7918 - val_loss: 0.7763 - val_root_mean_squared_error: 0.8811\n",
      "Epoch 94/100\n",
      "5/5 [==============================] - 1s 282ms/step - loss: 0.6172 - root_mean_squared_error: 0.7856 - val_loss: 0.7800 - val_root_mean_squared_error: 0.8832\n",
      "Epoch 95/100\n",
      "5/5 [==============================] - 1s 286ms/step - loss: 0.6218 - root_mean_squared_error: 0.7885 - val_loss: 0.7845 - val_root_mean_squared_error: 0.8857\n",
      "Epoch 96/100\n",
      "5/5 [==============================] - 1s 285ms/step - loss: 0.6164 - root_mean_squared_error: 0.7851 - val_loss: 0.7790 - val_root_mean_squared_error: 0.8826\n",
      "Epoch 97/100\n",
      "5/5 [==============================] - 1s 294ms/step - loss: 0.6199 - root_mean_squared_error: 0.7873 - val_loss: 0.7796 - val_root_mean_squared_error: 0.8830\n",
      "Epoch 98/100\n",
      "5/5 [==============================] - 1s 290ms/step - loss: 0.6251 - root_mean_squared_error: 0.7907 - val_loss: 0.7828 - val_root_mean_squared_error: 0.8847\n",
      "Epoch 99/100\n",
      "5/5 [==============================] - 1s 303ms/step - loss: 0.6094 - root_mean_squared_error: 0.7806 - val_loss: 0.7807 - val_root_mean_squared_error: 0.8836\n",
      "Epoch 100/100\n",
      "5/5 [==============================] - 1s 286ms/step - loss: 0.6141 - root_mean_squared_error: 0.7836 - val_loss: 0.7827 - val_root_mean_squared_error: 0.8847\n"
     ]
    },
    {
     "data": {
      "text/plain": [
       "<keras.callbacks.History at 0x7f66074ca6d0>"
      ]
     },
     "execution_count": 231,
     "metadata": {},
     "output_type": "execute_result"
    }
   ],
   "source": [
    "model4.fit(X_train, y_train, validation_data=(X_val, y_val), epochs=100, callbacks=[cp4])"
   ]
  },
  {
   "cell_type": "code",
   "execution_count": 232,
   "metadata": {
    "id": "h1erqT-A2fZJ"
   },
   "outputs": [],
   "source": [
    "def postprocess_temp(arr):\n",
    "  arr = (arr*temp_training_std) + temp_training_mean\n",
    "  return arr"
   ]
  },
  {
   "cell_type": "code",
   "execution_count": 233,
   "metadata": {
    "id": "X3SMP6-D2oJp"
   },
   "outputs": [],
   "source": [
    "def plot_predictions2(model, X, y, start=0, end=100):\n",
    "  predictions = model.predict(X).flatten()\n",
    "  temp_preds = postprocess_temp(predictions)\n",
    "  temp_actuals =postprocess_temp(y)\n",
    "  print(predictions.shape)\n",
    "  print(y.shape)\n",
    "  df = pd.DataFrame(data={'SPI-1 Predictions': temp_preds,\n",
    "                          'SPI-1 Actuals':temp_actuals,\n",
    "                          })\n",
    "  plt.plot(df['SPI-1 Predictions'][start:end])\n",
    "  plt.plot(df['SPI-1 Actuals'][start:end])\n",
    "  return df[start:end]"
   ]
  },
  {
   "cell_type": "code",
   "execution_count": 234,
   "metadata": {
    "colab": {
     "base_uri": "https://localhost:8080/",
     "height": 708
    },
    "id": "dVNj9yeI3JoB",
    "outputId": "2d0b7b24-2548-40ee-bbd2-d9cfa59aa95c"
   },
   "outputs": [
    {
     "name": "stdout",
     "output_type": "stream",
     "text": [
      "(100,)\n",
      "(100,)\n"
     ]
    },
    {
     "data": {
      "text/html": [
       "\n",
       "  <div id=\"df-53181136-498a-4460-ace0-27c885a7038b\">\n",
       "    <div class=\"colab-df-container\">\n",
       "      <div>\n",
       "<style scoped>\n",
       "    .dataframe tbody tr th:only-of-type {\n",
       "        vertical-align: middle;\n",
       "    }\n",
       "\n",
       "    .dataframe tbody tr th {\n",
       "        vertical-align: top;\n",
       "    }\n",
       "\n",
       "    .dataframe thead th {\n",
       "        text-align: right;\n",
       "    }\n",
       "</style>\n",
       "<table border=\"1\" class=\"dataframe\">\n",
       "  <thead>\n",
       "    <tr style=\"text-align: right;\">\n",
       "      <th></th>\n",
       "      <th>SPI-1 Predictions</th>\n",
       "      <th>SPI-1 Actuals</th>\n",
       "    </tr>\n",
       "  </thead>\n",
       "  <tbody>\n",
       "    <tr>\n",
       "      <th>0</th>\n",
       "      <td>0.817529</td>\n",
       "      <td>0.746087</td>\n",
       "    </tr>\n",
       "    <tr>\n",
       "      <th>1</th>\n",
       "      <td>0.850361</td>\n",
       "      <td>0.870379</td>\n",
       "    </tr>\n",
       "    <tr>\n",
       "      <th>2</th>\n",
       "      <td>0.830502</td>\n",
       "      <td>0.765006</td>\n",
       "    </tr>\n",
       "    <tr>\n",
       "      <th>3</th>\n",
       "      <td>0.790600</td>\n",
       "      <td>0.662819</td>\n",
       "    </tr>\n",
       "    <tr>\n",
       "      <th>4</th>\n",
       "      <td>0.730581</td>\n",
       "      <td>0.720878</td>\n",
       "    </tr>\n",
       "    <tr>\n",
       "      <th>...</th>\n",
       "      <td>...</td>\n",
       "      <td>...</td>\n",
       "    </tr>\n",
       "    <tr>\n",
       "      <th>95</th>\n",
       "      <td>0.627516</td>\n",
       "      <td>0.803505</td>\n",
       "    </tr>\n",
       "    <tr>\n",
       "      <th>96</th>\n",
       "      <td>0.780563</td>\n",
       "      <td>0.834670</td>\n",
       "    </tr>\n",
       "    <tr>\n",
       "      <th>97</th>\n",
       "      <td>0.903075</td>\n",
       "      <td>0.845900</td>\n",
       "    </tr>\n",
       "    <tr>\n",
       "      <th>98</th>\n",
       "      <td>0.880682</td>\n",
       "      <td>0.784017</td>\n",
       "    </tr>\n",
       "    <tr>\n",
       "      <th>99</th>\n",
       "      <td>0.857633</td>\n",
       "      <td>0.916042</td>\n",
       "    </tr>\n",
       "  </tbody>\n",
       "</table>\n",
       "<p>100 rows × 2 columns</p>\n",
       "</div>\n",
       "      <button class=\"colab-df-convert\" onclick=\"convertToInteractive('df-53181136-498a-4460-ace0-27c885a7038b')\"\n",
       "              title=\"Convert this dataframe to an interactive table.\"\n",
       "              style=\"display:none;\">\n",
       "        \n",
       "  <svg xmlns=\"http://www.w3.org/2000/svg\" height=\"24px\"viewBox=\"0 0 24 24\"\n",
       "       width=\"24px\">\n",
       "    <path d=\"M0 0h24v24H0V0z\" fill=\"none\"/>\n",
       "    <path d=\"M18.56 5.44l.94 2.06.94-2.06 2.06-.94-2.06-.94-.94-2.06-.94 2.06-2.06.94zm-11 1L8.5 8.5l.94-2.06 2.06-.94-2.06-.94L8.5 2.5l-.94 2.06-2.06.94zm10 10l.94 2.06.94-2.06 2.06-.94-2.06-.94-.94-2.06-.94 2.06-2.06.94z\"/><path d=\"M17.41 7.96l-1.37-1.37c-.4-.4-.92-.59-1.43-.59-.52 0-1.04.2-1.43.59L10.3 9.45l-7.72 7.72c-.78.78-.78 2.05 0 2.83L4 21.41c.39.39.9.59 1.41.59.51 0 1.02-.2 1.41-.59l7.78-7.78 2.81-2.81c.8-.78.8-2.07 0-2.86zM5.41 20L4 18.59l7.72-7.72 1.47 1.35L5.41 20z\"/>\n",
       "  </svg>\n",
       "      </button>\n",
       "      \n",
       "  <style>\n",
       "    .colab-df-container {\n",
       "      display:flex;\n",
       "      flex-wrap:wrap;\n",
       "      gap: 12px;\n",
       "    }\n",
       "\n",
       "    .colab-df-convert {\n",
       "      background-color: #E8F0FE;\n",
       "      border: none;\n",
       "      border-radius: 50%;\n",
       "      cursor: pointer;\n",
       "      display: none;\n",
       "      fill: #1967D2;\n",
       "      height: 32px;\n",
       "      padding: 0 0 0 0;\n",
       "      width: 32px;\n",
       "    }\n",
       "\n",
       "    .colab-df-convert:hover {\n",
       "      background-color: #E2EBFA;\n",
       "      box-shadow: 0px 1px 2px rgba(60, 64, 67, 0.3), 0px 1px 3px 1px rgba(60, 64, 67, 0.15);\n",
       "      fill: #174EA6;\n",
       "    }\n",
       "\n",
       "    [theme=dark] .colab-df-convert {\n",
       "      background-color: #3B4455;\n",
       "      fill: #D2E3FC;\n",
       "    }\n",
       "\n",
       "    [theme=dark] .colab-df-convert:hover {\n",
       "      background-color: #434B5C;\n",
       "      box-shadow: 0px 1px 3px 1px rgba(0, 0, 0, 0.15);\n",
       "      filter: drop-shadow(0px 1px 2px rgba(0, 0, 0, 0.3));\n",
       "      fill: #FFFFFF;\n",
       "    }\n",
       "  </style>\n",
       "\n",
       "      <script>\n",
       "        const buttonEl =\n",
       "          document.querySelector('#df-53181136-498a-4460-ace0-27c885a7038b button.colab-df-convert');\n",
       "        buttonEl.style.display =\n",
       "          google.colab.kernel.accessAllowed ? 'block' : 'none';\n",
       "\n",
       "        async function convertToInteractive(key) {\n",
       "          const element = document.querySelector('#df-53181136-498a-4460-ace0-27c885a7038b');\n",
       "          const dataTable =\n",
       "            await google.colab.kernel.invokeFunction('convertToInteractive',\n",
       "                                                     [key], {});\n",
       "          if (!dataTable) return;\n",
       "\n",
       "          const docLinkHtml = 'Like what you see? Visit the ' +\n",
       "            '<a target=\"_blank\" href=https://colab.research.google.com/notebooks/data_table.ipynb>data table notebook</a>'\n",
       "            + ' to learn more about interactive tables.';\n",
       "          element.innerHTML = '';\n",
       "          dataTable['output_type'] = 'display_data';\n",
       "          await google.colab.output.renderOutput(dataTable, element);\n",
       "          const docLink = document.createElement('div');\n",
       "          docLink.innerHTML = docLinkHtml;\n",
       "          element.appendChild(docLink);\n",
       "        }\n",
       "      </script>\n",
       "    </div>\n",
       "  </div>\n",
       "  "
      ],
      "text/plain": [
       "    SPI-1 Predictions  SPI-1 Actuals\n",
       "0            0.817529       0.746087\n",
       "1            0.850361       0.870379\n",
       "2            0.830502       0.765006\n",
       "3            0.790600       0.662819\n",
       "4            0.730581       0.720878\n",
       "..                ...            ...\n",
       "95           0.627516       0.803505\n",
       "96           0.780563       0.834670\n",
       "97           0.903075       0.845900\n",
       "98           0.880682       0.784017\n",
       "99           0.857633       0.916042\n",
       "\n",
       "[100 rows x 2 columns]"
      ]
     },
     "execution_count": 234,
     "metadata": {},
     "output_type": "execute_result"
    },
    {
     "data": {
      "image/png": "[encoded data removed]",
      "text/plain": [
       "<Figure size 432x288 with 1 Axes>"
      ]
     },
     "metadata": {
      "needs_background": "light"
     },
     "output_type": "display_data"
    }
   ],
   "source": [
    "post_processed_df = plot_predictions2(model4, X_test, y_test)\n",
    "post_processed_df\n"
   ]
  },
  {
   "cell_type": "code",
   "execution_count": 136,
   "metadata": {
    "colab": {
     "base_uri": "https://localhost:8080/",
     "height": 560
    },
    "id": "yWz5Ik5B4S99",
    "outputId": "661ac1fa-e25f-45e3-87b2-cc87a9797185"
   },
   "outputs": [
    {
     "ename": "KeyError",
     "evalue": "ignored",
     "output_type": "error",
     "traceback": [
      "\u001b[0;31m---------------------------------------------------------------------------\u001b[0m",
      "\u001b[0;31mKeyError\u001b[0m                                  Traceback (most recent call last)",
      "\u001b[0;32m/usr/local/lib/python3.7/dist-packages/pandas/core/indexes/base.py\u001b[0m in \u001b[0;36mget_loc\u001b[0;34m(self, key, method, tolerance)\u001b[0m\n\u001b[1;32m   3360\u001b[0m             \u001b[0;32mtry\u001b[0m\u001b[0;34m:\u001b[0m\u001b[0;34m\u001b[0m\u001b[0;34m\u001b[0m\u001b[0m\n\u001b[0;32m-> 3361\u001b[0;31m                 \u001b[0;32mreturn\u001b[0m \u001b[0mself\u001b[0m\u001b[0;34m.\u001b[0m\u001b[0m_engine\u001b[0m\u001b[0;34m.\u001b[0m\u001b[0mget_loc\u001b[0m\u001b[0;34m(\u001b[0m\u001b[0mcasted_key\u001b[0m\u001b[0;34m)\u001b[0m\u001b[0;34m\u001b[0m\u001b[0;34m\u001b[0m\u001b[0m\n\u001b[0m\u001b[1;32m   3362\u001b[0m             \u001b[0;32mexcept\u001b[0m \u001b[0mKeyError\u001b[0m \u001b[0;32mas\u001b[0m \u001b[0merr\u001b[0m\u001b[0;34m:\u001b[0m\u001b[0;34m\u001b[0m\u001b[0;34m\u001b[0m\u001b[0m\n",
      "\u001b[0;32m/usr/local/lib/python3.7/dist-packages/pandas/_libs/index.pyx\u001b[0m in \u001b[0;36mpandas._libs.index.IndexEngine.get_loc\u001b[0;34m()\u001b[0m\n",
      "\u001b[0;32m/usr/local/lib/python3.7/dist-packages/pandas/_libs/index.pyx\u001b[0m in \u001b[0;36mpandas._libs.index.IndexEngine.get_loc\u001b[0;34m()\u001b[0m\n",
      "\u001b[0;32mpandas/_libs/hashtable_class_helper.pxi\u001b[0m in \u001b[0;36mpandas._libs.hashtable.PyObjectHashTable.get_item\u001b[0;34m()\u001b[0m\n",
      "\u001b[0;32mpandas/_libs/hashtable_class_helper.pxi\u001b[0m in \u001b[0;36mpandas._libs.hashtable.PyObjectHashTable.get_item\u001b[0;34m()\u001b[0m\n",
      "\u001b[0;31mKeyError\u001b[0m: 'Temperature Predictions'",
      "\nThe above exception was the direct cause of the following exception:\n",
      "\u001b[0;31mKeyError\u001b[0m                                  Traceback (most recent call last)",
      "\u001b[0;32m<ipython-input-136-b6c3af3c859a>\u001b[0m in \u001b[0;36m<module>\u001b[0;34m()\u001b[0m\n\u001b[1;32m      2\u001b[0m \u001b[0;32mfrom\u001b[0m \u001b[0msklearn\u001b[0m\u001b[0;34m.\u001b[0m\u001b[0mmetrics\u001b[0m \u001b[0;32mimport\u001b[0m \u001b[0mmean_squared_error\u001b[0m \u001b[0;32mas\u001b[0m \u001b[0mmse\u001b[0m\u001b[0;34m\u001b[0m\u001b[0;34m\u001b[0m\u001b[0m\n\u001b[1;32m      3\u001b[0m \u001b[0;32mfrom\u001b[0m \u001b[0msklearn\u001b[0m\u001b[0;34m.\u001b[0m\u001b[0mmetrics\u001b[0m \u001b[0;32mimport\u001b[0m \u001b[0mmean_absolute_error\u001b[0m \u001b[0;32mas\u001b[0m \u001b[0mmae\u001b[0m\u001b[0;34m\u001b[0m\u001b[0;34m\u001b[0m\u001b[0m\n\u001b[0;32m----> 4\u001b[0;31m \u001b[0mx\u001b[0m\u001b[0;34m=\u001b[0m\u001b[0;34m(\u001b[0m\u001b[0mdf\u001b[0m\u001b[0;34m[\u001b[0m\u001b[0;34m'Temperature Predictions'\u001b[0m\u001b[0;34m]\u001b[0m\u001b[0;34m[\u001b[0m\u001b[0mstart\u001b[0m\u001b[0;34m:\u001b[0m\u001b[0mend\u001b[0m\u001b[0;34m]\u001b[0m\u001b[0;34m)\u001b[0m\u001b[0;34m\u001b[0m\u001b[0;34m\u001b[0m\u001b[0m\n\u001b[0m\u001b[1;32m      5\u001b[0m \u001b[0my\u001b[0m\u001b[0;34m=\u001b[0m\u001b[0;34m(\u001b[0m\u001b[0mdf\u001b[0m\u001b[0;34m[\u001b[0m\u001b[0;34m'Temperature Actuals'\u001b[0m\u001b[0;34m]\u001b[0m\u001b[0;34m[\u001b[0m\u001b[0mstart\u001b[0m\u001b[0;34m:\u001b[0m\u001b[0mend\u001b[0m\u001b[0;34m]\u001b[0m\u001b[0;34m)\u001b[0m\u001b[0;34m\u001b[0m\u001b[0;34m\u001b[0m\u001b[0m\n\u001b[1;32m      6\u001b[0m \u001b[0;34m\u001b[0m\u001b[0m\n",
      "\u001b[0;32m/usr/local/lib/python3.7/dist-packages/pandas/core/frame.py\u001b[0m in \u001b[0;36m__getitem__\u001b[0;34m(self, key)\u001b[0m\n\u001b[1;32m   3456\u001b[0m             \u001b[0;32mif\u001b[0m \u001b[0mself\u001b[0m\u001b[0;34m.\u001b[0m\u001b[0mcolumns\u001b[0m\u001b[0;34m.\u001b[0m\u001b[0mnlevels\u001b[0m \u001b[0;34m>\u001b[0m \u001b[0;36m1\u001b[0m\u001b[0;34m:\u001b[0m\u001b[0;34m\u001b[0m\u001b[0;34m\u001b[0m\u001b[0m\n\u001b[1;32m   3457\u001b[0m                 \u001b[0;32mreturn\u001b[0m \u001b[0mself\u001b[0m\u001b[0;34m.\u001b[0m\u001b[0m_getitem_multilevel\u001b[0m\u001b[0;34m(\u001b[0m\u001b[0mkey\u001b[0m\u001b[0;34m)\u001b[0m\u001b[0;34m\u001b[0m\u001b[0;34m\u001b[0m\u001b[0m\n\u001b[0;32m-> 3458\u001b[0;31m             \u001b[0mindexer\u001b[0m \u001b[0;34m=\u001b[0m \u001b[0mself\u001b[0m\u001b[0;34m.\u001b[0m\u001b[0mcolumns\u001b[0m\u001b[0;34m.\u001b[0m\u001b[0mget_loc\u001b[0m\u001b[0;34m(\u001b[0m\u001b[0mkey\u001b[0m\u001b[0;34m)\u001b[0m\u001b[0;34m\u001b[0m\u001b[0;34m\u001b[0m\u001b[0m\n\u001b[0m\u001b[1;32m   3459\u001b[0m             \u001b[0;32mif\u001b[0m \u001b[0mis_integer\u001b[0m\u001b[0;34m(\u001b[0m\u001b[0mindexer\u001b[0m\u001b[0;34m)\u001b[0m\u001b[0;34m:\u001b[0m\u001b[0;34m\u001b[0m\u001b[0;34m\u001b[0m\u001b[0m\n\u001b[1;32m   3460\u001b[0m                 \u001b[0mindexer\u001b[0m \u001b[0;34m=\u001b[0m \u001b[0;34m[\u001b[0m\u001b[0mindexer\u001b[0m\u001b[0;34m]\u001b[0m\u001b[0;34m\u001b[0m\u001b[0;34m\u001b[0m\u001b[0m\n",
      "\u001b[0;32m/usr/local/lib/python3.7/dist-packages/pandas/core/indexes/base.py\u001b[0m in \u001b[0;36mget_loc\u001b[0;34m(self, key, method, tolerance)\u001b[0m\n\u001b[1;32m   3361\u001b[0m                 \u001b[0;32mreturn\u001b[0m \u001b[0mself\u001b[0m\u001b[0;34m.\u001b[0m\u001b[0m_engine\u001b[0m\u001b[0;34m.\u001b[0m\u001b[0mget_loc\u001b[0m\u001b[0;34m(\u001b[0m\u001b[0mcasted_key\u001b[0m\u001b[0;34m)\u001b[0m\u001b[0;34m\u001b[0m\u001b[0;34m\u001b[0m\u001b[0m\n\u001b[1;32m   3362\u001b[0m             \u001b[0;32mexcept\u001b[0m \u001b[0mKeyError\u001b[0m \u001b[0;32mas\u001b[0m \u001b[0merr\u001b[0m\u001b[0;34m:\u001b[0m\u001b[0;34m\u001b[0m\u001b[0;34m\u001b[0m\u001b[0m\n\u001b[0;32m-> 3363\u001b[0;31m                 \u001b[0;32mraise\u001b[0m \u001b[0mKeyError\u001b[0m\u001b[0;34m(\u001b[0m\u001b[0mkey\u001b[0m\u001b[0;34m)\u001b[0m \u001b[0;32mfrom\u001b[0m \u001b[0merr\u001b[0m\u001b[0;34m\u001b[0m\u001b[0;34m\u001b[0m\u001b[0m\n\u001b[0m\u001b[1;32m   3364\u001b[0m \u001b[0;34m\u001b[0m\u001b[0m\n\u001b[1;32m   3365\u001b[0m         \u001b[0;32mif\u001b[0m \u001b[0mis_scalar\u001b[0m\u001b[0;34m(\u001b[0m\u001b[0mkey\u001b[0m\u001b[0;34m)\u001b[0m \u001b[0;32mand\u001b[0m \u001b[0misna\u001b[0m\u001b[0;34m(\u001b[0m\u001b[0mkey\u001b[0m\u001b[0;34m)\u001b[0m \u001b[0;32mand\u001b[0m \u001b[0;32mnot\u001b[0m \u001b[0mself\u001b[0m\u001b[0;34m.\u001b[0m\u001b[0mhasnans\u001b[0m\u001b[0;34m:\u001b[0m\u001b[0;34m\u001b[0m\u001b[0;34m\u001b[0m\u001b[0m\n",
      "\u001b[0;31mKeyError\u001b[0m: 'Temperature Predictions'"
     ]
    }
   ],
   "source": [
    "import math \n",
    "from sklearn.metrics import mean_squared_error as mse\n",
    "from sklearn.metrics import mean_absolute_error as mae\n",
    "\n",
    "mae1=mae(x,y)\n",
    "mse1=mse((df['Temperature Actuals'][start:end]),(df['Temperature Predictions'][start:end]))\n",
    "rmse1=np.sqrt(mse1)\n",
    "r2 = r2_score((df['Temperature Actuals'][start:end]),(df['Temperature Predictions'][start:end]))\n",
    "print('Mean square error =', mse1)\n",
    "print('Mean absolute error =', mae1)\n",
    "print('Root mean square error=', rmse1)\n",
    "print('r2 score =', r2)\n"
   ]
  },
  {
   "cell_type": "code",
   "execution_count": 86,
   "metadata": {
    "id": "J7Sy7TXbvg2f"
   },
   "outputs": [],
   "source": [
    "from sklearn.metrics import mean_squared_error as mse\n",
    "import matplotlib.pyplot as plt\n",
    "def plot_predictions1(model, X, y, start=0, end=100):\n",
    "  predictions = model.predict(X).flatten()\n",
    "  print(predictions.shape)\n",
    "  print(y.shape)\n",
    "  df = pd.DataFrame(data={'Predictions':predictions, 'Actuals':y})\n",
    "  plt.plot(df['Predictions'][start:end])\n",
    "  plt.plot(df['Actuals'][start:end])\n",
    "  return df, mse(y, predictions)"
   ]
  },
  {
   "cell_type": "code",
   "execution_count": 87,
   "metadata": {
    "colab": {
     "base_uri": "https://localhost:8080/",
     "height": 557
    },
    "id": "FmwshpETs-jE",
    "outputId": "3eb5e60a-e073-4062-e336-79dd1dc15efa"
   },
   "outputs": [
    {
     "name": "stdout",
     "output_type": "stream",
     "text": [
      "(107,)\n",
      "(107,)\n"
     ]
    },
    {
     "data": {
      "text/plain": [
       "(     Predictions   Actuals\n",
       " 0       0.183951 -0.746416\n",
       " 1      -0.058177  0.370000\n",
       " 2       0.017963 -0.336389\n",
       " 3      -0.226638 -0.489013\n",
       " 4      -0.500716 -0.489013\n",
       " ..           ...       ...\n",
       " 102    -0.930384  0.324249\n",
       " 103     0.174775  0.545929\n",
       " 104     0.836938  0.625802\n",
       " 105     0.857685  0.185632\n",
       " 106     0.534975  1.124725\n",
       " \n",
       " [107 rows x 2 columns], 0.9775790004578795)"
      ]
     },
     "execution_count": 87,
     "metadata": {},
     "output_type": "execute_result"
    },
    {
     "data": {
      "image/png": "[encoded data removed]",
      "text/plain": [
       "<Figure size 432x288 with 1 Axes>"
      ]
     },
     "metadata": {
      "needs_background": "light"
     },
     "output_type": "display_data"
    }
   ],
   "source": [
    "plot_predictions1(model4, X_test, y_test)\n"
   ]
  }
 ],
 "metadata": {
  "colab": {
   "authorship_tag": "ABX9TyNaneGbs97mPGfVbx/PfVeC",
   "include_colab_link": true,
   "name": "Untitled37.ipynb",
   "provenance": []
  },
  "kernelspec": {
   "display_name": "Python 3",
   "name": "python3"
  },
  "language_info": {
   "name": "python"
  }
 },
 "nbformat": 4,
 "nbformat_minor": 0
}
