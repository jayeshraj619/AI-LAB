{
  "nbformat": 4,
  "nbformat_minor": 0,
  "metadata": {
    "colab": {
      "name": "Untitled34.ipynb",
      "provenance": [],
      "authorship_tag": "ABX9TyPq9iL+Js2xJbVQpEswuysJ",
      "include_colab_link": true
    },
    "kernelspec": {
      "name": "python3",
      "display_name": "Python 3"
    },
    "language_info": {
      "name": "python"
    }
  },
  "cells": [
    {
      "cell_type": "markdown",
      "metadata": {
        "id": "view-in-github",
        "colab_type": "text"
      },
      "source": [
        "<a href=\"https://colab.research.google.com/github/jayeshraj619/AI-LAB/blob/master/YOUTUBE%20APPUPAN.ipynb\" target=\"_parent\"><img src=\"https://colab.research.google.com/assets/colab-badge.svg\" alt=\"Open In Colab\"/></a>"
      ]
    },
    {
      "cell_type": "code",
      "execution_count": 1,
      "metadata": {
        "id": "O8AxoAd_-PA4"
      },
      "outputs": [],
      "source": [
        "import numpy as np\n",
        "from tensorflow.keras.models import Sequential\n",
        "from tensorflow.keras.layers import LSTM\n",
        "from tensorflow.keras.layers import Dense, Dropout\n",
        "import pandas as pd\n",
        "from matplotlib import pyplot as plt\n",
        "from sklearn.preprocessing import StandardScaler\n",
        "import seaborn as sns"
      ]
    },
    {
      "cell_type": "code",
      "source": [
        "#Read the csv file\n",
        "df = pd.read_csv('/content/Book1.csv')\n",
        "print(df.head()) #7 columns, including the Date"
      ],
      "metadata": {
        "colab": {
          "base_uri": "https://localhost:8080/"
        },
        "id": "0BC75TGZ-VY5",
        "outputId": "072aec3b-bd15-410c-97cb-12ec1833b383"
      },
      "execution_count": 2,
      "outputs": [
        {
          "output_type": "stream",
          "name": "stdout",
          "text": [
            "         date      SPI1       sl1  avg R.HUM   an.temp   a.solar\n",
            "0  01-01-1980 -1.714817  0.889794   0.632411 -2.147330  4.515143\n",
            "1  01-02-1980 -1.469306 -1.714817   0.680302 -3.151907  0.925778\n",
            "2  01-03-1980 -1.469306 -1.469306   0.749740 -1.640669 -1.818487\n",
            "3  01-04-1980 -1.469306 -1.469306   0.856281  0.078177 -0.988543\n",
            "4  01-05-1980 -1.469306 -1.469306   0.942733  2.525315  5.825042\n"
          ]
        }
      ]
    },
    {
      "cell_type": "code",
      "source": [
        "#Separate dates for future plotting\n",
        "train_dates = pd.to_datetime(df['date'])\n",
        "print(train_dates.tail(15)) #Check last few dates. "
      ],
      "metadata": {
        "colab": {
          "base_uri": "https://localhost:8080/"
        },
        "id": "9Mic0ZNY-X6m",
        "outputId": "45d213d4-513d-4da0-9dba-97b94d7b5380"
      },
      "execution_count": 3,
      "outputs": [
        {
          "output_type": "stream",
          "name": "stdout",
          "text": [
            "398   2013-01-03\n",
            "399   2013-01-04\n",
            "400   2013-01-05\n",
            "401   2013-01-06\n",
            "402   2013-01-07\n",
            "403   2013-01-08\n",
            "404   2013-01-09\n",
            "405   2013-01-10\n",
            "406   2013-01-11\n",
            "407   2013-01-12\n",
            "408   2014-01-01\n",
            "409   2014-01-02\n",
            "410   2014-01-03\n",
            "411   2014-01-04\n",
            "412   2014-01-05\n",
            "Name: date, dtype: datetime64[ns]\n"
          ]
        }
      ]
    },
    {
      "cell_type": "code",
      "source": [
        "#Variables for training\n",
        "cols = list(df)[1:6]\n",
        "#Date and volume columns are not used in training. \n",
        "print(cols) #['Open', 'High', 'Low', 'Close', 'Adj Close']"
      ],
      "metadata": {
        "colab": {
          "base_uri": "https://localhost:8080/"
        },
        "id": "4q01lXjw-aYx",
        "outputId": "32f5cc5c-bedf-4a95-ca55-799bfa66bdea"
      },
      "execution_count": 6,
      "outputs": [
        {
          "output_type": "stream",
          "name": "stdout",
          "text": [
            "['SPI1', 'sl1', 'avg R.HUM', 'an.temp', 'a.solar']\n"
          ]
        }
      ]
    },
    {
      "cell_type": "code",
      "source": [
        "#New dataframe with only training data - 5 columns\n",
        "df_for_training = df[cols].astype(float)"
      ],
      "metadata": {
        "id": "qTT5E5Ib-cum"
      },
      "execution_count": 7,
      "outputs": []
    },
    {
      "cell_type": "code",
      "source": [
        "#LSTM uses sigmoid and tanh that are sensitive to magnitude so values need to be normalized\n",
        "# normalize the dataset\n",
        "scaler = StandardScaler()\n",
        "scaler = scaler.fit(df_for_training)\n",
        "df_for_training_scaled = scaler.transform(df_for_training)"
      ],
      "metadata": {
        "id": "MKQTDNg8-fTt"
      },
      "execution_count": 8,
      "outputs": []
    },
    {
      "cell_type": "code",
      "source": [
        "#Empty lists to be populated using formatted training data\n",
        "trainX = []\n",
        "trainY = []\n",
        "\n",
        "n_future = 1   # Number of days we want to look into the future based on the past days.\n",
        "n_past = 14  # Number of past days we want to use to predict the future.\n"
      ],
      "metadata": {
        "id": "CZCkiPdS-jpo"
      },
      "execution_count": 9,
      "outputs": []
    },
    {
      "cell_type": "code",
      "source": [
        "for i in range(n_past, len(df_for_training_scaled) - n_future +1):\n",
        "    trainX.append(df_for_training_scaled[i - n_past:i, 0:df_for_training.shape[1]])\n",
        "    trainY.append(df_for_training_scaled[i + n_future - 1:i + n_future, 0])\n",
        "\n",
        "trainX, trainY = np.array(trainX), np.array(trainY)\n",
        "\n",
        "print('trainX shape == {}.'.format(trainX.shape))\n",
        "print('trainY shape == {}.'.format(trainY.shape))"
      ],
      "metadata": {
        "colab": {
          "base_uri": "https://localhost:8080/",
          "height": 244
        },
        "id": "5SIXOaLM-msH",
        "outputId": "a31f8973-e68a-4338-e6f8-4c60e40e832c"
      },
      "execution_count": 1,
      "outputs": [
        {
          "output_type": "error",
          "ename": "NameError",
          "evalue": "ignored",
          "traceback": [
            "\u001b[0;31m---------------------------------------------------------------------------\u001b[0m",
            "\u001b[0;31mNameError\u001b[0m                                 Traceback (most recent call last)",
            "\u001b[0;32m<ipython-input-1-c81b4286533d>\u001b[0m in \u001b[0;36m<module>\u001b[0;34m()\u001b[0m\n\u001b[0;32m----> 1\u001b[0;31m \u001b[0;32mfor\u001b[0m \u001b[0mi\u001b[0m \u001b[0;32min\u001b[0m \u001b[0mrange\u001b[0m\u001b[0;34m(\u001b[0m\u001b[0mn_past\u001b[0m\u001b[0;34m,\u001b[0m \u001b[0mlen\u001b[0m\u001b[0;34m(\u001b[0m\u001b[0mdf_for_training_scaled\u001b[0m\u001b[0;34m)\u001b[0m \u001b[0;34m-\u001b[0m \u001b[0mn_future\u001b[0m \u001b[0;34m+\u001b[0m\u001b[0;36m1\u001b[0m\u001b[0;34m)\u001b[0m\u001b[0;34m:\u001b[0m\u001b[0;34m\u001b[0m\u001b[0;34m\u001b[0m\u001b[0m\n\u001b[0m\u001b[1;32m      2\u001b[0m     \u001b[0mtrainX\u001b[0m\u001b[0;34m.\u001b[0m\u001b[0mappend\u001b[0m\u001b[0;34m(\u001b[0m\u001b[0mdf_for_training_scaled\u001b[0m\u001b[0;34m[\u001b[0m\u001b[0mi\u001b[0m \u001b[0;34m-\u001b[0m \u001b[0mn_past\u001b[0m\u001b[0;34m:\u001b[0m\u001b[0mi\u001b[0m\u001b[0;34m,\u001b[0m \u001b[0;36m0\u001b[0m\u001b[0;34m:\u001b[0m\u001b[0mdf_for_training\u001b[0m\u001b[0;34m.\u001b[0m\u001b[0mshape\u001b[0m\u001b[0;34m[\u001b[0m\u001b[0;36m1\u001b[0m\u001b[0;34m]\u001b[0m\u001b[0;34m]\u001b[0m\u001b[0;34m)\u001b[0m\u001b[0;34m\u001b[0m\u001b[0;34m\u001b[0m\u001b[0m\n\u001b[1;32m      3\u001b[0m     \u001b[0mtrainY\u001b[0m\u001b[0;34m.\u001b[0m\u001b[0mappend\u001b[0m\u001b[0;34m(\u001b[0m\u001b[0mdf_for_training_scaled\u001b[0m\u001b[0;34m[\u001b[0m\u001b[0mi\u001b[0m \u001b[0;34m+\u001b[0m \u001b[0mn_future\u001b[0m \u001b[0;34m-\u001b[0m \u001b[0;36m1\u001b[0m\u001b[0;34m:\u001b[0m\u001b[0mi\u001b[0m \u001b[0;34m+\u001b[0m \u001b[0mn_future\u001b[0m\u001b[0;34m,\u001b[0m \u001b[0;36m0\u001b[0m\u001b[0;34m]\u001b[0m\u001b[0;34m)\u001b[0m\u001b[0;34m\u001b[0m\u001b[0;34m\u001b[0m\u001b[0m\n\u001b[1;32m      4\u001b[0m \u001b[0;34m\u001b[0m\u001b[0m\n\u001b[1;32m      5\u001b[0m \u001b[0mtrainX\u001b[0m\u001b[0;34m,\u001b[0m \u001b[0mtrainY\u001b[0m \u001b[0;34m=\u001b[0m \u001b[0mnp\u001b[0m\u001b[0;34m.\u001b[0m\u001b[0marray\u001b[0m\u001b[0;34m(\u001b[0m\u001b[0mtrainX\u001b[0m\u001b[0;34m)\u001b[0m\u001b[0;34m,\u001b[0m \u001b[0mnp\u001b[0m\u001b[0;34m.\u001b[0m\u001b[0marray\u001b[0m\u001b[0;34m(\u001b[0m\u001b[0mtrainY\u001b[0m\u001b[0;34m)\u001b[0m\u001b[0;34m\u001b[0m\u001b[0;34m\u001b[0m\u001b[0m\n",
            "\u001b[0;31mNameError\u001b[0m: name 'n_past' is not defined"
          ]
        }
      ]
    },
    {
      "cell_type": "code",
      "source": [
        "model = Sequential()\n",
        "model.add(LSTM(64, activation='relu', input_shape=(trainX.shape[1], trainX.shape[2]), return_sequences=True))\n",
        "model.add(LSTM(32, activation='relu', return_sequences=False))\n",
        "model.add(Dropout(0.2))\n",
        "model.add(Dense(trainY.shape[1]))\n",
        "\n",
        "model.compile(optimizer='adam', loss='mse')\n",
        "model.summary()"
      ],
      "metadata": {
        "colab": {
          "base_uri": "https://localhost:8080/"
        },
        "id": "T15hnJbw-poz",
        "outputId": "7aff8b4f-8e77-4e85-e010-7334eaf116b2"
      },
      "execution_count": 11,
      "outputs": [
        {
          "output_type": "stream",
          "name": "stdout",
          "text": [
            "Model: \"sequential\"\n",
            "_________________________________________________________________\n",
            " Layer (type)                Output Shape              Param #   \n",
            "=================================================================\n",
            " lstm (LSTM)                 (None, 14, 64)            17920     \n",
            "                                                                 \n",
            " lstm_1 (LSTM)               (None, 32)                12416     \n",
            "                                                                 \n",
            " dropout (Dropout)           (None, 32)                0         \n",
            "                                                                 \n",
            " dense (Dense)               (None, 1)                 33        \n",
            "                                                                 \n",
            "=================================================================\n",
            "Total params: 30,369\n",
            "Trainable params: 30,369\n",
            "Non-trainable params: 0\n",
            "_________________________________________________________________\n"
          ]
        }
      ]
    },
    {
      "cell_type": "code",
      "source": [
        "# fit the model\n",
        "history = model.fit(trainX, trainY, epochs=5, batch_size=16, validation_split=0.1, verbose=1)\n",
        "\n",
        "plt.plot(history.history['loss'], label='Training loss')\n",
        "plt.plot(history.history['val_loss'], label='Validation loss')\n",
        "plt.legend()"
      ],
      "metadata": {
        "colab": {
          "base_uri": "https://localhost:8080/",
          "height": 466
        },
        "id": "DzNMcYgP-tQC",
        "outputId": "6ae7090d-46ae-4f56-8374-f7a710e5e1ff"
      },
      "execution_count": 12,
      "outputs": [
        {
          "output_type": "stream",
          "name": "stdout",
          "text": [
            "Epoch 1/5\n",
            "23/23 [==============================] - 3s 34ms/step - loss: 0.9023 - val_loss: 1.4041\n",
            "Epoch 2/5\n",
            "23/23 [==============================] - 0s 16ms/step - loss: 0.8847 - val_loss: 1.4159\n",
            "Epoch 3/5\n",
            "23/23 [==============================] - 0s 16ms/step - loss: 0.8607 - val_loss: 1.4378\n",
            "Epoch 4/5\n",
            "23/23 [==============================] - 0s 16ms/step - loss: 0.8701 - val_loss: 1.3933\n",
            "Epoch 5/5\n",
            "23/23 [==============================] - 0s 16ms/step - loss: 0.8269 - val_loss: 1.3133\n"
          ]
        },
        {
          "output_type": "execute_result",
          "data": {
            "text/plain": [
              "<matplotlib.legend.Legend at 0x7f9ce5fa0cd0>"
            ]
          },
          "metadata": {},
          "execution_count": 12
        },
        {
          "output_type": "display_data",
          "data": {
            "text/plain": [
              "<Figure size 432x288 with 1 Axes>"
            ],
            "image/png": "[encoded data removed]"
          },
          "metadata": {
            "needs_background": "light"
          }
        }
      ]
    },
    {
      "cell_type": "code",
      "source": [
        "from pandas.tseries.holiday import USFederalHolidayCalendar\n",
        "from pandas.tseries.offsets import CustomBusinessDay\n",
        "us_bd = CustomBusinessDay(calendar=USFederalHolidayCalendar())\n",
        "#Remember that we can only predict one day in future as our model needs 5 variables\n",
        "#as inputs for prediction. We only have all 5 variables until the last day in our dataset.\n",
        "n_past = 50\n",
        "n_days_for_prediction=16  #let us predict past 15 days\n",
        "\n",
        "predict_period_dates = pd.date_range(list(train_dates)[-n_past], periods=n_days_for_prediction, freq=\"m\").tolist()\n",
        "print(predict_period_dates)"
      ],
      "metadata": {
        "colab": {
          "base_uri": "https://localhost:8080/"
        },
        "id": "gmlJbGR_-x4-",
        "outputId": "50a84042-dd03-434c-fdc3-e3c410637bbc"
      },
      "execution_count": 39,
      "outputs": [
        {
          "output_type": "stream",
          "name": "stdout",
          "text": [
            "[Timestamp('2010-01-31 00:00:00', freq='M'), Timestamp('2010-02-28 00:00:00', freq='M'), Timestamp('2010-03-31 00:00:00', freq='M'), Timestamp('2010-04-30 00:00:00', freq='M'), Timestamp('2010-05-31 00:00:00', freq='M'), Timestamp('2010-06-30 00:00:00', freq='M'), Timestamp('2010-07-31 00:00:00', freq='M'), Timestamp('2010-08-31 00:00:00', freq='M'), Timestamp('2010-09-30 00:00:00', freq='M'), Timestamp('2010-10-31 00:00:00', freq='M'), Timestamp('2010-11-30 00:00:00', freq='M'), Timestamp('2010-12-31 00:00:00', freq='M'), Timestamp('2011-01-31 00:00:00', freq='M'), Timestamp('2011-02-28 00:00:00', freq='M'), Timestamp('2011-03-31 00:00:00', freq='M'), Timestamp('2011-04-30 00:00:00', freq='M')]\n"
          ]
        }
      ]
    },
    {
      "cell_type": "code",
      "source": [
        "#Make prediction\n",
        "prediction = model.predict(trainX[-n_days_for_prediction:]) #shape = (n, 1) where n is the n_days_for_prediction\n",
        "\n",
        "#Perform inverse transformation to rescale back to original range\n",
        "#Since we used 5 variables for transform, the inverse expects same dimensions\n",
        "#Therefore, let us copy our values 5 times and discard them after inverse transform\n",
        "prediction_copies = np.repeat(prediction, df_for_training.shape[1], axis=-1)\n",
        "y_pred_future = scaler.inverse_transform(prediction_copies)[:,0]"
      ],
      "metadata": {
        "id": "n71Fkb2I-0VZ"
      },
      "execution_count": 42,
      "outputs": []
    },
    {
      "cell_type": "code",
      "source": [
        "# Convert timestamp to date\n",
        "forecast_dates = []\n",
        "for time_i in predict_period_dates:\n",
        "    forecast_dates.append(time_i.date())\n",
        "    \n",
        "df_forecast = pd.DataFrame({'date':np.array(forecast_dates), 'SPI1':y_pred_future})\n",
        "df_forecast['date']=pd.to_datetime(df_forecast['date'])\n",
        "\n",
        "\n",
        "original = df[['date', 'SPI1']]\n",
        "original['date']=pd.to_datetime(original['date'])\n",
        "original = original.loc[original['date'] >= '2012-5-1']\n",
        "\n",
        "sns.lineplot(original['date'], original['SPI1'])\n",
        "sns.lineplot(df_forecast['date'], df_forecast['SPI1'])"
      ],
      "metadata": {
        "colab": {
          "base_uri": "https://localhost:8080/",
          "height": 500
        },
        "id": "kWElsiBy-57J",
        "outputId": "a767fa4a-7cd1-4dd5-db83-a39bca4c817f"
      },
      "execution_count": 43,
      "outputs": [
        {
          "output_type": "stream",
          "name": "stderr",
          "text": [
            "/usr/local/lib/python3.7/dist-packages/ipykernel_launcher.py:11: SettingWithCopyWarning: \n",
            "A value is trying to be set on a copy of a slice from a DataFrame.\n",
            "Try using .loc[row_indexer,col_indexer] = value instead\n",
            "\n",
            "See the caveats in the documentation: https://pandas.pydata.org/pandas-docs/stable/user_guide/indexing.html#returning-a-view-versus-a-copy\n",
            "  # This is added back by InteractiveShellApp.init_path()\n",
            "/usr/local/lib/python3.7/dist-packages/seaborn/_decorators.py:43: FutureWarning: Pass the following variables as keyword args: x, y. From version 0.12, the only valid positional argument will be `data`, and passing other arguments without an explicit keyword will result in an error or misinterpretation.\n",
            "  FutureWarning\n",
            "/usr/local/lib/python3.7/dist-packages/seaborn/_decorators.py:43: FutureWarning: Pass the following variables as keyword args: x, y. From version 0.12, the only valid positional argument will be `data`, and passing other arguments without an explicit keyword will result in an error or misinterpretation.\n",
            "  FutureWarning\n"
          ]
        },
        {
          "output_type": "execute_result",
          "data": {
            "text/plain": [
              "<matplotlib.axes._subplots.AxesSubplot at 0x7f9ce30d43d0>"
            ]
          },
          "metadata": {},
          "execution_count": 43
        },
        {
          "output_type": "display_data",
          "data": {
            "text/plain": [
              "<Figure size 432x288 with 1 Axes>"
            ],
            "image/png": "[encoded data removed]"
          },
          "metadata": {
            "needs_background": "light"
          }
        }
      ]
    },
    {
      "cell_type": "code",
      "source": [
        "df_forecast['SPI1']"
      ],
      "metadata": {
        "colab": {
          "base_uri": "https://localhost:8080/"
        },
        "id": "hTtXrzdXIruY",
        "outputId": "4053a2ec-a83e-40ce-c954-bb97238aa4df"
      },
      "execution_count": 38,
      "outputs": [
        {
          "output_type": "execute_result",
          "data": {
            "text/plain": [
              "0     0.077607\n",
              "1     0.077756\n",
              "2     0.058674\n",
              "3     0.023173\n",
              "4    -0.008702\n",
              "5    -0.005353\n",
              "6    -0.080406\n",
              "7    -0.099389\n",
              "8    -0.126938\n",
              "9    -0.108714\n",
              "10   -0.060819\n",
              "11    0.023925\n",
              "12    0.131012\n",
              "13    0.187340\n",
              "14    0.181713\n",
              "15    0.190644\n",
              "16    0.142341\n",
              "Name: SPI1, dtype: float32"
            ]
          },
          "metadata": {},
          "execution_count": 38
        }
      ]
    }
  ]
}
